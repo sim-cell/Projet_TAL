{
 "cells": [
  {
   "cell_type": "markdown",
   "metadata": {},
   "source": [
    "# Document classification : tutorial\n",
    "\n",
    "This practical session is dedicated to NLP basic tools that will enable us to handle textual data through the **Bag-of-Words (BoW)** paradigm.\n",
    "\n",
    "\n",
    "## A. Processing chain design\n",
    "**Main steps:**\n",
    "1. Data reading \\& importation\n",
    "    - The corpus can be loaded in RAM (otherwise, you should use a *data loader* to bufferise the importation)\n",
    "    - Encoding is a big problem: you have to make sure that the data are correctly read.\n",
    "2. Data pre-processing, transformation \\& filtering\n",
    "    - remove *useless* information: figures, ponctuations, capitals, *etc*... **usefulness depends on applications! [obviously]**\n",
    "    - Segment into words (=*Tokenization*)\n",
    "    - Elimination of stop-words\n",
    "    - Stemming/lemmatization (rootization)\n",
    "    - Byte-pair encoding to find compound words (e.g. Sorbonne University, City of Paris, Prime Minister, etc...)\n",
    "3. Digital data processing (Bag-of-Words)\n",
    "    - Normalization *term-frequency* / binarization\n",
    "    - Inverse document frequency* normalization\n",
    "    - Elimination of rare words, too frequent words\n",
    "    - Construction of separability criteria to eliminate words etc...\n",
    "4. Learning a classifier\n",
    "    - Choice of the type of classifier\n",
    "    - Adjustment of the parameters of the classifier (regularization, balancing, etc...)\n",
    "\n",
    "## B. Exploitation of the processing chain\n",
    "\n",
    "This step is called the realization of a campaign of experiments: it is the key point that we want to work on in NLP this year.\n",
    "1. It is impossible to test all the combinations in relation to the above proposals... Therefore, we have to eliminate some of them.\n",
    "    - By discussing with the business experts\n",
    "    - By doing preliminary tests\n",
    "1. After this first filtering, we must:\n",
    "    - Choose an evaluation that is reliable and not too slow (cross-validation, leave-one-out, split learning/single test)\n",
    "    - Run large experiments\n",
    "        - = *grid-search\n",
    "        - parallelise on several machines\n",
    "        - know how to run on a server and disconnect\n",
    "1. Collect and analyze results\n",
    "\n",
    "\n",
    "## C. Inference & industrialization\n",
    "\n",
    "The inference is then very classical: the optimal processing chain is able to process new documents\n",
    "\n"
   ]
  },
  {
   "cell_type": "code",
   "execution_count": 1,
   "metadata": {},
   "outputs": [],
   "source": [
    "import numpy as np\n",
    "import matplotlib.pyplot as plt\n"
   ]
  },
  {
   "cell_type": "markdown",
   "metadata": {},
   "source": [
    "# A-2: reprocessing & string manipulations \n",
    "\n",
    "1. Understand the examples\n",
    "1. Build a chain where each action can be activated/disactivated\n",
    "\n",
    "If you are not familia with regex, take a look at: https://docs.python.org/3/howto/regex.html\n",
    "\n",
    "**Regex** is probably the most important tool to custom your processing chain!"
   ]
  },
  {
   "cell_type": "code",
   "execution_count": 2,
   "metadata": {},
   "outputs": [
    {
     "name": "stdout",
     "output_type": "stream",
     "text": [
      "Le chat est devant la maison, 9 rue du zoo. Le chien attend à l'intérieur.\n",
      "Son site web préféré est www.spa.fr \n"
     ]
    }
   ],
   "source": [
    "doc = 'Le chat est devant la maison, 9 rue du zoo. Le chien attend à l\\'intérieur.\\nSon site web préféré est www.spa.fr '\n",
    "print(doc)"
   ]
  },
  {
   "cell_type": "code",
   "execution_count": 3,
   "metadata": {},
   "outputs": [
    {
     "name": "stdout",
     "output_type": "stream",
     "text": [
      "Le chat est devant la maison, 9 rue du zoo. Le chien attend à l'intérieur.\n",
      "Son site web préféré est URL \n",
      "Le chat est devant la maison,  rue du zoo. Le chien attend à l'intérieur.\n",
      "Son site web préféré est URL \n"
     ]
    }
   ],
   "source": [
    "import re\n",
    "\n",
    "# replace url by a keywork URL\n",
    "doc = re.sub('(www|http)[\\w\\.-_]+\\.(fr|com|org)', 'URL', doc)  # note: this regex is far from perfect\n",
    "print(doc)\n",
    "# you can add some special token into the document (thus add token into the dictionary)\n",
    "\n",
    "# suppress numbers\n",
    "doc = re.sub('[0-9]+', '', doc) # remplacer une séquence de chiffres par rien\n",
    "print(doc)"
   ]
  },
  {
   "cell_type": "code",
   "execution_count": 4,
   "metadata": {},
   "outputs": [
    {
     "name": "stdout",
     "output_type": "stream",
     "text": [
      "!\"#$%&'()*+,-./:;<=>?@[\\]^_`{|}~\n",
      "!\"#$%&'()*+,-./:;<=>?@[\\]^_`{|}~\n",
      "\r",
      "\t\n",
      "Le chat est devant la maison   rue du zoo  Le chien attend à l intérieur  Son site web préféré est URL \n"
     ]
    }
   ],
   "source": [
    "# retrieving (and suppressing) ponctuation\n",
    "import string\n",
    "\n",
    "punc = string.punctuation  \n",
    "print(punc)\n",
    "punc += '\\n\\r\\t'\n",
    "print(punc)\n",
    "doc = doc.translate(str.maketrans(punc, ' ' * len(punc)))  \n",
    "print(doc)"
   ]
  },
  {
   "cell_type": "code",
   "execution_count": 5,
   "metadata": {},
   "outputs": [
    {
     "name": "stdout",
     "output_type": "stream",
     "text": [
      "le chat est devant la maison   rue du zoo  le chien attend a l interieur  son site web prefere est url \n"
     ]
    }
   ],
   "source": [
    "# suppress accent and all non normalized char\n",
    "import unicodedata\n",
    "\n",
    "doc = unicodedata.normalize('NFD', doc).encode('ascii', 'ignore').decode(\"utf-8\")\n",
    "doc = doc.lower()\n",
    "print(doc )"
   ]
  },
  {
   "cell_type": "markdown",
   "metadata": {},
   "source": [
    "# A-3: Bag od Words Model \n",
    "## Tokenization (=String split) & dictionary \n",
    "\n",
    "Let's tokenize !\n",
    "\n",
    "**WARNING** : we use a standard syntax to understand the process... Later, we are going to use advanced build-in functions."
   ]
  },
  {
   "cell_type": "code",
   "execution_count": 6,
   "metadata": {},
   "outputs": [
    {
     "name": "stdout",
     "output_type": "stream",
     "text": [
      "Counter({'le': 2, 'est': 2, 'chat': 1, 'devant': 1, 'la': 1, 'maison': 1, 'rue': 1, 'du': 1, 'zoo': 1, 'chien': 1, 'attend': 1, 'a': 1, 'l': 1, 'interieur': 1, 'son': 1, 'site': 1, 'web': 1, 'prefere': 1, 'url': 1})\n"
     ]
    }
   ],
   "source": [
    "# word list\n",
    "words = doc.split() # optional args to choose the splitting chars\n",
    "\n",
    "# counting\n",
    "from collections import Counter\n",
    "\n",
    "dico = Counter(words)\n",
    "print(dico)"
   ]
  },
  {
   "cell_type": "code",
   "execution_count": 7,
   "metadata": {},
   "outputs": [
    {
     "name": "stdout",
     "output_type": "stream",
     "text": [
      "{'le': 0, 'chat': 1, 'est': 2, 'devant': 3, 'la': 4, 'maison': 5, 'rue': 6, 'du': 7, 'zoo': 8, 'chien': 9, 'attend': 10, 'a': 11, 'l': 12, 'interieur': 13, 'son': 14, 'site': 15, 'web': 16, 'prefere': 17, 'url': 18}\n",
      "index of word chat: 1\n"
     ]
    }
   ],
   "source": [
    "# dictionary = mapping function : word => index of the word in the dictionary\n",
    "\n",
    "trans = dict(zip(list(dico.keys()), np.arange(len(dico)).tolist()))\n",
    "print(trans)\n",
    "\n",
    "# test\n",
    "print('index of word chat:',trans['chat'])"
   ]
  },
  {
   "cell_type": "code",
   "execution_count": 8,
   "metadata": {},
   "outputs": [
    {
     "name": "stdout",
     "output_type": "stream",
     "text": [
      "[2. 1. 2. 1. 1. 1. 1. 1. 1. 1. 1. 1. 1. 1. 1. 1. 1. 1. 1.]\n"
     ]
    }
   ],
   "source": [
    "# Building the vector associated to the sentence\n",
    "\n",
    "d = np.zeros(len(trans))\n",
    "for m in words:\n",
    "    d[trans[m]] += 1\n",
    "    \n",
    "print(d)\n"
   ]
  },
  {
   "cell_type": "code",
   "execution_count": 9,
   "metadata": {},
   "outputs": [
    {
     "name": "stdout",
     "output_type": "stream",
     "text": [
      "  (0, 0)\t2.0\n",
      "  (0, 1)\t1.0\n",
      "  (0, 2)\t2.0\n",
      "  (0, 3)\t1.0\n",
      "  (0, 4)\t1.0\n",
      "  (0, 5)\t1.0\n",
      "  (0, 6)\t1.0\n",
      "  (0, 7)\t1.0\n",
      "  (0, 8)\t1.0\n",
      "  (0, 9)\t1.0\n",
      "  (0, 10)\t1.0\n",
      "  (0, 11)\t1.0\n",
      "  (0, 12)\t1.0\n",
      "  (0, 13)\t1.0\n",
      "  (0, 14)\t1.0\n",
      "  (0, 15)\t1.0\n",
      "  (0, 16)\t1.0\n",
      "  (0, 17)\t1.0\n",
      "  (0, 18)\t1.0\n"
     ]
    }
   ],
   "source": [
    "# switching to a sparse matrix to save some space\n",
    "from scipy.sparse import coo_matrix\n",
    "\n",
    "ds = coo_matrix(d)\n",
    "\n",
    "print(ds)   # obviously, the current vector is full of data\n",
    "            # in the future with real data, vectors will be full of 0!"
   ]
  },
  {
   "cell_type": "markdown",
   "metadata": {},
   "source": [
    "# Advanced framwork to compute bag of words \n",
    "\n",
    "The function ```sklearn.feature_extraction.text.CountVectorizer``` can perform all previous steps... And much more through (many) optional arguments\n",
    "\n",
    "1. Documentation <a href=\"https://scikit-learn.org/stable/modules/generated/sklearn.feature_extraction.text.CountVectorizer.html\"> link </a>\n",
    "    - test on toy data\n",
    "    - check your ability to exploit the dictionary \n",
    "        - retrieve the index of a word\n",
    "        - retrieve the word corresponding to an index\n",
    "    - check the filtering options (rare words etc)\n",
    "\n",
    "1. Try to extract N-grams (bigram and trigram) (cf documentation)\n",
    "\n",
    "1. it is critical to distinguish dictionary building and dictionary exploitation. (1) At the pre-processing step, we increase the vocabulary size and filter useless words... (2) The training step consists in finding the coefficients associated with each word. (3) In the inference step, the dictionary should be fixed (otherwise, the coefficients become meaningless).\n",
    "    - split your dataset into two parts\n",
    "    - constituer le dictionnaire sur les données d'apprentissage\n",
    "    - appliquer sur les données de test et vérifier que les indices d'un même mot sont bien identiques entre l'apprentissage et le test.\n",
    "    \n",
    "**WARNING** do not confuse *fit_transform* = building + use with *transform* (use only, dictionary fixed). "
   ]
  },
  {
   "cell_type": "code",
   "execution_count": 10,
   "metadata": {},
   "outputs": [
    {
     "name": "stdout",
     "output_type": "stream",
     "text": [
      "['and' 'document' 'first' 'is' 'one' 'second' 'the' 'third' 'this']\n",
      "[[0 1 1 1 0 0 1 0 1]\n",
      " [0 2 0 1 0 1 1 0 1]\n",
      " [1 0 0 1 1 0 1 1 1]\n",
      " [0 1 1 1 0 0 1 0 1]]\n"
     ]
    }
   ],
   "source": [
    "from sklearn.feature_extraction.text import CountVectorizer\n",
    "\n",
    "corpus = [\\\n",
    "     'This is the first document.',\\\n",
    "     'This document is the second document.',\\\n",
    "     'And this is the third one.',\\\n",
    "     'Is this the first document?',\\\n",
    " ]\n",
    "vectorizer = CountVectorizer()\n",
    "X = vectorizer.fit_transform(corpus) # Output is a sparse matrix\n",
    "print(vectorizer.get_feature_names_out())\n",
    "\n",
    "print(X.toarray()) # Convert to numpy array"
   ]
  },
  {
   "cell_type": "code",
   "execution_count": 11,
   "metadata": {},
   "outputs": [
    {
     "name": "stdout",
     "output_type": "stream",
     "text": [
      "['and this', 'document is', 'first document', 'is the', 'is this', 'second document', 'the first', 'the second', 'the third', 'third one', 'this document', 'this is', 'this the']\n",
      "[[0 0 1 1 0 0 1 0 0 0 0 1 0]\n",
      " [0 1 0 1 0 1 0 1 0 0 1 0 0]\n",
      " [1 0 0 1 0 0 0 0 1 1 0 1 0]\n",
      " [0 0 1 0 1 0 1 0 0 0 0 0 1]]\n"
     ]
    },
    {
     "name": "stderr",
     "output_type": "stream",
     "text": [
      "/usr/local/lib/python3.9/site-packages/sklearn/utils/deprecation.py:87: FutureWarning: Function get_feature_names is deprecated; get_feature_names is deprecated in 1.0 and will be removed in 1.2. Please use get_feature_names_out instead.\n",
      "  warnings.warn(msg, category=FutureWarning)\n"
     ]
    }
   ],
   "source": [
    "vectorizer2 = CountVectorizer(analyzer='word', ngram_range=(2, 2))\n",
    "X2 = vectorizer2.fit_transform(corpus)\n",
    "print(vectorizer2.get_feature_names())\n",
    "print(X2.toarray())"
   ]
  },
  {
   "cell_type": "code",
   "execution_count": 12,
   "metadata": {},
   "outputs": [
    {
     "name": "stdout",
     "output_type": "stream",
     "text": [
      "['and this is', 'document is the', 'is the first', 'is the second', 'is the third', 'is this the', 'the first document', 'the second document', 'the third one', 'this document is', 'this is the', 'this the first']\n",
      "[[0 0 1 0 0 0 1 0 0 0 1 0]\n",
      " [0 1 0 1 0 0 0 1 0 1 0 0]\n",
      " [1 0 0 0 1 0 0 0 1 0 1 0]\n",
      " [0 0 0 0 0 1 1 0 0 0 0 1]]\n"
     ]
    }
   ],
   "source": [
    "vectorizer3 = CountVectorizer(analyzer='word', ngram_range=(3, 3))\n",
    "X3 = vectorizer3.fit_transform(corpus)\n",
    "print(vectorizer3.get_feature_names())\n",
    "print(X3.toarray())"
   ]
  },
  {
   "cell_type": "markdown",
   "metadata": {},
   "source": [
    "# Tutorial on classifiers\n",
    "\n",
    "scikit learn is object oriented: that means you will be able to switch easily from one classifer to another. "
   ]
  },
  {
   "cell_type": "code",
   "execution_count": 13,
   "metadata": {},
   "outputs": [
    {
     "name": "stdout",
     "output_type": "stream",
     "text": [
      "LogisticRegression()\n",
      "prediction: [1]\n",
      "classifier: [[1.22602709 1.66593993]]\n"
     ]
    }
   ],
   "source": [
    "import numpy as np\n",
    "import sklearn.naive_bayes as nb\n",
    "from sklearn import svm\n",
    "from sklearn import linear_model as lin\n",
    "\n",
    "# very basic data (once understood, use textual corpus instead)\n",
    "N = 100\n",
    "X = np.random.randn(N,2) \n",
    "X[:int(N/2), :] += 2\n",
    "X[int(N/2):, :] -= 2\n",
    "y = np.array([1]*int(N/2) + [-1]*int(N/2))\n",
    "\n",
    "# Linear SVM \n",
    "#clf = svm.LinearSVC()\n",
    "# Naive Bayes\n",
    "#clf = nb.MultinomialNB()\n",
    "# logistic regression\n",
    "clf = lin.LogisticRegression()\n",
    "\n",
    "# training\n",
    "clf.fit(X, y)  \n",
    "yhat = clf.predict([[2., 2.]]) # use on new data\n",
    "print(clf)\n",
    "print(\"prediction:\",yhat)\n",
    "print(\"classifier:\",clf.coef_) # retrieve the coefs from inside the object (cf doc)"
   ]
  },
  {
   "cell_type": "code",
   "execution_count": 14,
   "metadata": {},
   "outputs": [
    {
     "name": "stdout",
     "output_type": "stream",
     "text": [
      "[1.   1.   1.   0.95 1.  ]\n"
     ]
    }
   ],
   "source": [
    "# Solution 1 to evaluate: cross validation\n",
    "\n",
    "from sklearn.model_selection import cross_val_score\n",
    "\n",
    "# everything is inside :)\n",
    "# possible to parallelize with n_jobs\n",
    "scores = cross_val_score( clf, X, y, cv=5)\n",
    "\n",
    "print(scores)"
   ]
  },
  {
   "cell_type": "code",
   "execution_count": 15,
   "metadata": {},
   "outputs": [
    {
     "name": "stdout",
     "output_type": "stream",
     "text": [
      "[ 1 -1  1 -1 -1 -1  1 -1 -1 -1 -1 -1 -1  1  1  1  1  1  1  1  1 -1  1 -1\n",
      "  1  1  1 -1 -1 -1 -1 -1 -1 -1 -1  1  1 -1 -1 -1]\n"
     ]
    }
   ],
   "source": [
    "# Solution 2: only one split between train/test\n",
    "from sklearn.model_selection import train_test_split\n",
    "\n",
    "# with a seed to enhence reproducibility\n",
    "X_train, X_test, y_train, y_test = train_test_split( X, y, test_size=0.4, random_state=0) \n",
    "clf.fit(X_train, y_train)\n",
    "\n",
    "# Application \n",
    "yhat = clf.predict(X_test)\n",
    "print(yhat)\n"
   ]
  },
  {
   "cell_type": "code",
   "execution_count": 16,
   "metadata": {},
   "outputs": [
    {
     "name": "stdout",
     "output_type": "stream",
     "text": [
      "[50 51 52 53 54 55 56 57 58 59 60 61 62 63 64 65 66 67 68 69 70 71 72 73\n",
      " 74 75 76 77 78 79 80 81 82 83 84 85 86 87 88 89 90 91 92 93 94 95 96 97\n",
      " 98 99] [ 0  1  2  3  4  5  6  7  8  9 10 11 12 13 14 15 16 17 18 19 20 21 22 23\n",
      " 24 25 26 27 28 29 30 31 32 33 34 35 36 37 38 39 40 41 42 43 44 45 46 47\n",
      " 48 49]\n",
      "[ 0  1  2  3  4  5  6  7  8  9 10 11 12 13 14 15 16 17 18 19 20 21 22 23\n",
      " 24 25 26 27 28 29 30 31 32 33 34 35 36 37 38 39 40 41 42 43 44 45 46 47\n",
      " 48 49] [50 51 52 53 54 55 56 57 58 59 60 61 62 63 64 65 66 67 68 69 70 71 72 73\n",
      " 74 75 76 77 78 79 80 81 82 83 84 85 86 87 88 89 90 91 92 93 94 95 96 97\n",
      " 98 99]\n"
     ]
    }
   ],
   "source": [
    "# Solution 3: explicit cross validation\n",
    "from sklearn.model_selection import KFold\n",
    "\n",
    "kf = KFold(n_splits=2)\n",
    "for train, test in kf.split(X):\n",
    "    print(\"%s %s\" % (train, test))\n",
    "    X_train = X[train]\n",
    "    y_train = y[train]\n",
    "    X_test  = X[test]\n",
    "    y_test  = y[test]\n",
    "    # training\n",
    "    # evaluation\n"
   ]
  },
  {
   "cell_type": "markdown",
   "metadata": {},
   "source": [
    "# let's move on real data\n",
    "# WARMUP (just read and run)\n",
    "## Step 1: Load Data"
   ]
  },
  {
   "cell_type": "code",
   "execution_count": 17,
   "metadata": {
    "scrolled": false
   },
   "outputs": [
    {
     "name": "stdout",
     "output_type": "stream",
     "text": [
      "two party guys bob their heads to haddaway's dance hit \" what is love ? \" \n",
      "while getting themselves into trouble in nightclub after nightclub . \n",
      "it's barely enough to sustain a three-minute _saturday_night_live_ skit , but _snl_ producer lorne michaels , _clueless_ creator amy heckerling , and paramount pictures saw something in the late night television institution's recurring \" roxbury guys \" sketch that would presumably make a good feature . \n",
      "emphasis on the word \" presumably . \" \n",
      "_a_night_at_the_roxbury_ takes an already-thin concept and tediously stretches it far beyond the breaking point--and that of viewers' patience levels . \n",
      "the first five minutes or so of _roxbury_ play very much like one of the original \" roxbury guys \" skits . \n",
      "with \" what is love ? \" \n",
      "blaring on the soundtrack , the brotherly duo of doug and steve butabi ( chris kattan and will ferrell ) bob their heads , scope out \" hotties \" at clubs , and then bump a select few with violent pelvic thrusts . \n",
      "there is one crucial difference , however--these guys speak . \n",
      "that little fact has been used as justification for the film's existence , that the butabis' newfound capacity for speech would open up a whole new set of doors for the characters . \n",
      "the doors opened by director john fortenberry and screenwriters steve koren , ferrell , and kattan are new , that's for sure , but they all lead to comic dead ends . \n",
      "there is no story per se , only a loosely structured and linked series of subplots . \n",
      "the brothers literally run into ( or , rather , get run into , as in by car ) richard grieco of _21_jump_street_ fame , and through him they gain entrance into the exclusive roxbury club . \n",
      "there , they meet a hotshot club owner ( chazz palminteri , conspicuously uncredited--can you blame him ? ) , who takes an interest in an idea of theirs . \n",
      "meanwhile , the bros' overbearing father ( dan hedaya ) wants them to stop clubbing . \n",
      "when doug refuses and the dimwitted steve obeys his father , a rift is created between the two . \n",
      "the narrative messiness of _roxbury_ would have been forgivable if all that went on were the slightest bit funny , but virtually none of it is . \n",
      "the assembled press audience mostly sat stonily silent throughout the entire film , with the one big exception being a big laugh near the end . \n",
      "alas , the joke--a rather lazy takeoff on _jerry_maguire_--will only strike a chord with people who have seen that film . \n",
      "granted , a lot of people _have_ seen _jerry_maguire_ , but the fact that the film's best joke is completely dependent on one's familiarity with another film says a lot about _roxbury_'s lack of inspiration . \n",
      "that lack of inspiration can be traced back to the insipid characters themselves . \n",
      "like too many of the skits on the current incarnation of _saturday_night_live_ , \" the roxbury guys \" is a one-joke sketch that never once suggests that the characters have enough comic life in them to survive outside of the sketch context . \n",
      "after watching one of the \" roxbury \" skits on snl , this is what you come away with from the characters : they bob their heads to \" what is love ? \" , \n",
      "bump unsuspecting women , and . . . that's all . \n",
      "after watching _a_night_at_the_roxbury_ , you'll be left with exactly the same . \n",
      "\n",
      "0\n",
      "-----------------\n",
      "plot : a little boy born in east germany ( named hansel ) loves the american music . \n",
      "one day , he gets the opportunity to meet and marry an american g . i . , but first , he must get a sex change ( enter hedwig ) . \n",
      "once married , the two move to the states , but quickly thereafter , get a divorce . \n",
      "at that point , hedwig starts writing music and meets another confused boy , who soon turns into a star . \n",
      "that boy also turns his back on hedwig , and it isn't long before hedwig puts together his/her own band and tours the states via seafood restaurants . \n",
      "this is the story of his/her life , told via flashbacks and musical numbers . \n",
      "critique : an artsy-fartsy musical with great songs and a superb performance by john cameron mitchell , doesn't really come together as a whole , with over-the-top symbolism , incoherence and too much pretension to retain my interest all the whole way through . \n",
      "in fact , this isn't so much of a realistic , articulate , behind-the-scenes look at the rise of a rock 'n roll star , as it is an ambiguous , overly poetic and incomprehensible struggle of a man , his sexuality and his identity as a whole person on this planet . \n",
      "i guess that i was expecting the former going in . \n",
      "the film is somewhat interesting to a point , but i was personally never able to involve myself too much , as the basic symbolic and incongruent nature of the film left me feeling cold and distant . \n",
      "but it is definitely tuned to a certain type of audience . \n",
      "chances are that if you are a fan of the wall , the rocky horror picture show or even priscilla , queen of the desert , the elements tangled in this movie will likely strike your fancy ( some of the characters in this film even ask the audience to sing along at some point , and provide the lyrics of their song , on-screen ) . \n",
      "well , i personally don't care for those films , and didn't really get into the whole \" show \" atmosphere of this movie either . \n",
      "i guess i might've looked at it all too literally , but like i said earlier , i just didn't care enough about the characters to delve into the \" so the butterfly represents his freedom ? \" \n",
      "side of things . \n",
      "all i know is that the film left me with many questions unanswered and didn't make me feel any more fulfilled . \n",
      "what was hedwig's relationship with that other member of his band ( with the beard ) ? \n",
      "what happened with hedwig and tommy gnosis at the end of the movie ? \n",
      " ( was that an actual sequence or a fantasy ? ) \n",
      "what ever happened to the lawsuit ? \n",
      "and more . . . \n",
      "all of which were part of the film and interested me somewhat . \n",
      "if the only idea behind the film was for the main character to uncover his/her sexuality , then that's one thing , but as many of the relationships and situations presented themselves in this movie , i wanted some resolution to those pieces as well . \n",
      "i didn't get it . \n",
      "the film's humor also didn't tickle my funny bone either . \n",
      "then again , i've seen many a film in these art-house theatres in which patrons are rolling down the aisles with laughter , while all i see is a tiny bit of whimsy on the screen . \n",
      "some of these films are also better enjoyed with the added \" atmosphere \" of a plant called marijuana , and i can certainly see how this movie ingrains within itself some nifty visual elements , in order to jazz up that experience . \n",
      "but being sober as i was and expecting a coherent , funny , musical with a transsexual twist , i didn't leave the theater very satisfied . \n",
      "i came out having watched an existential story of a confused man caught up in a musical lifestyle , wrapped in metaphors , dramatics and more questions than answers . \n",
      "i will , on the other hand , definitely hand some props out to the lead in this film , john cameron mitchell , who is also the man who wrote , directed and created the play on which this movie is based , and the tunes , which will likely be enjoyed by anyone who digs the sex pistols , david bowie and the whole 70s glam-rock scene . \n",
      "note : btw , it seems as though pretty much every single \" mainstream \" critic in the united states loved this movie from top to bottom ( and thought that it was really funny to boot ! ) , so you might want to take that into consideration yourself . \n",
      "but having said that , the main reason that i started this dinky website in the first place was because films like this would sometimes be uniformly applauded by the \" official \" critics , while i , a regular \" joblo \" in the audience , just wouldn't get what all the fuss was about . \n",
      "this movie is a perfect example of why i continue to write movie reviews . \n",
      "where's joblo coming from ? \n",
      "moulin rouge ( 8/10 ) - grease ( 8/10 ) - everyone says i love you ( 5/10 ) - the opposite of sex ( 8/10 ) - dancer in the dark ( 5/10 ) - o brother , where art thou ( 7/10 ) - love's labour's lost ( 8/10 ) \n",
      "\n",
      "0\n"
     ]
    }
   ],
   "source": [
    "import os.path\n",
    "\n",
    "def load_movies(path2data): # 1 classe par répertoire\n",
    "    alltxts = [] # init vide\n",
    "    labs = []\n",
    "    cpt = 0\n",
    "    for cl in os.listdir(path2data): # parcours des fichiers d'un répertoire\n",
    "        for f in os.listdir(path2data+cl):\n",
    "            txt = open(path2data+cl+'/'+f).read()\n",
    "            alltxts.append(txt)\n",
    "            labs.append(cpt)\n",
    "        cpt+=1 # chg répertoire = cht classe\n",
    "        \n",
    "    return alltxts,labs\n",
    "\n",
    "path = \"./datasets/movies/movies1000/\"\n",
    "alltxts,alllabs = load_movies(path)\n",
    "print(alltxts[1])\n",
    "print(alllabs[1])\n",
    "\n",
    "print(\"-----------------\")\n",
    "print(alltxts[6])\n",
    "print(alllabs[6])\n"
   ]
  },
  {
   "cell_type": "markdown",
   "metadata": {},
   "source": [
    "## Step 2: Feature extraction"
   ]
  },
  {
   "cell_type": "markdown",
   "metadata": {},
   "source": [
    "Now that we have the data, we need to vectorize the text so it can be used by classifiers.\n",
    "Different methods exists to vectorize text. Here we use a [bag of word](https://en.wikipedia.org/wiki/Bag-of-words_model) approach:\n",
    "\n",
    ">  In the bag of word model, a text (such as a sentence or a document) is represented as the bag (multiset) of its words, disregarding grammar and even word order but keeping multiplicity.\n",
    "\n",
    "In other words, each text becomes a (sparse) vector which codes for its words. With the following function from scikit-learn, it is straightforward to get a bag of word from raw texts: [CountVectorizer](http://scikit-learn.org/stable/modules/generated/sklearn.feature_extraction.text.CountVectorizer.html)\n",
    "\n",
    ">Convert a collection of text documents to a matrix of token counts\n",
    "This implementation produces a sparse representation of the counts using scipy.sparse.csr_matrix.\n",
    "If you do not provide an a-priori dictionary and you do not use an analyzer that does some kind of feature selection then the number of features will be equal to the vocabulary size found by analyzing the data. [USER GUIDE](http://scikit-learn.org/stable/modules/feature_extraction.html#text-feature-extraction)\n",
    "\n"
   ]
  },
  {
   "cell_type": "code",
   "execution_count": 18,
   "metadata": {},
   "outputs": [],
   "source": [
    "from sklearn.feature_extraction.text import CountVectorizer,TfidfVectorizer\n",
    "\n",
    "#vectorizer = CountVectorizer()\n",
    "vectorizer = TfidfVectorizer()\n",
    "X = vectorizer.fit_transform(alltxts)\n"
   ]
  },
  {
   "cell_type": "code",
   "execution_count": 19,
   "metadata": {},
   "outputs": [
    {
     "name": "stdout",
     "output_type": "stream",
     "text": [
      "(2000, 39659)\n",
      "[]\n"
     ]
    }
   ],
   "source": [
    "print(X.shape)\n",
    "print(vectorizer.get_feature_names_out()[70000:70500])"
   ]
  },
  {
   "cell_type": "markdown",
   "metadata": {},
   "source": [
    "--------------------------------------------------\n",
    "\n",
    "# EXERCISES (now it's your turn)"
   ]
  },
  {
   "cell_type": "markdown",
   "metadata": {},
   "source": [
    "To further improve performances, we can try to improve the simple bag of word model as used above to address some issues **=> BoW variants:**\n",
    " \n",
    "- **(a) Pre-prcessing, clean text:** punctuation, UPPER CASE, numbers... Do cleaning bring improvements?\n",
    "- **(b) Dictionary processing**: stop words (existing/corpus-specific list), frequent vs infrequent words, max number of words- \n",
    "- **(c) Binary vectors**\n",
    "- **(d) TF-IDF**\n",
    "- **(e) N-grams**\n"
   ]
  },
  {
   "cell_type": "markdown",
   "metadata": {},
   "source": [
    "**(a) Clean text ?**\n",
    "- **strip_accents:** {‘ascii’, ‘unicode’, None}\n",
    "Remove accents and perform other character normalization during the preprocessing step. ‘ascii’ is a fast method that only works on characters that have an direct ASCII mapping. ‘unicode’ is a slightly slower method that works on any characters. None (default) does nothing.\n",
    "Both ‘ascii’ and ‘unicode’ use NFKD normalization from unicodedata.normalize.\n",
    "\n",
    "- **lowercase:** boolean, True by default\n",
    "Convert all characters to lowercase before tokenizing.\n",
    "\n",
    "- **preprocessor:** callable or None (default)\n",
    "Override the preprocessing (string transformation) stage while preserving the tokenizing and n-grams generation steps.\n",
    "\n",
    "    - **token_pattern:** string. Regular expression denoting what constitutes a “token”, only used if analyzer == 'word'. The default regexp select tokens of 2 or more alphanumeric characters (punctuation is completely ignored and always treated as a token separator).\n",
    "    - **`Prepocessor`**: argument takes a function which processes text directly. This way it becomes easy to do \"fancy\" things like:\n",
    "        - [part of speech tagging](https://en.wikipedia.org/wiki/Part-of-speech_tagging)\n",
    "        - [stemming](https://en.wikipedia.org/wiki/Stemming) \n",
    "        - To do both, you can use [NLTK tagger](http://www.nltk.org/api/nltk.tag.html) and [NLTK stemmer](http://www.nltk.org/api/nltk.stem.html#module-nltk.stem).\n",
    "\n",
    "- **[Byte-pair encoding](https://www.freecodecamp.org/news/evolution-of-tokenization/)** to find compound words (e.g. Sorbonne University, City of Paris, Prime Minister, etc...)\n",
    "\n",
    "[see CountVectorizer for full doc](http://scikit-learn.org/stable/modules/generated/sklearn.feature_extraction.text.CountVectorizer.html)"
   ]
  },
  {
   "cell_type": "code",
   "execution_count": 20,
   "metadata": {},
   "outputs": [],
   "source": [
    "import re\n",
    "\n",
    "reg = \"\\b[^\\W]\\b\" #matches word with characters \n",
    "\n",
    "# 1) Try removing punctuation or putting text to lower case (maybe use a regex)\n",
    "# 2) Try \"Stemming\" - \"pos-tagging\" the text\n",
    "\n",
    "def preprocess(text):\n",
    "    \"\"\"\n",
    "    Transforms text to remove unwanted bits.\n",
    "    \"\"\"\n",
    "    punc = string.punctuation \n",
    "    punc += '\\n\\r\\t'\n",
    "    text2 = text.translate(str.maketrans(punc, ' ' * len(punc)))\n",
    "    return text2.replace(\".\",\" \") # This function is only taking care of dots, what about !:,?+-&*%\n",
    "\n",
    "vectorizer = CountVectorizer(lowercase=True,strip_accents='ascii',preprocessor=preprocess)\n",
    "X = vectorizer.fit_transform(alltxts)"
   ]
  },
  {
   "cell_type": "markdown",
   "metadata": {},
   "source": [
    "**(b) Dictionary processing**: If we visualize the word frequency distribution we see that a few words (roughly 20) appear a lot more than the others. These words are often refered to as **stop words**. Would remove them improve accuracy ?\n"
   ]
  },
  {
   "cell_type": "code",
   "execution_count": 21,
   "metadata": {},
   "outputs": [
    {
     "name": "stdout",
     "output_type": "stream",
     "text": [
      "[(',', 77717), ('the', 68368), ('.', 65876), ('a', 37123), ('and', 33726), ('of', 33698), ('to', 31471), ('is', 25017), ('in', 20012), ('\"', 17612), ('that', 14768), (')', 11781), ('(', 11664), ('it', 10546), ('as', 10422), ('with', 10407), ('for', 9427), ('his', 9008), ('film', 8843), ('this', 7965)]\n"
     ]
    },
    {
     "data": {
      "image/png": "[encoded data removed]",
      "text/plain": [
       "<Figure size 640x480 with 1 Axes>"
      ]
     },
     "metadata": {},
     "output_type": "display_data"
    }
   ],
   "source": [
    "# Let's plot the count of the 1000 most used words:\n",
    "\n",
    "import matplotlib.pyplot as plt\n",
    "%matplotlib inline\n",
    "\n",
    "from collections import Counter\n",
    "\n",
    "wc = Counter()\n",
    "for text in alltxts:\n",
    "    wc.update(text.split(\" \"))\n",
    "    \n",
    "freq = [f for w,f in wc.most_common(1000)]\n",
    "\n",
    "plt.plot(freq[:1000])\n",
    "print(wc.most_common(20))"
   ]
  },
  {
   "cell_type": "markdown",
   "metadata": {},
   "source": [
    "**Let's remove stopwords:** english stop words: direclty on sklearn \n",
    "\n",
    "- **stop_words:** string {‘english’}, list, or None (default)\n",
    "    - If ‘english’, a built-in stop word list for English is used. There are several known issues with ‘english’ and you should consider an alternative (see Using stop words).\n",
    "    - If a list, that list is assumed to contain stop words, all of which will be removed from the resulting tokens. Only applies if analyzer == 'word'.\n",
    "    - If None, no stop words will be used. max_df can be set to a value in the range [0.7, 1.0) to automatically detect and filter stop words based on intra corpus document frequency of terms.\n",
    "\n",
    "[see CountVectorizer for full doc](http://scikit-learn.org/stable/modules/generated/sklearn.feature_extraction.text.CountVectorizer.html)"
   ]
  },
  {
   "cell_type": "code",
   "execution_count": 22,
   "metadata": {},
   "outputs": [],
   "source": [
    "vectorizer = CountVectorizer(stop_words='english') "
   ]
  },
  {
   "cell_type": "markdown",
   "metadata": {},
   "source": [
    "**Build your own list**"
   ]
  },
  {
   "cell_type": "code",
   "execution_count": 23,
   "metadata": {},
   "outputs": [],
   "source": [
    "# CountVectorizer can take a list of stop words as argument.\n",
    "# Build or download a list of stop word (from NLTK for exemple)\n",
    "\n",
    "stop_words = [\"the\", \"a\", \"and\"] #Make a better list\n",
    "\n",
    "vectorizer = CountVectorizer(stop_words=stop_words)\n",
    "#X = vectorizer.fit_transform(alltxts)"
   ]
  },
  {
   "cell_type": "markdown",
   "metadata": {},
   "source": [
    "**Stopwords from other languages**"
   ]
  },
  {
   "cell_type": "code",
   "execution_count": 25,
   "metadata": {},
   "outputs": [
    {
     "name": "stdout",
     "output_type": "stream",
     "text": [
      "Defaulting to user installation because normal site-packages is not writeable\n",
      "^C\n",
      "\u001b[31mERROR: Operation cancelled by user\u001b[0m\u001b[31m\n",
      "\u001b[0m"
     ]
    }
   ],
   "source": [
    "!pip install nltk"
   ]
  },
  {
   "cell_type": "code",
   "execution_count": 24,
   "metadata": {
    "scrolled": true
   },
   "outputs": [
    {
     "ename": "ModuleNotFoundError",
     "evalue": "No module named 'nltk'",
     "output_type": "error",
     "traceback": [
      "\u001b[0;31m---------------------------------------------------------------------------\u001b[0m",
      "\u001b[0;31mModuleNotFoundError\u001b[0m                       Traceback (most recent call last)",
      "\u001b[0;32m/tmp/ipykernel_24541/1372402385.py\u001b[0m in \u001b[0;36m<cell line: 2>\u001b[0;34m()\u001b[0m\n\u001b[1;32m      1\u001b[0m \u001b[0;31m# French stop words: nltk\u001b[0m\u001b[0;34m\u001b[0m\u001b[0;34m\u001b[0m\u001b[0;34m\u001b[0m\u001b[0m\n\u001b[0;32m----> 2\u001b[0;31m \u001b[0;32mimport\u001b[0m \u001b[0mnltk\u001b[0m\u001b[0;34m\u001b[0m\u001b[0;34m\u001b[0m\u001b[0m\n\u001b[0m\u001b[1;32m      3\u001b[0m \u001b[0mnltk\u001b[0m\u001b[0;34m.\u001b[0m\u001b[0mdownload\u001b[0m\u001b[0;34m(\u001b[0m\u001b[0;34m'stopwords'\u001b[0m\u001b[0;34m)\u001b[0m\u001b[0;34m\u001b[0m\u001b[0;34m\u001b[0m\u001b[0m\n\u001b[1;32m      4\u001b[0m \u001b[0;32mfrom\u001b[0m \u001b[0mnltk\u001b[0m\u001b[0;34m.\u001b[0m\u001b[0mcorpus\u001b[0m \u001b[0;32mimport\u001b[0m \u001b[0mstopwords\u001b[0m\u001b[0;34m\u001b[0m\u001b[0;34m\u001b[0m\u001b[0m\n\u001b[1;32m      5\u001b[0m \u001b[0mfinal_stopwords_list\u001b[0m \u001b[0;34m=\u001b[0m \u001b[0mstopwords\u001b[0m\u001b[0;34m.\u001b[0m\u001b[0mwords\u001b[0m\u001b[0;34m(\u001b[0m\u001b[0;34m'english'\u001b[0m\u001b[0;34m)\u001b[0m \u001b[0;34m+\u001b[0m \u001b[0mstopwords\u001b[0m\u001b[0;34m.\u001b[0m\u001b[0mwords\u001b[0m\u001b[0;34m(\u001b[0m\u001b[0;34m'french'\u001b[0m\u001b[0;34m)\u001b[0m\u001b[0;34m\u001b[0m\u001b[0;34m\u001b[0m\u001b[0m\n",
      "\u001b[0;31mModuleNotFoundError\u001b[0m: No module named 'nltk'"
     ]
    }
   ],
   "source": [
    "# French stop words: nltk\n",
    "import nltk\n",
    "nltk.download('stopwords')\n",
    "from nltk.corpus import stopwords\n",
    "final_stopwords_list = stopwords.words('english') + stopwords.words('french')\n",
    "#print(final_stopwords_list)\n",
    "vectorizer = CountVectorizer(stop_words=final_stopwords_list)\n",
    "#vectorizer = TfidfVectorizer(stop_words=final_stopwords_list)"
   ]
  },
  {
   "cell_type": "markdown",
   "metadata": {},
   "source": [
    "**(b) Dictionary processing, restricting vocabulary size: corpus-specific stopwords** => max_df + suppress rare words (min_df) + max_features \n",
    "\n",
    "- **max_df:** float in range [0.0, 1.0] or int, default=1.0\n",
    "When building the vocabulary ignore terms that have a document frequency strictly higher than the given threshold (corpus-specific stop words). If float, the parameter represents a proportion of documents, integer absolute counts. This parameter is ignored if vocabulary is not None.\n",
    "\n",
    "- **min_df:** float in range [0.0, 1.0] or int, default=1\n",
    "When building the vocabulary ignore terms that have a document frequency strictly lower than the given threshold. This value is also called cut-off in the literature. If float, the parameter represents a proportion of documents, integer absolute counts. This parameter is ignored if vocabulary is not None.\n",
    "\n",
    "- **max_features:** int or None, default=None\n",
    "If not None, build a vocabulary that only consider the top max_features ordered by term frequency across the corpus.\n",
    "This parameter is ignored if vocabulary is not None.\n",
    "\n",
    "[see CountVectorizer for full doc](http://scikit-learn.org/stable/modules/generated/sklearn.feature_extraction.text.CountVectorizer.html)"
   ]
  },
  {
   "cell_type": "code",
   "execution_count": null,
   "metadata": {},
   "outputs": [],
   "source": [
    "# max_df: float (ratio) / integer(number) of document above which we remove the word)\n",
    "# min_df: float (ratio) / integer(number) of document under which we remove the word)\n",
    "\n",
    "min_df=5             \n",
    "max_df=0.5\n",
    "max_features=10000\n",
    "vectorizer = CountVectorizer(max_df=max_df,min_df=min_df,max_features=max_features) #try out some values\n",
    "X = vectorizer.fit_transform(alltxts)\n",
    "#What is the dictionnary size now ?\n",
    "dic_size = X.shape[1]###\n",
    "print(dic_size)"
   ]
  },
  {
   "cell_type": "markdown",
   "metadata": {},
   "source": [
    "**(c) : Binary BoW**: instead of word counts, the bag of word vector can only represent used word.\n",
    "\n",
    "- **binary:** boolean, default=False\n",
    "If True, all non zero counts are set to 1. This is useful for discrete probabilistic models that model binary events rather than integer counts.\n",
    "\n",
    "[see CountVectorizer for full doc](http://scikit-learn.org/stable/modules/generated/sklearn.feature_extraction.text.CountVectorizer.html)"
   ]
  },
  {
   "cell_type": "markdown",
   "metadata": {},
   "source": [
    "**(d) TF-IDF**: words can also be weighted by importance. $\\mbox{Corpus : } C = \\{\\mathbf d_{1},\\ldots,\\mathbf d_{|C|}\\}$, vocabulary $V = \\{\\mathbf w_{1},\\ldots,\\mathbf w_{|V|}\\}$: \n",
    "- **$d_{ik}^{(tf)}$ term frequency** for word $w_k$ in document $d_i$, s.t. $\\sum\\limits_{k=1}^{|V|}d_{ik}^{(tf)}=1$\n",
    "- **$\\mathrm{df_{k}}$ document frequency** $\\mathrm{df_{k}} =  \\frac{|\\{\\mathbf d: t_{k} \\in \\mathbf d\\}|}{|C|}$\n",
    "\n",
    "$$ d_{ik}^{(tfidf)} = d_{ik}^{(tf)}   \\log \\frac{1}{\\mathrm{df_{k}}} $$\n",
    "\n",
    "\n",
    "## [TfidfVectorizer from scikit can be directly used](http://scikit-learn.org/stable/modules/generated/sklearn.feature_extraction.text.TfidfVectorizer.html#sklearn.feature_extraction.text.TfidfVectorizer): experiment it!\n",
    "\n",
    "**Main paramters:**\n",
    "- **use_idf:** boolean, default=True. \n",
    "- **smooth_idf:** Smooth idf weights, default=True. Adds one to document frequencies, as if an extra document was seen containing every term in the collection exactly once. Prevents zero divisions.\n",
    "- **sublinear_tf:** boolean, default=bool, default=False. Apply sublinear tf scaling, i.e. replace $d_{ik}^{(tf)}$ with $1 + log(d_{ik}^{(tf)})$.\n",
    "\n"
   ]
  },
  {
   "cell_type": "code",
   "execution_count": null,
   "metadata": {},
   "outputs": [],
   "source": [
    "from sklearn.feature_extraction.text import TfidfVectorizer\n",
    "\n",
    "use_idf=True          \n",
    "smooth_idf=True      \n",
    "sublinear_tf=False    \n",
    "\n",
    "vectorizer = TfidfVectorizer(use_idf= use_idf, smooth_idf=smooth_idf, sublinear_tf=sublinear_tf)\n",
    "    "
   ]
  },
  {
   "cell_type": "markdown",
   "metadata": {},
   "source": [
    "**(e) n-grams**: instead of words, consider n-uplets of words as tokens\n",
    "\n",
    "- **ngram_range:** tuple (min_n, max_n)\n",
    "The lower and upper boundary of the range of n-values for different n-grams to be extracted. All values of n such that min_n <= n <= max_n will be used.\n",
    "\n",
    "- **analyzer:** string, {‘word’, ‘char’, ‘char_wb’} or callable\n",
    "Whether the feature should be made of word or character n-grams. Option ‘char_wb’ creates character n-grams only from text inside word boundaries; n-grams at the edges of words are padded with space.\n",
    "If a callable is passed it is used to extract the sequence of features out of the raw, unprocessed input.\n",
    "\n",
    "[see CountVectorizer for full doc](http://scikit-learn.org/stable/modules/generated/sklearn.feature_extraction.text.CountVectorizer.html)"
   ]
  },
  {
   "cell_type": "code",
   "execution_count": null,
   "metadata": {},
   "outputs": [],
   "source": [
    "ngram_range = (1,2) # unigrams and bigrams\n",
    "vectorizer = CountVectorizer(ngram_range=ngram_range,analyzer='word') # Maybe 2-grams or 3-grams bring improvements ?\n",
    "X = vectorizer.fit_transform(alltxts)\n",
    "#What is the dictionnary size now ?\n",
    "dic_size = X.shape[1]###\n",
    "print(dic_size)"
   ]
  },
  {
   "cell_type": "markdown",
   "metadata": {},
   "source": [
    "## Step 3: Classifiers\n",
    "\n",
    "Once we have vectorized data, we can use them to train statistical classifiers.\n",
    "\n",
    "Here, we propose to use three classic options:\n",
    "\n",
    "- Naïve bayes\n",
    "- Logistic Regression\n",
    "- SVM\n",
    "\n",
    "\n",
    "We fit each model below with default parameters"
   ]
  },
  {
   "cell_type": "markdown",
   "metadata": {},
   "source": [
    "## Train / test split"
   ]
  },
  {
   "cell_type": "code",
   "execution_count": null,
   "metadata": {},
   "outputs": [],
   "source": [
    "from sklearn.model_selection import train_test_split\n",
    "\n",
    "#vectorizer = CountVectorizer()\n",
    "vectorizer = TfidfVectorizer()\n",
    "\n",
    "X = vectorizer.fit_transform(alltxts)\n",
    "\n",
    "rs=10\n",
    "[X_train, X_test, y_train, y_test]  = train_test_split(X, alllabs, test_size=0.2, random_state=rs, shuffle=True)\n",
    "\n",
    "\n",
    "print(X_train.shape)\n",
    "print(X_test.shape)\n",
    "print(len(y_train))\n"
   ]
  },
  {
   "cell_type": "markdown",
   "metadata": {},
   "source": [
    "### We train each ML model on the train set an we evaluate the accuracy on the test set"
   ]
  },
  {
   "cell_type": "code",
   "execution_count": null,
   "metadata": {},
   "outputs": [],
   "source": [
    "from sklearn.naive_bayes import MultinomialNB\n",
    "from sklearn.linear_model import LogisticRegression\n",
    "from sklearn.svm import LinearSVC\n",
    "from sklearn.metrics import accuracy_score\n",
    "\n",
    "\n",
    "#Naïve Bayes\n",
    "nb_clf = MultinomialNB()\n",
    "nb_clf.fit(X_train, y_train)\n",
    "\n",
    "\n",
    "#Logistic Regression\n",
    "t = 1e-8\n",
    "C=100.0\n",
    "lr_clf = LogisticRegression(random_state=0, solver='liblinear',max_iter=100, tol=t, C=C)\n",
    "lr_clf.fit(X_train, y_train)\n",
    "\n",
    "#Linear SVM\n",
    "svm_clf = LinearSVC(random_state=0)\n",
    "svm_clf.fit(X_train, y_train)\n",
    "\n",
    "pred_nbt = nb_clf.predict(X_train)\n",
    "pred_lrt = lr_clf.predict(X_train)\n",
    "pred_svmt = svm_clf.predict(X_train)\n",
    "\n",
    "pred_nb = nb_clf.predict(X_test)\n",
    "pred_lr = lr_clf.predict(X_test)\n",
    "pred_svm = svm_clf.predict(X_test)\n",
    "\n",
    "\n",
    "print(f\"Naïve Bayes accuracy train={accuracy_score(y_train, pred_nbt)}, accuracy test={accuracy_score(y_test, pred_nb)}\")\n",
    "print(f\"Logistic Regression accuracy train={accuracy_score(y_train, pred_lrt)}, accuracy test={accuracy_score(y_test, pred_lr)}\")\n",
    "print(f\"SVM accurac ytrain={accuracy_score(y_train, pred_svmt)}, accuracy test={accuracy_score(y_test, pred_svm)}\")"
   ]
  },
  {
   "cell_type": "markdown",
   "metadata": {},
   "source": [
    "# Answer the following questions\n",
    "\n",
    "- What is the most effective pre-processing ?\n",
    "- Which model is the most accurate ?"
   ]
  },
  {
   "cell_type": "markdown",
   "metadata": {},
   "source": [
    "# Improving classifier performances\n",
    "- **Using regularization** if the number of training sample is small wrt BoW size\n",
    "- **Using relancing** if the number examples across class is inbalanced"
   ]
  },
  {
   "cell_type": "markdown",
   "metadata": {},
   "source": [
    "## Linear Models : Logistic Regression & SVM\n",
    "\n",
    "\n",
    "For linear models, we can look at feature coefficients:\n",
    " [Logistic Regression](http://scikit-learn.org/stable/modules/generated/sklearn.linear_model.LogisticRegression.html)\n",
    " \n",
    " \t\n",
    "- **coef_:** array, shape (1, n_features) or (n_classes, n_features). Coefficient of the features in the decision function. coef_ is of shape (1, n_features) when the given problem is binary. In particular, when multi_class=’multinomial’, coef_ corresponds to outcome 1 (True) and -coef_ corresponds to outcome 0 (False)."
   ]
  },
  {
   "cell_type": "code",
   "execution_count": null,
   "metadata": {},
   "outputs": [],
   "source": [
    "#Logistic Regression\n",
    "k = 50 # we want the 50 most negative and positive words\n",
    "feat = lr_clf.coef_[0] \n"
   ]
  },
  {
   "cell_type": "code",
   "execution_count": null,
   "metadata": {},
   "outputs": [],
   "source": [
    "#SVM\n",
    "k = 50 # we want the 50 most negative and positive words\n",
    "feat = svm_clf.coef_[0]"
   ]
  },
  {
   "cell_type": "markdown",
   "metadata": {},
   "source": [
    "\n"
   ]
  }
 ],
 "metadata": {
  "kernelspec": {
   "display_name": "Python 3 (ipykernel)",
   "language": "python",
   "name": "python3"
  },
  "language_info": {
   "codemirror_mode": {
    "name": "ipython",
    "version": 3
   },
   "file_extension": ".py",
   "mimetype": "text/x-python",
   "name": "python",
   "nbconvert_exporter": "python",
   "pygments_lexer": "ipython3",
   "version": "3.9.6"
  }
 },
 "nbformat": 4,
 "nbformat_minor": 2
}
