{
 "cells": [
  {
   "cell_type": "code",
   "execution_count": 7,
   "id": "94be2731",
   "metadata": {},
   "outputs": [],
   "source": [
    "from utils_donnee import *\n",
    "from evaluation import *\n",
    "from sklearn.feature_extraction.text import CountVectorizer,TfidfVectorizer\n",
    "from sklearn.svm import LinearSVC\n",
    "from sklearn.linear_model import LogisticRegression\n",
    "from nltk.corpus import stopwords\n",
    "import numpy as np"
   ]
  },
  {
   "cell_type": "raw",
   "id": "e78e7e49",
   "metadata": {},
   "source": [
    "#test12\n",
    "preprocessor = lambda text: remove_tags(transform_uppercase(chiffre_suppression(ponc_suppression(text))))\n",
    "vect_params = {}\n",
    "model_params = {'random_state': 0,'dual': False}\n",
    "res = prediction_generator(preprocessor,TfidfVectorizer,vect_params,LinearSVC,model_params,save=True)\n",
    "np.unique(np.array(res))"
   ]
  },
  {
   "cell_type": "raw",
   "id": "5516b312",
   "metadata": {},
   "source": [
    "#test_13\n",
    "preprocessor = lambda text: remove_tags(transform_uppercase(chiffre_suppression(ponc_suppression(text))))\n",
    "vect_params = {'max_features':10000}\n",
    "model_params = {'random_state': 0,'dual': False}\n",
    "res = prediction_generator(preprocessor,TfidfVectorizer,vect_params,LinearSVC,model_params,save=True)"
   ]
  },
  {
   "cell_type": "raw",
   "id": "f0e835d2",
   "metadata": {},
   "source": [
    "#test_14\n",
    "preprocessor = lambda text: remove_tags(transform_uppercase(chiffre_suppression(ponc_suppression(text))))\n",
    "vect_params = {'stop_words':stopwords.words('english'),'max_features':10000}\n",
    "model_params = {'random_state': 0,'dual': False}\n",
    "res = prediction_generator(preprocessor,TfidfVectorizer,vect_params,LinearSVC,model_params,save=True)"
   ]
  },
  {
   "cell_type": "raw",
   "id": "7e9d2a08",
   "metadata": {},
   "source": [
    "#test_15\n",
    "preprocessor =  lambda text: stem(remove_tags(transform_uppercase(chiffre_suppression(ponc_suppression(text)))))\n",
    "vect_params = {'stop_words':stopwords.words('english'),'max_features':10000}\n",
    "model_params = {'random_state': 0,'dual': False}\n",
    "res = prediction_generator(preprocessor,TfidfVectorizer,vect_params,LogisticRegression,model_params,save=True)"
   ]
  },
  {
   "cell_type": "raw",
   "id": "c4d5ace7",
   "metadata": {},
   "source": [
    "#test_16\n",
    "preprocessor =  lambda text: stem(remove_tags(transform_uppercase(chiffre_suppression(ponc_suppression(text)))))\n",
    "vect_params = {'stop_words':stopwords.words('english'),'max_features':10000}\n",
    "model_params = {'random_state': 0,'dual': False}\n",
    "res = prediction_generator(preprocessor,TfidfVectorizer,vect_params,LinearSVC,model_params,save=True)"
   ]
  },
  {
   "cell_type": "code",
   "execution_count": 8,
   "id": "342dfe5d",
   "metadata": {},
   "outputs": [
    {
     "name": "stdout",
     "output_type": "stream",
     "text": [
      "25000\n"
     ]
    },
    {
     "name": "stderr",
     "output_type": "stream",
     "text": [
      "c:\\Users\\PC\\miniconda3\\Lib\\site-packages\\sklearn\\feature_extraction\\text.py:408: UserWarning: Your stop_words may be inconsistent with your preprocessing. Tokenizing the stop words generated tokens ['arent', 'couldnt', 'didnt', 'doesnt', 'dont', 'hadnt', 'hasnt', 'havent', 'isnt', 'mightnt', 'mustnt', 'neednt', 'shant', 'shes', 'shouldnt', 'shouldve', 'thatll', 'wasnt', 'werent', 'wont', 'wouldnt', 'youd', 'youll', 'youre', 'youve'] not in stop_words.\n",
      "  warnings.warn(\n"
     ]
    },
    {
     "name": "stdout",
     "output_type": "stream",
     "text": [
      "[1 1 0 0]\n"
     ]
    }
   ],
   "source": [
    "#test_17\n",
    "preprocessor = lambda text: remove_tags(transform_uppercase(chiffre_suppression(ponc_suppression(text))))\n",
    "vect_params = {'stop_words':stopwords.words('english'),'max_features':10000}\n",
    "model_params = {'random_state': 0,'dual': False}\n",
    "res = prediction_generator(preprocessor,TfidfVectorizer,vect_params,LogisticRegression,model_params,save=True)"
   ]
  },
  {
   "cell_type": "code",
   "execution_count": null,
   "id": "49d0221b",
   "metadata": {},
   "outputs": [],
   "source": []
  }
 ],
 "metadata": {
  "kernelspec": {
   "display_name": "Python 3",
   "language": "python",
   "name": "python3"
  },
  "language_info": {
   "codemirror_mode": {
    "name": "ipython",
    "version": 3
   },
   "file_extension": ".py",
   "mimetype": "text/x-python",
   "name": "python",
   "nbconvert_exporter": "python",
   "pygments_lexer": "ipython3",
   "version": "3.11.5"
  }
 },
 "nbformat": 4,
 "nbformat_minor": 5
}
