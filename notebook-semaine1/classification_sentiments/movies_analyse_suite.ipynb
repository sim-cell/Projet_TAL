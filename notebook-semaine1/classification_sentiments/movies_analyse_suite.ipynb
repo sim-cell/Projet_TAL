{
 "cells": [
  {
   "cell_type": "markdown",
   "id": "39bef124",
   "metadata": {},
   "source": [
    "# Classification des sentiments\n",
    "### SOYKOK Aylin 28711545 - CELIK Simay 28713301\n",
    "## Machine Learning "
   ]
  },
  {
   "cell_type": "code",
   "execution_count": 1,
   "id": "c411e5f3",
   "metadata": {},
   "outputs": [],
   "source": [
    "import numpy as np\n",
    "import matplotlib.pyplot as plt\n",
    "import codecs\n",
    "import re\n",
    "import os.path\n",
    "import string\n",
    "import nltk\n",
    "from wordcloud import WordCloud\n",
    "from sklearn.feature_extraction.text import CountVectorizer,TfidfVectorizer\n",
    "from collections import Counter\n",
    "from nltk.corpus import stopwords\n",
    "from utils_donnee import *\n",
    "from evaluation import *\n",
    "\n",
    "# Chargement des données\n",
    "path = \"./datasets/movies/movies1000/\"\n",
    "alltxts,alllabs = load_movies(path)"
   ]
  },
  {
   "cell_type": "markdown",
   "id": "de6823d0",
   "metadata": {},
   "source": [
    "## C) Modèles de Machine Learning + Métriques d'évaluation"
   ]
  },
  {
   "cell_type": "markdown",
   "id": "4bd74356",
   "metadata": {},
   "source": [
    "### Durée de classification selon la taille de vocabulaire et le classifieur"
   ]
  },
  {
   "cell_type": "code",
   "execution_count": 2,
   "id": "555916d8",
   "metadata": {
    "scrolled": false
   },
   "outputs": [
    {
     "name": "stdout",
     "output_type": "stream",
     "text": [
      "Comparaison des modèles : type\n",
      "LOGISTIC REGRESSION\n",
      "Résultats \n",
      "Resultats cross validation\n",
      "Durée d'exécution : 0.8769998550415039\n",
      "Acc\tF1\tROC-AUC\tAP:\n",
      "0.7185 \t0.7214 \t0.7900 \t0.7841\n",
      "_____________________________________________\n",
      "\n",
      "SVM \n",
      "Résultats\n",
      "Resultats cross validation\n",
      "Durée d'exécution : 0.9010076522827148\n",
      "Acc\tF1\tROC-AUC\tAP:\n",
      "0.7265 \t0.7296 \t0.7937 \t0.7884\n",
      "_____________________________________________\n",
      "\n",
      " MultinomialNB \n",
      "Résultats\n",
      "Resultats cross validation\n",
      "Durée d'exécution : 0.7580063343048096\n",
      "Acc\tF1\tROC-AUC\tAP:\n",
      "0.6955 \t0.7022 \t0.7622 \t0.7626\n",
      "______________________________________________________\n",
      "Taux d'accuracy de LinReg contre LinSVM : 0.0\n",
      "Taux d'accuracy de LinReg contre Multinom : 1.0\n",
      "Comparaison des modèles : type\n",
      "LOGISTIC REGRESSION\n",
      "Résultats \n",
      "Resultats cross validation\n",
      "Durée d'exécution : 1.1610007286071777\n",
      "Acc\tF1\tROC-AUC\tAP:\n",
      "0.8100 \t0.8089 \t0.8911 \t0.8844\n",
      "_____________________________________________\n",
      "\n",
      "SVM \n",
      "Résultats\n",
      "Resultats cross validation\n",
      "Durée d'exécution : 1.01200270652771\n",
      "Acc\tF1\tROC-AUC\tAP:\n",
      "0.8270 \t0.8279 \t0.9072 \t0.9047\n",
      "_____________________________________________\n",
      "\n",
      " MultinomialNB \n",
      "Résultats\n",
      "Resultats cross validation\n",
      "Durée d'exécution : 0.8080055713653564\n",
      "Acc\tF1\tROC-AUC\tAP:\n",
      "0.7930 \t0.7934 \t0.8761 \t0.8769\n",
      "______________________________________________________\n",
      "Taux d'accuracy de LinReg contre LinSVM : 0.0\n",
      "Taux d'accuracy de LinReg contre Multinom : 1.0\n",
      "Comparaison des modèles : type\n",
      "LOGISTIC REGRESSION\n",
      "Résultats \n",
      "Resultats cross validation\n",
      "Durée d'exécution : 1.266000747680664\n",
      "Acc\tF1\tROC-AUC\tAP:\n",
      "0.8525 \t0.8523 \t0.9226 \t0.9222\n",
      "_____________________________________________\n",
      "\n",
      "SVM \n",
      "Résultats\n",
      "Resultats cross validation\n",
      "Durée d'exécution : 1.100006341934204\n",
      "Acc\tF1\tROC-AUC\tAP:\n",
      "0.8580 \t0.8587 \t0.9277 \t0.9277\n",
      "_____________________________________________\n",
      "\n",
      " MultinomialNB \n",
      "Résultats\n",
      "Resultats cross validation\n",
      "Durée d'exécution : 0.8269960880279541\n",
      "Acc\tF1\tROC-AUC\tAP:\n",
      "0.8165 \t0.8105 \t0.8954 \t0.8983\n",
      "______________________________________________________\n",
      "Taux d'accuracy de LinReg contre LinSVM : 0.0\n",
      "Taux d'accuracy de LinReg contre Multinom : 1.0\n",
      "Comparaison des modèles : type\n",
      "LOGISTIC REGRESSION\n",
      "Résultats \n",
      "Resultats cross validation\n",
      "Durée d'exécution : 1.2990005016326904\n",
      "Acc\tF1\tROC-AUC\tAP:\n",
      "0.8615 \t0.8633 \t0.9303 \t0.9281\n",
      "_____________________________________________\n",
      "\n",
      "SVM \n",
      "Résultats\n",
      "Resultats cross validation\n",
      "Durée d'exécution : 1.126006841659546\n",
      "Acc\tF1\tROC-AUC\tAP:\n",
      "0.8620 \t0.8634 \t0.9323 \t0.9308\n",
      "_____________________________________________\n",
      "\n",
      " MultinomialNB \n",
      "Résultats\n",
      "Resultats cross validation\n",
      "Durée d'exécution : 0.8020064830780029\n",
      "Acc\tF1\tROC-AUC\tAP:\n",
      "0.8195 \t0.8111 \t0.8979 \t0.8968\n",
      "______________________________________________________\n",
      "Taux d'accuracy de LinReg contre LinSVM : 0.0\n",
      "Taux d'accuracy de LinReg contre Multinom : 1.0\n",
      "Comparaison des modèles : type\n",
      "LOGISTIC REGRESSION\n",
      "Résultats \n",
      "Resultats cross validation\n",
      "Durée d'exécution : 1.575000524520874\n",
      "Acc\tF1\tROC-AUC\tAP:\n",
      "0.8630 \t0.8645 \t0.9313 \t0.9298\n",
      "_____________________________________________\n",
      "\n",
      "SVM \n",
      "Résultats\n",
      "Resultats cross validation\n",
      "Durée d'exécution : 1.31795334815979\n",
      "Acc\tF1\tROC-AUC\tAP:\n",
      "0.8610 \t0.8624 \t0.9319 \t0.9307\n",
      "_____________________________________________\n",
      "\n",
      " MultinomialNB \n",
      "Résultats\n",
      "Resultats cross validation\n",
      "Durée d'exécution : 0.7990005016326904\n",
      "Acc\tF1\tROC-AUC\tAP:\n",
      "0.8185 \t0.8062 \t0.8991 \t0.8982\n",
      "______________________________________________________\n",
      "Taux d'accuracy de LinReg contre LinSVM : 0.5\n",
      "Taux d'accuracy de LinReg contre Multinom : 1.0\n",
      "Comparaison des modèles : type\n",
      "LOGISTIC REGRESSION\n",
      "Résultats \n",
      "Resultats cross validation\n",
      "Durée d'exécution : 1.6110002994537354\n",
      "Acc\tF1\tROC-AUC\tAP:\n",
      "0.8580 \t0.8594 \t0.9303 \t0.9287\n",
      "_____________________________________________\n",
      "\n",
      "SVM \n",
      "Résultats\n",
      "Resultats cross validation\n",
      "Durée d'exécution : 1.3710041046142578\n",
      "Acc\tF1\tROC-AUC\tAP:\n",
      "0.8585 \t0.8600 \t0.9303 \t0.9289\n",
      "_____________________________________________\n",
      "\n",
      " MultinomialNB \n",
      "Résultats\n",
      "Resultats cross validation\n",
      "Durée d'exécution : 0.8100001811981201\n",
      "Acc\tF1\tROC-AUC\tAP:\n",
      "0.8130 \t0.7998 \t0.8980 \t0.8976\n",
      "______________________________________________________\n",
      "Taux d'accuracy de LinReg contre LinSVM : 0.0\n",
      "Taux d'accuracy de LinReg contre Multinom : 1.0\n",
      "Meilleur max_features 10000\n"
     ]
    }
   ],
   "source": [
    "vectorizer = TfidfVectorizer()\n",
    "X = vectorizer.fit_transform(alltxts)\n",
    "vocabulary = vectorizer.vocabulary_\n",
    "max_features_list = [100,1000,3000,5000,10000,len(vocabulary)]\n",
    "model_params_LR = {'C': 100.0, 'solver': 'liblinear'}\n",
    "model_params_SVM = {'random_state': 0,'dual': False}\n",
    "vectorizer = TfidfVectorizer\n",
    "preprocessor= lambda text: remove_tags(transform_uppercase(chiffre_suppression(ponc_suppression(text))))\n",
    "best_result = [0,0,0,0]\n",
    "best_max = 0\n",
    "for max_features in max_features_list:\n",
    "    vect_params = {'max_features':max_features}\n",
    "    res = comparaison_evaluation_single(preprocessor,vectorizer,vect_params,model_params_LR,model_params_SVM,eval_func=eval_crossval,result_type='lr',timer=True)\n",
    "    if accuracy_difference(res,best_result)[1] > 0.5:\n",
    "        best_result = res\n",
    "        best_max = max_features\n",
    "print(\"Meilleur max_features\",best_max)"
   ]
  },
  {
   "cell_type": "markdown",
   "id": "01d50e56",
   "metadata": {},
   "source": [
    "### Mise en place de la validation croisée au lieu de train-test-split"
   ]
  },
  {
   "cell_type": "code",
   "execution_count": 3,
   "id": "03c597cf",
   "metadata": {},
   "outputs": [
    {
     "name": "stdout",
     "output_type": "stream",
     "text": [
      "Comparaison des modèles : type\n",
      "LOGISTIC REGRESSION\n",
      "Résultats \n",
      "Resultats cross validation\n",
      "Acc\tF1\tROC-AUC\tAP:\n",
      "0.8580 \t0.8594 \t0.9303 \t0.9287\n",
      "_____________________________________________\n",
      "\n",
      "SVM \n",
      "Résultats\n",
      "Resultats cross validation\n",
      "Acc\tF1\tROC-AUC\tAP:\n",
      "0.8585 \t0.8600 \t0.9303 \t0.9289\n",
      "_____________________________________________\n",
      "\n",
      " MultinomialNB \n",
      "Résultats\n",
      "Resultats cross validation\n",
      "Acc\tF1\tROC-AUC\tAP:\n",
      "0.8130 \t0.7998 \t0.8980 \t0.8976\n",
      "______________________________________________________\n",
      "Taux d'accuracy de LinReg contre LinSVM : 0.0\n",
      "Taux d'accuracy de LinReg contre Multinom : 1.0\n",
      "______________________\n"
     ]
    }
   ],
   "source": [
    "vect_params_tf, vect_params_svm = {},{}\n",
    "model_params_LR = {'C': 100.0, 'solver': 'liblinear'}\n",
    "model_params_SVM = {'random_state': 0,'dual': False}\n",
    "preprocessor = lambda text: remove_tags(transform_uppercase(chiffre_suppression(ponc_suppression(text))))\n",
    "res_tous = comparaison_evaluation_single(preprocessor,TfidfVectorizer,vect_params_tf,model_params_LR,model_params_SVM,eval_func=eval_crossval)\n",
    "print(\"______________________\")\n"
   ]
  },
  {
   "cell_type": "code",
   "execution_count": 4,
   "id": "d9d3fcde",
   "metadata": {},
   "outputs": [
    {
     "name": "stdout",
     "output_type": "stream",
     "text": [
      "Resultats cross validation\n",
      "Best k =  8\n",
      "Acc\tF1\tROC-AUC\tAP:\n",
      "0.8630 \t0.8638 \t0.9333 \t0.9316\n"
     ]
    },
    {
     "data": {
      "image/png": "[encoded data removed]",
      "text/plain": [
       "<Figure size 640x480 with 1 Axes>"
      ]
     },
     "metadata": {},
     "output_type": "display_data"
    },
    {
     "name": "stdout",
     "output_type": "stream",
     "text": [
      "______________________\n"
     ]
    }
   ],
   "source": [
    "vect_params = {}\n",
    "model_params_LR = {'C': 100.0, 'solver': 'liblinear'}\n",
    "model_params_SVM = {'random_state': 0,'dual': False}\n",
    "preprocessor = lambda text: remove_tags(transform_uppercase(chiffre_suppression(ponc_suppression(text))))\n",
    "liste_k = [i for i in range(2,21)]\n",
    "\n",
    "best_k,res =comparaison_crossval(preprocessor,TfidfVectorizer,vect_params,LogisticRegression,model_params_LR,graphe=True,cvs=liste_k)\n",
    "print(\"______________________\")\n"
   ]
  },
  {
   "cell_type": "code",
   "execution_count": 5,
   "id": "ae892967",
   "metadata": {},
   "outputs": [
    {
     "name": "stdout",
     "output_type": "stream",
     "text": [
      "Resultats cross validation\n",
      "Best k =  20\n",
      "Acc\tF1\tROC-AUC\tAP:\n",
      "0.8655 \t0.8666 \t0.9355 \t0.9350\n"
     ]
    },
    {
     "data": {
      "image/png": "[encoded data removed]",
      "text/plain": [
       "<Figure size 640x480 with 1 Axes>"
      ]
     },
     "metadata": {},
     "output_type": "display_data"
    },
    {
     "name": "stdout",
     "output_type": "stream",
     "text": [
      "______________________\n"
     ]
    }
   ],
   "source": [
    "best_k2,res2 =comparaison_crossval(preprocessor,TfidfVectorizer,vect_params,LinearSVC,model_params_SVM,graphe=True,cvs=liste_k)\n",
    "print(\"______________________\")\n"
   ]
  },
  {
   "cell_type": "markdown",
   "id": "caf78013",
   "metadata": {},
   "source": [
    "\n",
    "### quelques essaies pour trouver les paramètres de vectorizer utiles"
   ]
  },
  {
   "cell_type": "code",
   "execution_count": 6,
   "id": "fa16e8d0",
   "metadata": {},
   "outputs": [
    {
     "name": "stdout",
     "output_type": "stream",
     "text": [
      "Resultats cross validation\n",
      "Acc\tF1\tROC-AUC\tAP:\n",
      "0.7185 \t0.7214 \t0.7900 \t0.7841\n",
      "Resultats cross validation\n",
      "Acc\tF1\tROC-AUC\tAP:\n",
      "0.7885 \t0.7899 \t0.8648 \t0.8517\n",
      "Resultats cross validation\n",
      "Acc\tF1\tROC-AUC\tAP:\n",
      "0.8100 \t0.8089 \t0.8911 \t0.8844\n",
      "Resultats cross validation\n",
      "Acc\tF1\tROC-AUC\tAP:\n",
      "0.8235 \t0.8243 \t0.9097 \t0.9077\n",
      "Resultats cross validation\n",
      "Acc\tF1\tROC-AUC\tAP:\n",
      "0.8525 \t0.8523 \t0.9226 \t0.9222\n",
      "Resultats cross validation\n",
      "Acc\tF1\tROC-AUC\tAP:\n",
      "0.8495 \t0.8503 \t0.9256 \t0.9246\n",
      "Resultats cross validation\n",
      "Acc\tF1\tROC-AUC\tAP:\n",
      "0.8530 \t0.8531 \t0.9284 \t0.9270\n",
      "Resultats cross validation\n",
      "Acc\tF1\tROC-AUC\tAP:\n",
      "0.8590 \t0.8603 \t0.9302 \t0.9284\n",
      "Resultats cross validation\n",
      "Acc\tF1\tROC-AUC\tAP:\n",
      "0.8615 \t0.8633 \t0.9303 \t0.9281\n",
      "Resultats cross validation\n",
      "Acc\tF1\tROC-AUC\tAP:\n",
      "0.8610 \t0.8628 \t0.9313 \t0.9297\n",
      "Resultats cross validation\n",
      "Acc\tF1\tROC-AUC\tAP:\n",
      "0.8630 \t0.8645 \t0.9313 \t0.9298\n",
      "Resultats cross validation\n",
      "Acc\tF1\tROC-AUC\tAP:\n",
      "0.8585 \t0.8598 \t0.9304 \t0.9292\n",
      "Resultats cross validation\n",
      "Acc\tF1\tROC-AUC\tAP:\n",
      "0.8580 \t0.8594 \t0.9303 \t0.9287\n",
      "Meilleur max_features 10000\n"
     ]
    }
   ],
   "source": [
    "vectorizer = TfidfVectorizer()\n",
    "X = vectorizer.fit_transform(alltxts)\n",
    "vocabulary = vectorizer.vocabulary_\n",
    "max_features_list = [100,500,1000,1500,3000,3500,4000,4500,5000,6000,10000,20000,len(vocabulary)]\n",
    "model_params_LR = {'C': 100.0, 'solver': 'liblinear'}\n",
    "model_params_SVM = {'random_state': 0,'dual': False}\n",
    "vectorizer = TfidfVectorizer\n",
    "preprocessor= lambda text: remove_tags(transform_uppercase(chiffre_suppression(ponc_suppression(text))))\n",
    "best_result = [0,0,0,0]\n",
    "best_max = 0\n",
    "for max_features in max_features_list:\n",
    "    vect_params = {'max_features':max_features}\n",
    "    res = eval_crossval(preprocessor,vectorizer,vect_params,model=LogisticRegression, model_params=model_params_LR,graphe=False)\n",
    "    if accuracy_difference(res,best_result)[1] > 0.5:\n",
    "        best_result = res\n",
    "        best_max = max_features\n",
    "print(\"Meilleur max_features\",best_max)"
   ]
  },
  {
   "cell_type": "code",
   "execution_count": 7,
   "id": "02fe288f",
   "metadata": {},
   "outputs": [
    {
     "name": "stdout",
     "output_type": "stream",
     "text": [
      "Resultats cross validation\n",
      "Acc\tF1\tROC-AUC\tAP:\n",
      "0.8630 \t0.8645 \t0.9313 \t0.9298\n"
     ]
    },
    {
     "data": {
      "image/png": "[encoded data removed]",
      "text/plain": [
       "<Figure size 640x480 with 1 Axes>"
      ]
     },
     "metadata": {},
     "output_type": "display_data"
    },
    {
     "name": "stdout",
     "output_type": "stream",
     "text": [
      "______________________\n"
     ]
    }
   ],
   "source": [
    "vect_params = {'max_features':best_max}\n",
    "cv=8\n",
    "model_params_LR = {'C': 100.0, 'solver': 'liblinear'}\n",
    "res = eval_crossval(preprocessor=preprocessor, vectorizer=TfidfVectorizer, vect_params=vect_params,\n",
    "    model=LogisticRegression, model_params=model_params_LR,graphe=True)\n",
    "print(\"______________________\")\n"
   ]
  },
  {
   "cell_type": "code",
   "execution_count": 8,
   "id": "72f10c87",
   "metadata": {},
   "outputs": [
    {
     "name": "stdout",
     "output_type": "stream",
     "text": [
      "Resultats cross validation\n",
      "Acc\tF1\tROC-AUC\tAP:\n",
      "0.8610 \t0.8624 \t0.9319 \t0.9307\n",
      "______________________\n"
     ]
    }
   ],
   "source": [
    "vect_params = {'max_features':best_max}\n",
    "cv=best_k2\n",
    "model_params_SVM = {'random_state': 0,'dual': False}\n",
    "res = eval_crossval(preprocessor=preprocessor, vectorizer=TfidfVectorizer, vect_params=vect_params,\n",
    "    model=LinearSVC, model_params=model_params_SVM,graphe=False)\n",
    "print(\"______________________\")\n"
   ]
  },
  {
   "cell_type": "code",
   "execution_count": 9,
   "id": "19fbb727",
   "metadata": {},
   "outputs": [
    {
     "name": "stdout",
     "output_type": "stream",
     "text": [
      "Resultats cross validation\n",
      "Acc\tF1\tROC-AUC\tAP:\n",
      "0.8565 \t0.8574 \t0.9299 \t0.9260\n",
      "______________________\n"
     ]
    }
   ],
   "source": [
    "eng_stop_words = stopwords.words('english')\n",
    "#preprocessed_eng_stop_words = [stem(word) for word in eng_stop_words]\n",
    "vect_params = {'stop_words':eng_stop_words}\n",
    "cv=18\n",
    "model_params_LR = {'C': 100.0, 'solver': 'liblinear'}\n",
    "\n",
    "res = eval_crossval(preprocessor=preprocessor, vectorizer=TfidfVectorizer, vect_params=vect_params,\n",
    "    model=LogisticRegression, model_params=model_params_LR,graphe=False)\n",
    "print(\"______________________\")\n"
   ]
  },
  {
   "cell_type": "code",
   "execution_count": 10,
   "id": "5acd58ae",
   "metadata": {},
   "outputs": [
    {
     "name": "stdout",
     "output_type": "stream",
     "text": [
      "Resultats cross validation\n",
      "Best k =  17\n",
      "Acc\tF1\tROC-AUC\tAP:\n",
      "0.8595 \t0.8612 \t0.9315 \t0.9289\n",
      "______________________\n"
     ]
    }
   ],
   "source": [
    "vect_params = {'max_features':best_max}\n",
    "model_params_LR = {'C': 100.0, 'solver': 'liblinear'}\n",
    "model_params_SVM = {'random_state': 0,'dual': False}\n",
    "preprocessor = lambda text: stem(remove_tags(transform_uppercase(chiffre_suppression(ponc_suppression(text)))))\n",
    "liste_k = [i for i in range(2,21)]\n",
    "\n",
    "best_k,res =comparaison_crossval(preprocessor,TfidfVectorizer,vect_params,LogisticRegression,model_params_LR,graphe=False,cvs=liste_k)\n",
    "print(\"______________________\")\n"
   ]
  },
  {
   "cell_type": "markdown",
   "id": "abc857e4",
   "metadata": {},
   "source": [
    "<b> Les résultats qu'on obtient avec la validation croisée est plus effectives."
   ]
  },
  {
   "cell_type": "markdown",
   "id": "58910305",
   "metadata": {},
   "source": [
    "### stabilité de la validation croisée"
   ]
  },
  {
   "cell_type": "code",
   "execution_count": 4,
   "id": "2de5868a",
   "metadata": {},
   "outputs": [
    {
     "name": "stdout",
     "output_type": "stream",
     "text": [
      "42\n",
      "Resultats cross validation\n",
      "Best k =  20\n",
      "Acc\tF1\tROC-AUC\tAP:\n",
      "0.8668 \t0.8677 \t0.9342 \t0.9331\n"
     ]
    },
    {
     "ename": "ValueError",
     "evalue": "Found input variables with inconsistent numbers of samples: [2000, 1900]",
     "output_type": "error",
     "traceback": [
      "\u001b[1;31m---------------------------------------------------------------------------\u001b[0m",
      "\u001b[1;31mValueError\u001b[0m                                Traceback (most recent call last)",
      "Cell \u001b[1;32mIn[4], line 9\u001b[0m\n\u001b[0;32m      7\u001b[0m \u001b[38;5;28;01mfor\u001b[39;00m random_state \u001b[38;5;129;01min\u001b[39;00m [\u001b[38;5;241m42\u001b[39m,\u001b[38;5;241m69\u001b[39m] :\n\u001b[0;32m      8\u001b[0m     \u001b[38;5;28mprint\u001b[39m(random_state)\n\u001b[1;32m----> 9\u001b[0m     liste_res\u001b[38;5;241m.\u001b[39mappend(\u001b[43mcomparaison_crossval_grain\u001b[49m\u001b[43m(\u001b[49m\u001b[43mpreprocessor\u001b[49m\u001b[43m,\u001b[49m\u001b[43mTfidfVectorizer\u001b[49m\u001b[43m,\u001b[49m\u001b[43mvect_params\u001b[49m\u001b[43m,\u001b[49m\u001b[43mLinearSVC\u001b[49m\u001b[43m,\u001b[49m\u001b[43mmodel_params_SVM\u001b[49m\u001b[43m,\u001b[49m\u001b[43mgraphe\u001b[49m\u001b[38;5;241;43m=\u001b[39;49m\u001b[38;5;28;43;01mTrue\u001b[39;49;00m\u001b[43m,\u001b[49m\u001b[43mcvs\u001b[49m\u001b[38;5;241;43m=\u001b[39;49m\u001b[43mliste_k\u001b[49m\u001b[43m,\u001b[49m\u001b[43mrandom_state\u001b[49m\u001b[38;5;241;43m=\u001b[39;49m\u001b[43mrandom_state\u001b[49m\u001b[43m)\u001b[49m)\n\u001b[0;32m     10\u001b[0m \u001b[38;5;28mprint\u001b[39m(\u001b[38;5;124m\"\u001b[39m\u001b[38;5;124m______________________\u001b[39m\u001b[38;5;124m\"\u001b[39m)\n\u001b[0;32m     11\u001b[0m \u001b[38;5;28mprint\u001b[39m(liste_res)\n",
      "File \u001b[1;32m~\\Desktop\\M1\\RITAL\\Projet_TAL\\notebook-semaine1\\classification_sentiments\\evaluation.py:467\u001b[0m, in \u001b[0;36mcomparaison_crossval_grain\u001b[1;34m(preprocessor, vectorizer, vect_params, model, model_params, graphe, cvs, random_state)\u001b[0m\n\u001b[0;32m    463\u001b[0m \u001b[38;5;28mprint\u001b[39m(\u001b[38;5;124m\"\u001b[39m\u001b[38;5;132;01m%.4f\u001b[39;00m\u001b[38;5;124m\"\u001b[39m\u001b[38;5;241m%\u001b[39mbest_accuracy,\u001b[38;5;124m\"\u001b[39m\u001b[38;5;130;01m\\t\u001b[39;00m\u001b[38;5;132;01m%.4f\u001b[39;00m\u001b[38;5;124m\"\u001b[39m\u001b[38;5;241m%\u001b[39mbest_f1,\u001b[38;5;124m\"\u001b[39m\u001b[38;5;130;01m\\t\u001b[39;00m\u001b[38;5;132;01m%.4f\u001b[39;00m\u001b[38;5;124m\"\u001b[39m\u001b[38;5;241m%\u001b[39mbest_roc_auc,\u001b[38;5;124m\"\u001b[39m\u001b[38;5;130;01m\\t\u001b[39;00m\u001b[38;5;132;01m%.4f\u001b[39;00m\u001b[38;5;124m\"\u001b[39m\u001b[38;5;241m%\u001b[39mbest_avg_precision)\n\u001b[0;32m    465\u001b[0m \u001b[38;5;28;01mif\u001b[39;00m graphe:\n\u001b[0;32m    466\u001b[0m     \u001b[38;5;66;03m#afficher roc courbe\u001b[39;00m\n\u001b[1;32m--> 467\u001b[0m     fpr, tpr, thresholds \u001b[38;5;241m=\u001b[39m \u001b[43mroc_curve\u001b[49m\u001b[43m(\u001b[49m\u001b[43mlabs_train\u001b[49m\u001b[43m,\u001b[49m\u001b[43m \u001b[49m\u001b[43mbest_proba_pos\u001b[49m\u001b[43m)\u001b[49m\n\u001b[0;32m    468\u001b[0m     plt\u001b[38;5;241m.\u001b[39mfigure()\n\u001b[0;32m    469\u001b[0m     plt\u001b[38;5;241m.\u001b[39mplot(fpr, tpr, label\u001b[38;5;241m=\u001b[39m\u001b[38;5;124m'\u001b[39m\u001b[38;5;124mcourbe ROC\u001b[39m\u001b[38;5;124m'\u001b[39m \u001b[38;5;241m%\u001b[39m best_roc_auc)\n",
      "File \u001b[1;32m~\\miniconda3\\Lib\\site-packages\\sklearn\\utils\\_param_validation.py:213\u001b[0m, in \u001b[0;36mvalidate_params.<locals>.decorator.<locals>.wrapper\u001b[1;34m(*args, **kwargs)\u001b[0m\n\u001b[0;32m    207\u001b[0m \u001b[38;5;28;01mtry\u001b[39;00m:\n\u001b[0;32m    208\u001b[0m     \u001b[38;5;28;01mwith\u001b[39;00m config_context(\n\u001b[0;32m    209\u001b[0m         skip_parameter_validation\u001b[38;5;241m=\u001b[39m(\n\u001b[0;32m    210\u001b[0m             prefer_skip_nested_validation \u001b[38;5;129;01mor\u001b[39;00m global_skip_validation\n\u001b[0;32m    211\u001b[0m         )\n\u001b[0;32m    212\u001b[0m     ):\n\u001b[1;32m--> 213\u001b[0m         \u001b[38;5;28;01mreturn\u001b[39;00m \u001b[43mfunc\u001b[49m\u001b[43m(\u001b[49m\u001b[38;5;241;43m*\u001b[39;49m\u001b[43margs\u001b[49m\u001b[43m,\u001b[49m\u001b[43m \u001b[49m\u001b[38;5;241;43m*\u001b[39;49m\u001b[38;5;241;43m*\u001b[39;49m\u001b[43mkwargs\u001b[49m\u001b[43m)\u001b[49m\n\u001b[0;32m    214\u001b[0m \u001b[38;5;28;01mexcept\u001b[39;00m InvalidParameterError \u001b[38;5;28;01mas\u001b[39;00m e:\n\u001b[0;32m    215\u001b[0m     \u001b[38;5;66;03m# When the function is just a wrapper around an estimator, we allow\u001b[39;00m\n\u001b[0;32m    216\u001b[0m     \u001b[38;5;66;03m# the function to delegate validation to the estimator, but we replace\u001b[39;00m\n\u001b[0;32m    217\u001b[0m     \u001b[38;5;66;03m# the name of the estimator by the name of the function in the error\u001b[39;00m\n\u001b[0;32m    218\u001b[0m     \u001b[38;5;66;03m# message to avoid confusion.\u001b[39;00m\n\u001b[0;32m    219\u001b[0m     msg \u001b[38;5;241m=\u001b[39m re\u001b[38;5;241m.\u001b[39msub(\n\u001b[0;32m    220\u001b[0m         \u001b[38;5;124mr\u001b[39m\u001b[38;5;124m\"\u001b[39m\u001b[38;5;124mparameter of \u001b[39m\u001b[38;5;124m\\\u001b[39m\u001b[38;5;124mw+ must be\u001b[39m\u001b[38;5;124m\"\u001b[39m,\n\u001b[0;32m    221\u001b[0m         \u001b[38;5;124mf\u001b[39m\u001b[38;5;124m\"\u001b[39m\u001b[38;5;124mparameter of \u001b[39m\u001b[38;5;132;01m{\u001b[39;00mfunc\u001b[38;5;241m.\u001b[39m\u001b[38;5;18m__qualname__\u001b[39m\u001b[38;5;132;01m}\u001b[39;00m\u001b[38;5;124m must be\u001b[39m\u001b[38;5;124m\"\u001b[39m,\n\u001b[0;32m    222\u001b[0m         \u001b[38;5;28mstr\u001b[39m(e),\n\u001b[0;32m    223\u001b[0m     )\n",
      "File \u001b[1;32m~\\miniconda3\\Lib\\site-packages\\sklearn\\metrics\\_ranking.py:1095\u001b[0m, in \u001b[0;36mroc_curve\u001b[1;34m(y_true, y_score, pos_label, sample_weight, drop_intermediate)\u001b[0m\n\u001b[0;32m    993\u001b[0m \u001b[38;5;129m@validate_params\u001b[39m(\n\u001b[0;32m    994\u001b[0m     {\n\u001b[0;32m    995\u001b[0m         \u001b[38;5;124m\"\u001b[39m\u001b[38;5;124my_true\u001b[39m\u001b[38;5;124m\"\u001b[39m: [\u001b[38;5;124m\"\u001b[39m\u001b[38;5;124marray-like\u001b[39m\u001b[38;5;124m\"\u001b[39m],\n\u001b[1;32m   (...)\u001b[0m\n\u001b[0;32m   1004\u001b[0m     y_true, y_score, \u001b[38;5;241m*\u001b[39m, pos_label\u001b[38;5;241m=\u001b[39m\u001b[38;5;28;01mNone\u001b[39;00m, sample_weight\u001b[38;5;241m=\u001b[39m\u001b[38;5;28;01mNone\u001b[39;00m, drop_intermediate\u001b[38;5;241m=\u001b[39m\u001b[38;5;28;01mTrue\u001b[39;00m\n\u001b[0;32m   1005\u001b[0m ):\n\u001b[0;32m   1006\u001b[0m \u001b[38;5;250m    \u001b[39m\u001b[38;5;124;03m\"\"\"Compute Receiver operating characteristic (ROC).\u001b[39;00m\n\u001b[0;32m   1007\u001b[0m \n\u001b[0;32m   1008\u001b[0m \u001b[38;5;124;03m    Note: this implementation is restricted to the binary classification task.\u001b[39;00m\n\u001b[1;32m   (...)\u001b[0m\n\u001b[0;32m   1093\u001b[0m \u001b[38;5;124;03m    array([ inf, 0.8 , 0.4 , 0.35, 0.1 ])\u001b[39;00m\n\u001b[0;32m   1094\u001b[0m \u001b[38;5;124;03m    \"\"\"\u001b[39;00m\n\u001b[1;32m-> 1095\u001b[0m     fps, tps, thresholds \u001b[38;5;241m=\u001b[39m \u001b[43m_binary_clf_curve\u001b[49m\u001b[43m(\u001b[49m\n\u001b[0;32m   1096\u001b[0m \u001b[43m        \u001b[49m\u001b[43my_true\u001b[49m\u001b[43m,\u001b[49m\u001b[43m \u001b[49m\u001b[43my_score\u001b[49m\u001b[43m,\u001b[49m\u001b[43m \u001b[49m\u001b[43mpos_label\u001b[49m\u001b[38;5;241;43m=\u001b[39;49m\u001b[43mpos_label\u001b[49m\u001b[43m,\u001b[49m\u001b[43m \u001b[49m\u001b[43msample_weight\u001b[49m\u001b[38;5;241;43m=\u001b[39;49m\u001b[43msample_weight\u001b[49m\n\u001b[0;32m   1097\u001b[0m \u001b[43m    \u001b[49m\u001b[43m)\u001b[49m\n\u001b[0;32m   1099\u001b[0m     \u001b[38;5;66;03m# Attempt to drop thresholds corresponding to points in between and\u001b[39;00m\n\u001b[0;32m   1100\u001b[0m     \u001b[38;5;66;03m# collinear with other points. These are always suboptimal and do not\u001b[39;00m\n\u001b[0;32m   1101\u001b[0m     \u001b[38;5;66;03m# appear on a plotted ROC curve (and thus do not affect the AUC).\u001b[39;00m\n\u001b[1;32m   (...)\u001b[0m\n\u001b[0;32m   1106\u001b[0m     \u001b[38;5;66;03m# but does not drop more complicated cases like fps = [1, 3, 7],\u001b[39;00m\n\u001b[0;32m   1107\u001b[0m     \u001b[38;5;66;03m# tps = [1, 2, 4]; there is no harm in keeping too many thresholds.\u001b[39;00m\n\u001b[0;32m   1108\u001b[0m     \u001b[38;5;28;01mif\u001b[39;00m drop_intermediate \u001b[38;5;129;01mand\u001b[39;00m \u001b[38;5;28mlen\u001b[39m(fps) \u001b[38;5;241m>\u001b[39m \u001b[38;5;241m2\u001b[39m:\n",
      "File \u001b[1;32m~\\miniconda3\\Lib\\site-packages\\sklearn\\metrics\\_ranking.py:806\u001b[0m, in \u001b[0;36m_binary_clf_curve\u001b[1;34m(y_true, y_score, pos_label, sample_weight)\u001b[0m\n\u001b[0;32m    803\u001b[0m \u001b[38;5;28;01mif\u001b[39;00m \u001b[38;5;129;01mnot\u001b[39;00m (y_type \u001b[38;5;241m==\u001b[39m \u001b[38;5;124m\"\u001b[39m\u001b[38;5;124mbinary\u001b[39m\u001b[38;5;124m\"\u001b[39m \u001b[38;5;129;01mor\u001b[39;00m (y_type \u001b[38;5;241m==\u001b[39m \u001b[38;5;124m\"\u001b[39m\u001b[38;5;124mmulticlass\u001b[39m\u001b[38;5;124m\"\u001b[39m \u001b[38;5;129;01mand\u001b[39;00m pos_label \u001b[38;5;129;01mis\u001b[39;00m \u001b[38;5;129;01mnot\u001b[39;00m \u001b[38;5;28;01mNone\u001b[39;00m)):\n\u001b[0;32m    804\u001b[0m     \u001b[38;5;28;01mraise\u001b[39;00m \u001b[38;5;167;01mValueError\u001b[39;00m(\u001b[38;5;124m\"\u001b[39m\u001b[38;5;132;01m{0}\u001b[39;00m\u001b[38;5;124m format is not supported\u001b[39m\u001b[38;5;124m\"\u001b[39m\u001b[38;5;241m.\u001b[39mformat(y_type))\n\u001b[1;32m--> 806\u001b[0m \u001b[43mcheck_consistent_length\u001b[49m\u001b[43m(\u001b[49m\u001b[43my_true\u001b[49m\u001b[43m,\u001b[49m\u001b[43m \u001b[49m\u001b[43my_score\u001b[49m\u001b[43m,\u001b[49m\u001b[43m \u001b[49m\u001b[43msample_weight\u001b[49m\u001b[43m)\u001b[49m\n\u001b[0;32m    807\u001b[0m y_true \u001b[38;5;241m=\u001b[39m column_or_1d(y_true)\n\u001b[0;32m    808\u001b[0m y_score \u001b[38;5;241m=\u001b[39m column_or_1d(y_score)\n",
      "File \u001b[1;32m~\\miniconda3\\Lib\\site-packages\\sklearn\\utils\\validation.py:430\u001b[0m, in \u001b[0;36mcheck_consistent_length\u001b[1;34m(*arrays)\u001b[0m\n\u001b[0;32m    428\u001b[0m uniques \u001b[38;5;241m=\u001b[39m np\u001b[38;5;241m.\u001b[39munique(lengths)\n\u001b[0;32m    429\u001b[0m \u001b[38;5;28;01mif\u001b[39;00m \u001b[38;5;28mlen\u001b[39m(uniques) \u001b[38;5;241m>\u001b[39m \u001b[38;5;241m1\u001b[39m:\n\u001b[1;32m--> 430\u001b[0m     \u001b[38;5;28;01mraise\u001b[39;00m \u001b[38;5;167;01mValueError\u001b[39;00m(\n\u001b[0;32m    431\u001b[0m         \u001b[38;5;124m\"\u001b[39m\u001b[38;5;124mFound input variables with inconsistent numbers of samples: \u001b[39m\u001b[38;5;132;01m%r\u001b[39;00m\u001b[38;5;124m\"\u001b[39m\n\u001b[0;32m    432\u001b[0m         \u001b[38;5;241m%\u001b[39m [\u001b[38;5;28mint\u001b[39m(l) \u001b[38;5;28;01mfor\u001b[39;00m l \u001b[38;5;129;01min\u001b[39;00m lengths]\n\u001b[0;32m    433\u001b[0m     )\n",
      "\u001b[1;31mValueError\u001b[0m: Found input variables with inconsistent numbers of samples: [2000, 1900]"
     ]
    }
   ],
   "source": [
    "vect_params = {}\n",
    "model_params_LR = {'C': 100.0, 'solver': 'liblinear'}\n",
    "model_params_SVM = {'random_state': 0,'dual': False}\n",
    "preprocessor = lambda text: remove_tags(transform_uppercase(chiffre_suppression(ponc_suppression(text))))\n",
    "liste_k = [i for i in range(2,21)]\n",
    "liste_res = []\n",
    "for random_state in [42,69] :\n",
    "    print(random_state)\n",
    "    liste_res.append(comparaison_crossval_grain(preprocessor,TfidfVectorizer,vect_params,LinearSVC,model_params_SVM,graphe=True,cvs=liste_k,random_state=random_state))\n",
    "print(\"______________________\")\n",
    "print(liste_res)\n"
   ]
  },
  {
   "cell_type": "code",
   "execution_count": null,
   "id": "959790cb",
   "metadata": {},
   "outputs": [],
   "source": []
  }
 ],
 "metadata": {
  "kernelspec": {
   "display_name": "Python 3",
   "language": "python",
   "name": "python3"
  },
  "language_info": {
   "codemirror_mode": {
    "name": "ipython",
    "version": 3
   },
   "file_extension": ".py",
   "mimetype": "text/x-python",
   "name": "python",
   "nbconvert_exporter": "python",
   "pygments_lexer": "ipython3",
   "version": "3.11.5"
  }
 },
 "nbformat": 4,
 "nbformat_minor": 5
}
