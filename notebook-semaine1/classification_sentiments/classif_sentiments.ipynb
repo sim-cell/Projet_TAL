{
 "cells": [
  {
   "cell_type": "code",
   "execution_count": 1,
   "id": "82972f13",
   "metadata": {},
   "outputs": [
    {
     "name": "stderr",
     "output_type": "stream",
     "text": [
      "[nltk_data] Downloading package punkt to\n",
      "[nltk_data]     C:\\Users\\PC\\AppData\\Roaming\\nltk_data...\n",
      "[nltk_data]   Package punkt is already up-to-date!\n"
     ]
    }
   ],
   "source": [
    "from evaluation import *"
   ]
  },
  {
   "cell_type": "code",
   "execution_count": 2,
   "id": "584c4800",
   "metadata": {},
   "outputs": [
    {
     "name": "stdout",
     "output_type": "stream",
     "text": [
      "25000\n"
     ]
    },
    {
     "name": "stderr",
     "output_type": "stream",
     "text": [
      "C:\\Users\\PC\\miniconda3\\Lib\\site-packages\\sklearn\\feature_extraction\\text.py:408: UserWarning: Your stop_words may be inconsistent with your preprocessing. Tokenizing the stop words generated tokens ['abov', 'afterward', 'alon', 'alreadi', 'alway', 'ani', 'anoth', 'anyon', 'anyth', 'anywher', 'becam', 'becaus', 'becom', 'befor', 'besid', 'cri', 'describ', 'dure', 'els', 'elsewher', 'empti', 'everi', 'everyon', 'everyth', 'everywher', 'fifti', 'forti', 'henc', 'hereaft', 'herebi', 'howev', 'hundr', 'inde', 'mani', 'meanwhil', 'moreov', 'nobodi', 'noon', 'noth', 'nowher', 'onc', 'onli', 'otherwis', 'ourselv', 'perhap', 'pleas', 'sever', 'sinc', 'sincer', 'sixti', 'someon', 'someth', 'sometim', 'somewher', 'themselv', 'thenc', 'thereaft', 'therebi', 'therefor', 'togeth', 'twelv', 'twenti', 'veri', 'whatev', 'whenc', 'whenev', 'wherea', 'whereaft', 'wherebi', 'wherev', 'whi', 'yourselv'] not in stop_words.\n",
      "  warnings.warn(\n",
      "C:\\Users\\PC\\miniconda3\\Lib\\site-packages\\sklearn\\svm\\_classes.py:31: FutureWarning: The default value of `dual` will change from `True` to `'auto'` in 1.5. Set the value of `dual` explicitly to suppress the warning.\n",
      "  warnings.warn(\n"
     ]
    },
    {
     "name": "stdout",
     "output_type": "stream",
     "text": [
      "[0 0 0 0]\n"
     ]
    }
   ],
   "source": [
    "preprocessor = lambda text: stem(remove_tags(chiffre_suppression(ponc_suppression(text))))\n",
    "vect_params = {'lowercase':True,'strip_accents':'ascii','stop_words':'english'}\n",
    "\n",
    "model_params = {'random_state':0}\n",
    "predictions = prediction_generator(preprocessor=preprocessor,\n",
    "                                   vectorizer=CountVectorizer,\n",
    "                                   vect_params=vect_params,\n",
    "                                   model=LinearSVC,\n",
    "                                   model_params=model_params,\n",
    "                                   save=True)\n"
   ]
  },
  {
   "cell_type": "code",
   "execution_count": null,
   "id": "829e5f0e",
   "metadata": {},
   "outputs": [],
   "source": [
    "import numpy as np\n",
    "import matplotlib.pyplot as plt\n",
    "import codecs\n",
    "import re\n",
    "import os.path\n",
    "import string\n",
    "import nltk\n",
    "from nltk.stem.snowball import FrenchStemmer\n",
    "from wordcloud import WordCloud\n",
    "from sklearn.feature_extraction.text import CountVectorizer,TfidfVectorizer\n",
    "from collections import Counter\n",
    "from utils_donnee import *\n",
    "from sklearn.metrics import roc_auc_score, f1_score, accuracy_score\n",
    "from sklearn.model_selection import cross_val_score, train_test_split\n",
    "from sklearn.naive_bayes import MultinomialNB\n",
    "from sklearn.linear_model import LogisticRegression\n",
    "from sklearn.svm import LinearSVC\n",
    "from sklearn.metrics import accuracy_score\n",
    "\n",
    "def save_pred(pred):\n",
    "    \"\"\" Sauvegarder les prédictions dans un fichier\n",
    "    Entrée : Array (de M et C)\n",
    "    Sortie : None + file dans predictions\n",
    "    \"\"\"\n",
    "    directory = \"./predictions\"\n",
    "    index = len(os.listdir(directory))+1 #nb de fichiers + 1 = l'indice du nouveau fichier\n",
    "    filename = os.path.join(directory,f'test_{index}.txt')\n",
    "    np.savetxt(filename, pred, fmt=\"%s\")\n",
    "\n",
    "\n",
    "def prediction_generator(preprocessor,vectorizer,vect_params,model,model_params,save=True):\n",
    "    \"\"\"Faire une prediction sur le fichier selon preprocessor, vectorizer, model donnés.\n",
    "    Entrée : file : nom du fichier\n",
    "             preprocessor : preprocessor pour nettoyer les données\n",
    "             vectorizer : vectorizer à utiliser\n",
    "             vect_params : parametres de vectorizer à utiliser\n",
    "             model : modèle à utiliser\n",
    "             model_params : paramètres du modèle à utiliser\n",
    "             save : si True, sauvegarder le résultat dans un fichier\n",
    "    Sortie : Array de M et C + fichier contenant ce vecteur \n",
    "    \"\"\"\n",
    "\n",
    "    # chargement des données train \n",
    "    alltxts_train,labs_train = load_movies(\"./datasets/movies/movies1000/\")\n",
    "    # chargement des données test\n",
    "    alltxts_test = load_movies_test(\"./datasets/movies/testSentiment.txt\")\n",
    "\n",
    "    # Vectorization\n",
    "    vec = vectorizer(preprocessor=preprocessor,**vect_params)\n",
    "    txts_train = vec.fit_transform(alltxts_train)\n",
    "\n",
    "    # Training\n",
    "    [X_train, X_test, y_train, y_test]  = train_test_split(txts_train, labs_train, test_size=0.2, random_state=10, shuffle=True)\n",
    "\n",
    "    # Modélisation \n",
    "    mod = model(**model_params)\n",
    "    mod.fit(txts_train,labs_train)\n",
    "\n",
    "    # Prédiction\n",
    "    pred_train = mod.predict(X_train)\n",
    "    pred_test = mod.predict(alltxts_test)\n",
    "\n",
    "    pred = np.where(pred_test == 0, \"N\", \"P\")\n",
    "    save_pred(pred_test)\n",
    "    if save==True:\n",
    "        save_pred(pred_test)\n",
    "\n",
    "    return pred\n",
    "\n",
    "preprocessor = lambda text: stem(remove_tags(chiffre_suppression(ponc_suppression(text))))\n",
    "vect_params = {'lowercase':True,'strip_accents':'ascii','stop_words':'english'}\n",
    "\n",
    "model_params = {'random_state':0}\n",
    "predictions = prediction_generator(preprocessor=preprocessor,\n",
    "                                   vectorizer=CountVectorizer,\n",
    "                                   vect_params=vect_params,\n",
    "                                   model=LinearSVC,\n",
    "                                   model_params=model_params,\n",
    "                                   save=True)"
   ]
  },
  {
   "cell_type": "code",
   "execution_count": null,
   "id": "b9350d00",
   "metadata": {},
   "outputs": [],
   "source": []
  }
 ],
 "metadata": {
  "kernelspec": {
   "display_name": "Python 3",
   "language": "python",
   "name": "python3"
  },
  "language_info": {
   "codemirror_mode": {
    "name": "ipython",
    "version": 3
   },
   "file_extension": ".py",
   "mimetype": "text/x-python",
   "name": "python",
   "nbconvert_exporter": "python",
   "pygments_lexer": "ipython3",
   "version": "3.11.5"
  }
 },
 "nbformat": 4,
 "nbformat_minor": 5
}
