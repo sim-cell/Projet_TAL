{
 "cells": [
  {
   "cell_type": "code",
   "execution_count": 1,
   "id": "c5291938",
   "metadata": {},
   "outputs": [
    {
     "name": "stderr",
     "output_type": "stream",
     "text": [
      "[nltk_data] Downloading package punkt to\n",
      "[nltk_data]     C:\\Users\\PC\\AppData\\Roaming\\nltk_data...\n",
      "[nltk_data]   Package punkt is already up-to-date!\n"
     ]
    }
   ],
   "source": [
    "from evaluation import *"
   ]
  },
  {
   "cell_type": "code",
   "execution_count": null,
   "id": "00ae767e",
   "metadata": {},
   "outputs": [],
   "source": [
    "preprocessor = lambda text: stem(remove_tags(chiffre_suppression(ponc_suppression(text))))\n",
    "vect_params = {'lowercase':True,'strip_accents':'ascii','stop_words':'english'}\n",
    "\n",
    "model_params = {'random_state':0}\n",
    "predictions = prediction_generator(preprocessor=preprocessor,\n",
    "                                   vectorizer=CountVectorizer,\n",
    "                                   vect_params=vect_params,\n",
    "                                   model=LinearSVC,\n",
    "                                   model_params=model_params,\n",
    "                                   save=True)\n"
   ]
  }
 ],
 "metadata": {
  "kernelspec": {
   "display_name": "Python 3",
   "language": "python",
   "name": "python3"
  },
  "language_info": {
   "codemirror_mode": {
    "name": "ipython",
    "version": 3
   },
   "file_extension": ".py",
   "mimetype": "text/x-python",
   "name": "python",
   "nbconvert_exporter": "python",
   "pygments_lexer": "ipython3",
   "version": "3.11.5"
  }
 },
 "nbformat": 4,
 "nbformat_minor": 5
}
