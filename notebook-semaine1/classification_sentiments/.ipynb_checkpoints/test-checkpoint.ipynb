{
 "cells": [
  {
   "cell_type": "code",
   "execution_count": 1,
   "id": "94be2731",
   "metadata": {},
   "outputs": [],
   "source": [
    "from utils_donnee import *\n",
    "from evaluation import *\n",
    "from sklearn.feature_extraction.text import CountVectorizer,TfidfVectorizer\n",
    "from sklearn.svm import LinearSVC\n",
    "import numpy as np"
   ]
  },
  {
   "cell_type": "raw",
   "id": "24e832c7",
   "metadata": {},
   "source": [
    "#test12\n",
    "preprocessor = lambda text: remove_tags(transform_uppercase(chiffre_suppression(ponc_suppression(text))))\n",
    "vect_params = {}\n",
    "model_params = {'random_state': 0,'dual': False}\n",
    "res = prediction_generator(preprocessor,TfidfVectorizer,vect_params,LinearSVC,model_params,save=True)"
   ]
  },
  {
   "cell_type": "code",
   "execution_count": null,
   "id": "1f47c9f4",
   "metadata": {},
   "outputs": [],
   "source": [
    "np.unique(np.array(res))"
   ]
  },
  {
   "cell_type": "raw",
   "id": "8c1836ba",
   "metadata": {},
   "source": [
    "#test_13\n",
    "preprocessor = lambda text: remove_tags(transform_uppercase(chiffre_suppression(ponc_suppression(text))))\n",
    "vect_params = {'max_features':10000}\n",
    "model_params = {'random_state': 0,'dual': False}\n",
    "res = prediction_generator(preprocessor,TfidfVectorizer,vect_params,LinearSVC,model_params,save=True)"
   ]
  },
  {
   "cell_type": "code",
   "execution_count": null,
   "id": "0f6b9beb",
   "metadata": {},
   "outputs": [],
   "source": [
    "preprocessor = lambda text: remove_tags(transform_uppercase(chiffre_suppression(ponc_suppression(text))))\n",
    "vect_params = {'stop_words':eng_stop_words,'max_features':10000}\n",
    "model_params = {'random_state': 0,'dual': False}\n",
    "res = prediction_generator(preprocessor,TfidfVectorizer,vect_params,LinearSVC,model_params,save=True)"
   ]
  }
 ],
 "metadata": {
  "kernelspec": {
   "display_name": "Python 3",
   "language": "python",
   "name": "python3"
  },
  "language_info": {
   "codemirror_mode": {
    "name": "ipython",
    "version": 3
   },
   "file_extension": ".py",
   "mimetype": "text/x-python",
   "name": "python",
   "nbconvert_exporter": "python",
   "pygments_lexer": "ipython3",
   "version": "3.11.5"
  }
 },
 "nbformat": 4,
 "nbformat_minor": 5
}
