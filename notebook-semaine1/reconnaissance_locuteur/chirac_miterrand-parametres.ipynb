{
 "cells": [
  {
   "cell_type": "markdown",
   "id": "36d07529",
   "metadata": {},
   "source": [
    "# Reconnaissance du locuteur (Chirac/Mitterrand)"
   ]
  },
  {
   "cell_type": "markdown",
   "id": "93e6efe8",
   "metadata": {},
   "source": [
    "### SOYKOK Aylin 28711545 - CELIK Simay 28713301 </b>"
   ]
  },
  {
   "cell_type": "markdown",
   "id": "cd65bb46",
   "metadata": {},
   "source": [
    "## Meilleurs paramètres"
   ]
  },
  {
   "cell_type": "markdown",
   "id": "dfce14e8",
   "metadata": {},
   "source": [
    "<b>\n",
    "Ce notebook est créé afin de : <br>\n",
    "    -tester quelle moyenne de BoW est plus exacte selon les paramètres\n",
    "</b>"
   ]
  },
  {
   "cell_type": "code",
   "execution_count": 1,
   "id": "458840f5",
   "metadata": {
    "scrolled": true
   },
   "outputs": [],
   "source": [
    "import numpy as np\n",
    "import matplotlib.pyplot as plt\n",
    "import codecs\n",
    "import re\n",
    "import os.path\n",
    "import string\n",
    "import nltk\n",
    "from nltk.stem.snowball import FrenchStemmer\n",
    "from wordcloud import WordCloud\n",
    "from sklearn.feature_extraction.text import CountVectorizer,TfidfVectorizer\n",
    "from collections import Counter\n",
    "from nltk.corpus import stopwords\n",
    "from utils_donnee import *\n",
    "from evaluation import *\n",
    "import lightgbm as lgb\n",
    "\n",
    "# Chargement des données\n",
    "fname = \"./datasets/AFDpresidentutf8/corpus.tache1.learn.utf8\"\n",
    "alltxts,alllabs = load_pres(fname)"
   ]
  },
  {
   "cell_type": "markdown",
   "id": "7949759f",
   "metadata": {},
   "source": [
    "### Test des parametres pour TfidfVectorizer"
   ]
  },
  {
   "cell_type": "markdown",
   "id": "7a15a25c",
   "metadata": {},
   "source": [
    "test avec suppression de la ponctuation, des accents et des chiffres, transformation des mots entièrement en majuscule en marqueurs spécifiques, supression des balises"
   ]
  },
  {
   "cell_type": "code",
   "execution_count": 3,
   "id": "ad58758b",
   "metadata": {},
   "outputs": [],
   "source": [
    "preprocessor = lambda text: remove_tags(transform_uppercase(accent_suppression(chiffre_suppression(ponc_suppression(text)))))\n",
    "model_params = {'C': 100.0, 'solver': 'liblinear'}"
   ]
  },
  {
   "cell_type": "markdown",
   "id": "32f156b5",
   "metadata": {},
   "source": [
    "#### sublinear_tf=True ou False"
   ]
  },
  {
   "cell_type": "code",
   "execution_count": 25,
   "id": "69bf5900",
   "metadata": {},
   "outputs": [
    {
     "name": "stdout",
     "output_type": "stream",
     "text": [
      "Accuracy: 0.8652\n",
      "F1 Score: 0.9211\n",
      "Precision: 0.9368\n",
      "ROC AUC sur Mitterrand (minoritaire): 0.1464\n",
      "-----Metrics du serveur--------\n",
      "F1 Score sur Mitterrand (minoritaire): 0.5362\n",
      "ROC AUC sur Chirac: 0.8536\n",
      "AP sur Mitterrand (minoritaire): 0.7306\n"
     ]
    }
   ],
   "source": [
    "vect_params = {'sublinear_tf': True}\n",
    "res1 = eval_test(preprocessor=preprocessor, vectorizer=TfidfVectorizer, vect_params=vect_params,\n",
    "model=LogisticRegression, model_params=model_params, over_sample=True)"
   ]
  },
  {
   "cell_type": "code",
   "execution_count": 26,
   "id": "3fdf7cd0",
   "metadata": {},
   "outputs": [
    {
     "name": "stdout",
     "output_type": "stream",
     "text": [
      "Accuracy: 0.8645\n",
      "F1 Score: 0.9207\n",
      "Precision: 0.9364\n",
      "ROC AUC sur Mitterrand (minoritaire): 0.1467\n",
      "-----Metrics du serveur--------\n",
      "F1 Score sur Mitterrand (minoritaire): 0.5339\n",
      "ROC AUC sur Chirac: 0.8533\n",
      "AP sur Mitterrand (minoritaire): 0.7307\n"
     ]
    }
   ],
   "source": [
    "vect_params = {'sublinear_tf': False}\n",
    "res2 = eval_test(preprocessor=preprocessor, vectorizer=TfidfVectorizer, vect_params=vect_params,\n",
    "model=LogisticRegression, model_params=model_params, over_sample=True)"
   ]
  },
  {
   "cell_type": "code",
   "execution_count": 27,
   "id": "6d59d547",
   "metadata": {},
   "outputs": [
    {
     "name": "stdout",
     "output_type": "stream",
     "text": [
      "Nb de fois res1 était plus accurate que res2 : ([1, 1, 1, 1, 2], 0.8)\n"
     ]
    }
   ],
   "source": [
    "print(f'Nb de fois res1 était plus accurate que res2 : {accuracy_difference(res1,res2)}')"
   ]
  },
  {
   "cell_type": "markdown",
   "id": "7ad4f0a2",
   "metadata": {},
   "source": [
    "Sublinear_tf est utile sauf pour le score de AP sur Mitterrand."
   ]
  },
  {
   "cell_type": "markdown",
   "id": "558cce26",
   "metadata": {},
   "source": [
    "#### ngram_range = (1,2)"
   ]
  },
  {
   "cell_type": "code",
   "execution_count": 40,
   "id": "8f3c383f",
   "metadata": {},
   "outputs": [
    {
     "name": "stdout",
     "output_type": "stream",
     "text": [
      "Accuracy: 0.9105\n",
      "F1 Score: 0.9488\n",
      "Precision: 0.9428\n",
      "ROC AUC sur Mitterrand (minoritaire): 0.0967\n",
      "-----Metrics du serveur--------\n",
      "F1 Score sur Mitterrand (minoritaire): 0.6433\n",
      "ROC AUC sur Chirac: 0.9033\n",
      "AP sur Mitterrand (minoritaire): 0.7157\n"
     ]
    }
   ],
   "source": [
    "vect_params = {'ngram_range': (1,2)}\n",
    "res3 = eval_test(preprocessor=preprocessor, vectorizer=TfidfVectorizer, vect_params=vect_params,\n",
    "model=LogisticRegression, model_params=model_params, over_sample=True)"
   ]
  },
  {
   "cell_type": "markdown",
   "id": "e01874fb",
   "metadata": {},
   "source": [
    "En général, augmente F1 Score sur Mitterrand mais diminue ROC AUC et AP sur Mitterrand."
   ]
  },
  {
   "cell_type": "markdown",
   "id": "9c2e94d1",
   "metadata": {},
   "source": [
    "#### ngram_range = (1,3)"
   ]
  },
  {
   "cell_type": "code",
   "execution_count": 41,
   "id": "c163c11e",
   "metadata": {},
   "outputs": [
    {
     "name": "stdout",
     "output_type": "stream",
     "text": [
      "Accuracy: 0.9081\n",
      "F1 Score: 0.9473\n",
      "Precision: 0.9446\n",
      "ROC AUC sur Mitterrand (minoritaire): 0.0920\n",
      "-----Metrics du serveur--------\n",
      "F1 Score sur Mitterrand (minoritaire): 0.6427\n",
      "ROC AUC sur Chirac: 0.9080\n",
      "AP sur Mitterrand (minoritaire): 0.7144\n"
     ]
    }
   ],
   "source": [
    "vect_params = {'ngram_range': (1,3)}\n",
    "res4 = eval_test(preprocessor=preprocessor, vectorizer=TfidfVectorizer, vect_params=vect_params,\n",
    "model=LogisticRegression, model_params=model_params, over_sample=True)"
   ]
  },
  {
   "cell_type": "code",
   "execution_count": 42,
   "id": "73362dd3",
   "metadata": {},
   "outputs": [
    {
     "name": "stdout",
     "output_type": "stream",
     "text": [
      "Nb de fois (1,3) était plus accurate que (1,2) : ([1, 1, 1, 2, 1], 0.8)\n"
     ]
    }
   ],
   "source": [
    "print(f'Nb de fois (1,3) était plus accurate que (1,2) : {accuracy_difference(res3,res4)}')"
   ]
  },
  {
   "cell_type": "markdown",
   "id": "d8df452f",
   "metadata": {},
   "source": [
    "ngram_range = (1,3) est mieux que ngram_range = (1,2)"
   ]
  },
  {
   "cell_type": "markdown",
   "id": "584c86c1",
   "metadata": {},
   "source": [
    "#### ngram_range = (1,4)"
   ]
  },
  {
   "cell_type": "code",
   "execution_count": 43,
   "id": "c5011232",
   "metadata": {},
   "outputs": [
    {
     "name": "stdout",
     "output_type": "stream",
     "text": [
      "Accuracy: 0.9008\n",
      "F1 Score: 0.9425\n",
      "Precision: 0.9499\n",
      "ROC AUC sur Mitterrand (minoritaire): 0.0940\n",
      "-----Metrics du serveur--------\n",
      "F1 Score sur Mitterrand (minoritaire): 0.6401\n",
      "ROC AUC sur Chirac: 0.9060\n",
      "AP sur Mitterrand (minoritaire): 0.7149\n"
     ]
    }
   ],
   "source": [
    "vect_params = {'ngram_range': (1,4)}\n",
    "res5 = eval_test(preprocessor=preprocessor, vectorizer=TfidfVectorizer, vect_params=vect_params,\n",
    "model=LogisticRegression, model_params=model_params, over_sample=True)"
   ]
  },
  {
   "cell_type": "code",
   "execution_count": 44,
   "id": "cd41a79c",
   "metadata": {},
   "outputs": [
    {
     "name": "stdout",
     "output_type": "stream",
     "text": [
      "Nb de fois (1,3) était plus accurate que (1,4) : ([1, 1, 1, 2, 1], 0.8)\n"
     ]
    }
   ],
   "source": [
    "print(f'Nb de fois (1,3) était plus accurate que (1,4) : {accuracy_difference(res3,res5)}')"
   ]
  },
  {
   "cell_type": "markdown",
   "id": "4cbee340",
   "metadata": {},
   "source": [
    "ngram_range = (1,3) est mieux que ngram_range = (1,4)"
   ]
  },
  {
   "cell_type": "markdown",
   "id": "069ebbc1",
   "metadata": {},
   "source": [
    "#### Test dans le serveur avec oversampling, ngram_range = (1,3) "
   ]
  },
  {
   "cell_type": "code",
   "execution_count": 38,
   "id": "eb03740d",
   "metadata": {},
   "outputs": [
    {
     "name": "stdout",
     "output_type": "stream",
     "text": [
      "1 0.0002687374985183011\n"
     ]
    },
    {
     "data": {
      "text/plain": [
       "array([0.00026874, 0.07773948, 0.06311755, ..., 0.00605084, 0.0006643 ,\n",
       "       0.12114972])"
      ]
     },
     "execution_count": 38,
     "metadata": {},
     "output_type": "execute_result"
    }
   ],
   "source": [
    "#suppression de la ponctuation et des chiffres, transformation des mots entièrement en majuscule en marqueurs spécifiques, \n",
    "# supression des balises\n",
    "vect_params = {'ngram_range': (1,3)}\n",
    "prediction_generator(preprocessor=preprocessor, vectorizer=TfidfVectorizer, vect_params=vect_params,\n",
    "model=LogisticRegression, model_params=model_params, over_sample=True, save=True)"
   ]
  },
  {
   "cell_type": "markdown",
   "id": "0331aa77",
   "metadata": {},
   "source": [
    "## Trouver les meilleures paramètres"
   ]
  },
  {
   "cell_type": "code",
   "execution_count": 9,
   "id": "9b0baba9",
   "metadata": {},
   "outputs": [],
   "source": [
    "#stop words preprocessed\n",
    "french_stop_words = stopwords.words('french')\n",
    "preprocessed_fr_stop_words = [unicodedata.normalize('NFKD', word).encode('ascii', 'ignore').decode('utf-8') for word in french_stop_words]"
   ]
  },
  {
   "cell_type": "code",
   "execution_count": null,
   "id": "b3e659de",
   "metadata": {},
   "outputs": [],
   "source": [
    "vect_params = {\n",
    "        'stop_words': [stopwords.words('french'), None],\n",
    "        'max_df': [0.5, 0.75, 1.0], \n",
    "        'min_df': [2, 3, 5], \n",
    "        'ngram_range': [(1, 3), (2, 3)], \n",
    "        'binary': [True, False],\n",
    "        'use_idf': [True, False],\n",
    "        'sublinear_tf': [True, False],\n",
    "        'max_features': [None, 1000, 5000, 10000]\n",
    "}\n",
    "\n",
    "new_vect_params, new_best_score = find_best_params(preprocessor=preprocessor,vectorizer=TfidfVectorizer,vect_params=vect_params,\n",
    "model=LogisticRegression,model_params=model_params)\n",
    "print(\"vect params:\",new_vect_params)\n",
    "print(\"score:\",new_best_score)"
   ]
  },
  {
   "cell_type": "markdown",
   "id": "17f07ada",
   "metadata": {},
   "source": [
    "Résultat obtenu:<br>\n",
    "vect params= {'stop_words': None, 'max_df': 0.5, 'min_df': 2, 'ngram_range': (1, 3), 'binary': True, 'use_idf': True, 'sublinear_tf': True, 'max_features': None} <br>\n",
    "score= 0.6367744177963155"
   ]
  },
  {
   "cell_type": "code",
   "execution_count": 6,
   "id": "7a3787bb",
   "metadata": {
    "scrolled": true
   },
   "outputs": [
    {
     "name": "stdout",
     "output_type": "stream",
     "text": [
      "Best Score:  0.6202060991099231\n",
      "Best Logistic Regression Params:  {'lr__C': 10, 'lr__penalty': 'l2', 'lr__solver': 'liblinear'}\n"
     ]
    },
    {
     "name": "stderr",
     "output_type": "stream",
     "text": [
      "[nltk_data] Downloading package punkt to\n",
      "[nltk_data]     /Users/aylinsoykok/nltk_data...\n",
      "[nltk_data]   Package punkt is already up-to-date!\n",
      "[nltk_data] Downloading package punkt to\n",
      "[nltk_data]     /Users/aylinsoykok/nltk_data...\n",
      "[nltk_data]   Package punkt is already up-to-date!\n",
      "[nltk_data] Downloading package punkt to\n",
      "[nltk_data]     /Users/aylinsoykok/nltk_data...\n",
      "[nltk_data]   Package punkt is already up-to-date!\n",
      "[nltk_data] Downloading package punkt to\n",
      "[nltk_data]     /Users/aylinsoykok/nltk_data...\n",
      "[nltk_data]   Package punkt is already up-to-date!\n",
      "[nltk_data] Downloading package punkt to\n",
      "[nltk_data]     /Users/aylinsoykok/nltk_data...\n",
      "[nltk_data]   Package punkt is already up-to-date!\n",
      "[nltk_data] Downloading package punkt to\n",
      "[nltk_data]     /Users/aylinsoykok/nltk_data...\n",
      "[nltk_data]   Package punkt is already up-to-date!\n",
      "[nltk_data] Downloading package punkt to\n",
      "[nltk_data]     /Users/aylinsoykok/nltk_data...\n",
      "[nltk_data]   Package punkt is already up-to-date!\n",
      "[nltk_data] Downloading package punkt to\n",
      "[nltk_data]     /Users/aylinsoykok/nltk_data...\n",
      "[nltk_data]   Package punkt is already up-to-date!\n"
     ]
    }
   ],
   "source": [
    "# Régression Logistique\n",
    "vect_params = {'stop_words': None, 'max_df': 0.5, 'min_df': 2, 'ngram_range': (1, 3), 'binary': True, 'use_idf': True, 'sublinear_tf': True, 'max_features': None}\n",
    "preprocessor = lambda text: remove_tags(transform_uppercase(chiffre_suppression(ponc_suppression(text))))\n",
    "\n",
    "# En maximisant f1 sur Mitterand\n",
    "lr_params_f1, best_score_f1 = best_params_lr(preprocessor,vect_params,f1=True,auc=False)"
   ]
  },
  {
   "cell_type": "code",
   "execution_count": 7,
   "id": "10aae45c",
   "metadata": {},
   "outputs": [
    {
     "name": "stdout",
     "output_type": "stream",
     "text": [
      "Best Score:  0.8932702913044734\n",
      "Best Logistic Regression Params:  {'lr__C': 10, 'lr__penalty': 'l2', 'lr__solver': 'liblinear'}\n"
     ]
    }
   ],
   "source": [
    "# En maximisant roc auc\n",
    "best_score_auc, lr_params_auc = best_params_lr(preprocessor,vect_params,f1=False,auc=True)"
   ]
  },
  {
   "cell_type": "code",
   "execution_count": 8,
   "id": "485ddcc5",
   "metadata": {},
   "outputs": [
    {
     "name": "stdout",
     "output_type": "stream",
     "text": [
      "F1 Score sur Mitterrand (minoritaire): 0.6411103767349637\n",
      "ROC AUC sur Chirac: 0.9063612039510178\n",
      "AP sur Mitterrand (minoritaire): 0.7147973172985861\n"
     ]
    },
    {
     "name": "stderr",
     "output_type": "stream",
     "text": [
      "[nltk_data] Downloading package punkt to\n",
      "[nltk_data]     /Users/aylinsoykok/nltk_data...\n",
      "[nltk_data]   Package punkt is already up-to-date!\n",
      "[nltk_data] Downloading package punkt to\n",
      "[nltk_data]     /Users/aylinsoykok/nltk_data...\n",
      "[nltk_data]   Package punkt is already up-to-date!\n",
      "[nltk_data] Downloading package punkt to\n",
      "[nltk_data]     /Users/aylinsoykok/nltk_data...\n",
      "[nltk_data]   Package punkt is already up-to-date!\n",
      "[nltk_data] Downloading package punkt to\n",
      "[nltk_data]     /Users/aylinsoykok/nltk_data...\n",
      "[nltk_data]   Package punkt is already up-to-date!\n",
      "[nltk_data] Downloading package punkt to\n",
      "[nltk_data]     /Users/aylinsoykok/nltk_data...\n",
      "[nltk_data]   Package punkt is already up-to-date!\n",
      "[nltk_data] Downloading package punkt to\n",
      "[nltk_data]     /Users/aylinsoykok/nltk_data...\n",
      "[nltk_data]   Package punkt is already up-to-date!\n",
      "[nltk_data] Downloading package punkt to\n",
      "[nltk_data]     /Users/aylinsoykok/nltk_data...\n",
      "[nltk_data]   Package punkt is already up-to-date!\n",
      "[nltk_data] Downloading package punkt to\n",
      "[nltk_data]     /Users/aylinsoykok/nltk_data...\n",
      "[nltk_data]   Package punkt is already up-to-date!\n"
     ]
    }
   ],
   "source": [
    "# Test avec les nouvelles paramètres pour le regression logistique et tf-idf\n",
    "preprocessor = lambda text: remove_tags(transform_uppercase(chiffre_suppression(ponc_suppression(text))))\n",
    "vect_params = {'stop_words': None, 'max_df': 0.5, 'min_df': 2, 'ngram_range': (1, 3), 'binary': True, 'use_idf': True, 'sublinear_tf': True, 'max_features': None}\n",
    "model_params = {'C': 10, 'penalty': 'l2', 'solver': 'liblinear'}\n",
    "eval_test(preprocessor=preprocessor, vectorizer=TfidfVectorizer, vect_params=vect_params,\n",
    "model=LogisticRegression, model_params=model_params, over_sample=True)"
   ]
  },
  {
   "cell_type": "markdown",
   "id": "2397f51a",
   "metadata": {},
   "source": [
    "C'est presque la même que ce qu'on a eu avec le test qu'on a fait avant."
   ]
  },
  {
   "cell_type": "code",
   "execution_count": null,
   "id": "34029e33",
   "metadata": {},
   "outputs": [],
   "source": [
    "# Naive Bayes\n",
    "vect_params = {'stop_words': None, 'max_df': 0.5, 'min_df': 2, 'ngram_range': (1, 3), 'binary': True, 'use_idf': True, 'sublinear_tf': True, 'max_features': None}\n",
    "\n",
    "# En maximisant f1 sur Mitterand\n",
    "nb_best_score_f1, nb_params_f1 = best_params_nb(preprocessor,vect_params,f1=True,auc=False)"
   ]
  },
  {
   "cell_type": "markdown",
   "id": "ba59f599",
   "metadata": {},
   "source": [
    "Paramètres obtenus:\n",
    "model_params = {'alpha': 0.5, 'fit_prior': True}"
   ]
  },
  {
   "cell_type": "code",
   "execution_count": 5,
   "id": "543dff31",
   "metadata": {},
   "outputs": [
    {
     "name": "stdout",
     "output_type": "stream",
     "text": [
      "Best Score:  0.895120168369494\n",
      "Best Naive Bayes Params:  {'mnb__alpha': 1.3, 'mnb__fit_prior': True}\n"
     ]
    }
   ],
   "source": [
    "# En maximisant roc auc\n",
    "nb_best_score_auc, nb_params_auc = best_params_nb(preprocessor,vect_params,f1=False,auc=True)"
   ]
  },
  {
   "cell_type": "code",
   "execution_count": 6,
   "id": "b8982428",
   "metadata": {},
   "outputs": [
    {
     "name": "stdout",
     "output_type": "stream",
     "text": [
      "F1 Score sur Mitterrand (minoritaire): 0.577560975609756\n",
      "ROC AUC sur Chirac: 0.908147126335746\n",
      "AP sur Mitterrand (minoritaire): 0.7146147036339288\n"
     ]
    }
   ],
   "source": [
    "# Test avec Naive Bayes\n",
    "preprocessor = lambda text: remove_tags(transform_uppercase(chiffre_suppression(ponc_suppression(text))))\n",
    "vect_params = {'stop_words': None, 'max_df': 0.5, 'min_df': 2, 'ngram_range': (1, 3), 'binary': True, 'use_idf': True, 'sublinear_tf': True, 'max_features': None}\n",
    "model_params = {'alpha': 0.5, 'fit_prior': True}\n",
    "eval_test(preprocessor=preprocessor, vectorizer=TfidfVectorizer, vect_params=vect_params,\n",
    "model=MultinomialNB, model_params=model_params, over_sample=True)"
   ]
  },
  {
   "cell_type": "code",
   "execution_count": 7,
   "id": "e9ee450f",
   "metadata": {},
   "outputs": [
    {
     "name": "stdout",
     "output_type": "stream",
     "text": [
      "F1 Score sur Mitterrand (minoritaire): 0.5466666666666666\n",
      "ROC AUC sur Chirac: 0.909089798220537\n",
      "AP sur Mitterrand (minoritaire): 0.7143688766452229\n"
     ]
    },
    {
     "name": "stderr",
     "output_type": "stream",
     "text": [
      "[nltk_data] Downloading package punkt to\n",
      "[nltk_data]     /Users/aylinsoykok/nltk_data...\n",
      "[nltk_data]   Package punkt is already up-to-date!\n",
      "[nltk_data] Downloading package punkt to\n",
      "[nltk_data]     /Users/aylinsoykok/nltk_data...\n",
      "[nltk_data]   Package punkt is already up-to-date!\n",
      "[nltk_data] Downloading package punkt to\n",
      "[nltk_data]     /Users/aylinsoykok/nltk_data...\n",
      "[nltk_data]   Package punkt is already up-to-date!\n",
      "[nltk_data] Downloading package punkt to\n",
      "[nltk_data]     /Users/aylinsoykok/nltk_data...\n",
      "[nltk_data]   Package punkt is already up-to-date!\n",
      "[nltk_data] Downloading package punkt to\n",
      "[nltk_data]     /Users/aylinsoykok/nltk_data...\n",
      "[nltk_data]   Package punkt is already up-to-date!\n",
      "[nltk_data] Downloading package punkt to\n",
      "[nltk_data]     /Users/aylinsoykok/nltk_data...\n",
      "[nltk_data]   Package punkt is already up-to-date!\n",
      "[nltk_data] Downloading package punkt to\n",
      "[nltk_data]     /Users/aylinsoykok/nltk_data...\n",
      "[nltk_data]   Package punkt is already up-to-date!\n",
      "[nltk_data] Downloading package punkt to\n",
      "[nltk_data]     /Users/aylinsoykok/nltk_data...\n",
      "[nltk_data]   Package punkt is already up-to-date!\n"
     ]
    }
   ],
   "source": [
    "# Test 2 avec Naive Bayes\n",
    "preprocessor = lambda text: remove_tags(transform_uppercase(chiffre_suppression(ponc_suppression(text))))\n",
    "vect_params = {'stop_words': None, 'max_df': 0.5, 'min_df': 2, 'ngram_range': (1, 3), 'binary': True, 'use_idf': True, 'sublinear_tf': True, 'max_features': None}\n",
    "model_params = {'alpha': 1.3, 'fit_prior': True}\n",
    "eval_test(preprocessor=preprocessor, vectorizer=TfidfVectorizer, vect_params=vect_params,\n",
    "model=MultinomialNB, model_params=model_params, over_sample=True)"
   ]
  },
  {
   "cell_type": "markdown",
   "id": "7bc32ea1",
   "metadata": {},
   "source": [
    "Les résultats avec NB sont moins biens que la regression logistique."
   ]
  },
  {
   "cell_type": "code",
   "execution_count": 5,
   "id": "57e9dddf",
   "metadata": {},
   "outputs": [
    {
     "name": "stdout",
     "output_type": "stream",
     "text": [
      "Best Score:  0.48326117719998635\n",
      "Best XGBoost Params:  {'xgb__subsample': 1.0, 'xgb__min_child_weight': 5, 'xgb__max_depth': 5, 'xgb__gamma': 1.5, 'xgb__colsample_bytree': 0.6}\n"
     ]
    }
   ],
   "source": [
    "# XGBoost\n",
    "preprocessor = lambda text: remove_tags(transform_uppercase(chiffre_suppression(ponc_suppression(text))))\n",
    "vect_params = {'stop_words': None, 'max_df': 0.5, 'min_df': 2, 'ngram_range': (1, 3), 'binary': True, 'use_idf': True, 'sublinear_tf': True, 'max_features': None}\n",
    "\n",
    "# En maximisant f1 sur Mitterand\n",
    "xg_best_score_f1, xg_params_f1 = best_params_xgb(preprocessor,vect_params,f1=True,auc=False)"
   ]
  },
  {
   "cell_type": "code",
   "execution_count": 6,
   "id": "09229353",
   "metadata": {},
   "outputs": [
    {
     "name": "stdout",
     "output_type": "stream",
     "text": [
      "Best Score:  0.831587573751312\n",
      "Best XGBoost Params:  {'xgb__subsample': 1.0, 'xgb__min_child_weight': 5, 'xgb__max_depth': 5, 'xgb__gamma': 1.5, 'xgb__colsample_bytree': 0.6}\n"
     ]
    }
   ],
   "source": [
    "# En maximisant roc auc\n",
    "xg_best_score_auc, xg_params_auc = best_params_xgb(preprocessor,vect_params,f1=False,auc=True)"
   ]
  },
  {
   "cell_type": "code",
   "execution_count": 4,
   "id": "05c5a0d5",
   "metadata": {},
   "outputs": [
    {
     "name": "stdout",
     "output_type": "stream",
     "text": [
      "F1 Score sur Mitterrand (minoritaire): 0.48168542015800814\n",
      "ROC AUC sur Chirac: 0.8375408623223584\n",
      "AP sur Mitterrand (minoritaire): 0.7362307998735431\n"
     ]
    }
   ],
   "source": [
    "# Test avec Xgboost\n",
    "preprocessor = lambda text: remove_tags(transform_uppercase(chiffre_suppression(ponc_suppression(text))))\n",
    "vect_params = {'stop_words': None, 'max_df': 0.5, 'min_df': 2, 'ngram_range': (1, 3), 'binary': True, 'use_idf': True, 'sublinear_tf': True, 'max_features': None}\n",
    "model_params = {'subsample': 1.0, 'min_child_weight': 5, 'max_depth': 5, 'gamma': 1.5, 'colsample_bytree': 0.6}\n",
    "eval_test(preprocessor=preprocessor, vectorizer=TfidfVectorizer, vect_params=vect_params,\n",
    "model=xgb.XGBClassifier, model_params=model_params, over_sample=True)"
   ]
  },
  {
   "cell_type": "markdown",
   "id": "0a42d79f",
   "metadata": {},
   "source": [
    "#### Trouver les paramètres pour SVM"
   ]
  },
  {
   "cell_type": "code",
   "execution_count": 2,
   "id": "39cd3401",
   "metadata": {},
   "outputs": [
    {
     "name": "stderr",
     "output_type": "stream",
     "text": [
      "/Users/aylinsoykok/opt/anaconda3/lib/python3.8/site-packages/sklearn/svm/_classes.py:32: FutureWarning: The default value of `dual` will change from `True` to `'auto'` in 1.5. Set the value of `dual` explicitly to suppress the warning.\n",
      "  warnings.warn(\n"
     ]
    },
    {
     "name": "stdout",
     "output_type": "stream",
     "text": [
      "F1 Score sur Mitterrand (minoritaire): 0.6528169014084507\n"
     ]
    }
   ],
   "source": [
    "# Test avec SVM\n",
    "preprocessor = lambda text: remove_tags(transform_uppercase(chiffre_suppression(ponc_suppression(text))))\n",
    "vect_params = {'stop_words': None, 'ngram_range': (1, 3), 'binary': True, 'use_idf': True, 'sublinear_tf': True, 'max_features': None}\n",
    "model_params = {'random_state': 42}\n",
    "eval_test(preprocessor=preprocessor, vectorizer=TfidfVectorizer, vect_params=vect_params,\n",
    "model=LinearSVC, model_params=model_params, over_sample=True)"
   ]
  },
  {
   "cell_type": "code",
   "execution_count": 4,
   "id": "099f85af",
   "metadata": {},
   "outputs": [
    {
     "name": "stdout",
     "output_type": "stream",
     "text": [
      "F1 Score sur Mitterrand (minoritaire): 0.5789473684210527\n"
     ]
    }
   ],
   "source": [
    "# SVM\n",
    "# penalty L1\n",
    "preprocessor = lambda text: remove_tags(transform_uppercase(chiffre_suppression(ponc_suppression(text))))\n",
    "vect_params = {'stop_words': None, 'ngram_range': (1, 3), 'binary': True, 'use_idf': True, 'sublinear_tf': True, 'max_features': None}\n",
    "model_params = {'random_state': 42, 'dual': \"auto\", 'max_iter': 10000, 'penalty': 'l1'}\n",
    "eval_test(preprocessor=preprocessor, vectorizer=TfidfVectorizer, vect_params=vect_params,\n",
    "model=LinearSVC, model_params=model_params, over_sample=True)"
   ]
  },
  {
   "cell_type": "code",
   "execution_count": 5,
   "id": "8c75edec",
   "metadata": {},
   "outputs": [
    {
     "name": "stdout",
     "output_type": "stream",
     "text": [
      "F1 Score sur Mitterrand (minoritaire): 0.6497797356828193\n"
     ]
    }
   ],
   "source": [
    "# SVM\n",
    "# C 100\n",
    "preprocessor = lambda text: remove_tags(transform_uppercase(chiffre_suppression(ponc_suppression(text))))\n",
    "vect_params = {'stop_words': None, 'ngram_range': (1, 3), 'binary': True, 'use_idf': True, 'sublinear_tf': True, 'max_features': None}\n",
    "model_params = {'random_state': 42, 'dual': \"auto\", 'max_iter': 10000, 'penalty': 'l2', 'C': 100}\n",
    "eval_test(preprocessor=preprocessor, vectorizer=TfidfVectorizer, vect_params=vect_params,\n",
    "model=LinearSVC, model_params=model_params, over_sample=True)"
   ]
  },
  {
   "cell_type": "code",
   "execution_count": 6,
   "id": "d922ec40",
   "metadata": {},
   "outputs": [
    {
     "name": "stdout",
     "output_type": "stream",
     "text": [
      "F1 Score sur Mitterrand (minoritaire): 0.6125714285714285\n"
     ]
    }
   ],
   "source": [
    "# SVM\n",
    "# C 0.1\n",
    "preprocessor = lambda text: remove_tags(transform_uppercase(chiffre_suppression(ponc_suppression(text))))\n",
    "vect_params = {'stop_words': None, 'ngram_range': (1, 3), 'binary': True, 'use_idf': True, 'sublinear_tf': True, 'max_features': None}\n",
    "model_params = {'random_state': 42, 'dual': \"auto\", 'max_iter': 10000, 'penalty': 'l2', 'C': 0.1}\n",
    "eval_test(preprocessor=preprocessor, vectorizer=TfidfVectorizer, vect_params=vect_params,\n",
    "model=LinearSVC, model_params=model_params, over_sample=True)"
   ]
  },
  {
   "cell_type": "code",
   "execution_count": 7,
   "id": "41f3cb78",
   "metadata": {},
   "outputs": [
    {
     "name": "stdout",
     "output_type": "stream",
     "text": [
      "F1 Score sur Mitterrand (minoritaire): 0.6481954064892453\n"
     ]
    },
    {
     "name": "stderr",
     "output_type": "stream",
     "text": [
      "/Users/aylinsoykok/opt/anaconda3/lib/python3.8/site-packages/sklearn/svm/_base.py:1250: ConvergenceWarning: Liblinear failed to converge, increase the number of iterations.\n",
      "  warnings.warn(\n"
     ]
    }
   ],
   "source": [
    "# SVM\n",
    "# C 1000\n",
    "preprocessor = lambda text: remove_tags(transform_uppercase(chiffre_suppression(ponc_suppression(text))))\n",
    "vect_params = {'stop_words': None, 'ngram_range': (1, 3), 'binary': True, 'use_idf': True, 'sublinear_tf': True, 'max_features': None}\n",
    "model_params = {'random_state': 42, 'dual': \"auto\", 'max_iter': 10000, 'penalty': 'l2', 'C': 1000}\n",
    "eval_test(preprocessor=preprocessor, vectorizer=TfidfVectorizer, vect_params=vect_params,\n",
    "model=LinearSVC, model_params=model_params, over_sample=True)"
   ]
  },
  {
   "cell_type": "markdown",
   "id": "b18ff509",
   "metadata": {},
   "source": [
    "Les paramètres pour SVM: 'penalty': 'l2', 'C': 1"
   ]
  },
  {
   "cell_type": "code",
   "execution_count": 2,
   "id": "40506c31",
   "metadata": {},
   "outputs": [
    {
     "name": "stderr",
     "output_type": "stream",
     "text": [
      "/Users/aylinsoykok/opt/anaconda3/lib/python3.8/site-packages/sklearn/svm/_classes.py:32: FutureWarning: The default value of `dual` will change from `True` to `'auto'` in 1.5. Set the value of `dual` explicitly to suppress the warning.\n",
      "  warnings.warn(\n",
      "/Users/aylinsoykok/opt/anaconda3/lib/python3.8/site-packages/sklearn/svm/_classes.py:32: FutureWarning: The default value of `dual` will change from `True` to `'auto'` in 1.5. Set the value of `dual` explicitly to suppress the warning.\n",
      "  warnings.warn(\n",
      "/Users/aylinsoykok/opt/anaconda3/lib/python3.8/site-packages/sklearn/svm/_classes.py:32: FutureWarning: The default value of `dual` will change from `True` to `'auto'` in 1.5. Set the value of `dual` explicitly to suppress the warning.\n",
      "  warnings.warn(\n",
      "/Users/aylinsoykok/opt/anaconda3/lib/python3.8/site-packages/sklearn/svm/_classes.py:32: FutureWarning: The default value of `dual` will change from `True` to `'auto'` in 1.5. Set the value of `dual` explicitly to suppress the warning.\n",
      "  warnings.warn(\n",
      "/Users/aylinsoykok/opt/anaconda3/lib/python3.8/site-packages/sklearn/svm/_classes.py:32: FutureWarning: The default value of `dual` will change from `True` to `'auto'` in 1.5. Set the value of `dual` explicitly to suppress the warning.\n",
      "  warnings.warn(\n"
     ]
    },
    {
     "name": "stdout",
     "output_type": "stream",
     "text": [
      "1 8.591135236546421e-08\n"
     ]
    },
    {
     "data": {
      "text/plain": [
       "array([8.59113524e-08, 1.16573730e-03, 6.97624638e-04, ...,\n",
       "       1.14937940e-05, 2.57439393e-07, 2.41415891e-03])"
      ]
     },
     "execution_count": 2,
     "metadata": {},
     "output_type": "execute_result"
    }
   ],
   "source": [
    "# test dans le serveur avec SVM\n",
    "preprocessor = lambda text: remove_tags(transform_uppercase(chiffre_suppression(ponc_suppression(text))))\n",
    "model_params = {'random_state': 42}\n",
    "vect_params = {'stop_words': None, 'ngram_range': (1, 3), 'binary': True, 'use_idf': True, 'sublinear_tf': True, 'max_features': None}\n",
    "prediction_generator(preprocessor=preprocessor, vectorizer=TfidfVectorizer, vect_params=vect_params,\n",
    "model=LinearSVC, model_params=model_params, over_sample=True, save=True)"
   ]
  },
  {
   "cell_type": "markdown",
   "id": "fb45e999",
   "metadata": {},
   "source": [
    "#### LightGBM"
   ]
  },
  {
   "cell_type": "code",
   "execution_count": 16,
   "id": "48e50956",
   "metadata": {},
   "outputs": [
    {
     "name": "stdout",
     "output_type": "stream",
     "text": [
      "Accuracy: 0.8504\n",
      "F1 Score: 0.9109\n",
      "Precision: 0.9444\n",
      "ROC AUC sur Mitterrand (minoritaire): 0.1409\n",
      "-----Metrics du serveur--------\n",
      "F1 Score sur Mitterrand (minoritaire): 0.5349\n",
      "ROC AUC sur Chirac: 0.8591\n",
      "AP sur Mitterrand (minoritaire): 0.7291\n"
     ]
    },
    {
     "data": {
      "text/plain": [
       "(0.850387529391274,\n",
       " 0.9108551266085513,\n",
       " 0.5349214943151056,\n",
       " 0.8590760470377021,\n",
       " 0.7290725359342688)"
      ]
     },
     "execution_count": 16,
     "metadata": {},
     "output_type": "execute_result"
    }
   ],
   "source": [
    "preprocessor = lambda text: remove_tags(transform_uppercase(chiffre_suppression(ponc_suppression(text))))\n",
    "vect_params = {'stop_words': None, 'ngram_range': (1, 3), 'binary': True, 'use_idf': True, 'sublinear_tf': True, 'max_features': None}\n",
    "model_params = {'objective': 'binary', 'num_leaves':50, 'verbose':-1}\n",
    "eval_test(preprocessor=preprocessor, vectorizer=TfidfVectorizer, vect_params=vect_params,\n",
    "model=lgb.LGBMClassifier, model_params=model_params, over_sample=True)"
   ]
  },
  {
   "cell_type": "code",
   "execution_count": 2,
   "id": "4c647e73",
   "metadata": {},
   "outputs": [
    {
     "name": "stderr",
     "output_type": "stream",
     "text": [
      "/Users/aylinsoykok/opt/anaconda3/lib/python3.8/site-packages/sklearn/model_selection/_search.py:307: UserWarning: The total space of parameters 36 is smaller than n_iter=50. Running 36 iterations. For exhaustive searches, use GridSearchCV.\n",
      "  warnings.warn(\n"
     ]
    },
    {
     "name": "stdout",
     "output_type": "stream",
     "text": [
      "Best Score:  0.5201070282614323\n",
      "Best LightGBM Params:  {'lgbm__verbose': -1, 'lgbm__num_leaves': 30, 'lgbm__n_estimators': 150, 'lgbm__learning_rate': 0.2}\n"
     ]
    }
   ],
   "source": [
    "# Trouver les paramètres pour LightGBM\n",
    "preprocessor = lambda text: remove_tags(transform_uppercase(chiffre_suppression(ponc_suppression(text))))\n",
    "vect_params = {'stop_words': None, 'ngram_range': (1, 3), 'binary': True, 'use_idf': True, 'sublinear_tf': True, 'max_features': None}\n",
    "\n",
    "# En maximisant f1 sur Mitterand\n",
    "gbm_best_score_f1, gbm_params_f1 = best_params_lgbm(preprocessor,vect_params,f1=True,auc=False)"
   ]
  },
  {
   "cell_type": "code",
   "execution_count": 3,
   "id": "c2e33198",
   "metadata": {},
   "outputs": [
    {
     "name": "stdout",
     "output_type": "stream",
     "text": [
      "Accuracy: 0.8672\n",
      "F1 Score: 0.9223\n",
      "Precision: 0.9383\n",
      "ROC AUC sur Mitterrand (minoritaire): 0.1392\n",
      "-----Metrics du serveur--------\n",
      "F1 Score sur Mitterrand (minoritaire): 0.5441\n",
      "ROC AUC sur Chirac: 0.8608\n",
      "AP sur Mitterrand (minoritaire): 0.7284\n"
     ]
    },
    {
     "data": {
      "text/plain": [
       "(0.8671949838892276,\n",
       " 0.9222771520309873,\n",
       " 0.5440956651718983,\n",
       " 0.8607767986580444,\n",
       " 0.7284138303489062)"
      ]
     },
     "execution_count": 3,
     "metadata": {},
     "output_type": "execute_result"
    }
   ],
   "source": [
    "preprocessor = lambda text: remove_tags(transform_uppercase(chiffre_suppression(ponc_suppression(text))))\n",
    "vect_params = {'stop_words': None, 'ngram_range': (1, 3), 'binary': True, 'use_idf': True, 'sublinear_tf': True, 'max_features': None}\n",
    "model_params = {'objective': 'binary', 'num_leaves':30, 'verbose':-1,'learning_rate':0.2, 'n_estimators':150}\n",
    "eval_test(preprocessor=preprocessor, vectorizer=TfidfVectorizer, vect_params=vect_params,\n",
    "model=lgb.LGBMClassifier, model_params=model_params, over_sample=True)"
   ]
  },
  {
   "cell_type": "code",
   "execution_count": null,
   "id": "89526d2a",
   "metadata": {},
   "outputs": [],
   "source": [
    "# Trouver les paramètres pour LightGBM\n",
    "preprocessor = lambda text: remove_tags(transform_uppercase(chiffre_suppression(ponc_suppression(text))))\n",
    "vect_params = {'stop_words': None, 'ngram_range': (1, 3), 'binary': True, 'use_idf': True, 'sublinear_tf': True, 'max_features': None}\n",
    "\n",
    "# En maximisant roc auc\n",
    "gbm_best_score_f1, gbm_params_f1 = best_params_lgbm(preprocessor,vect_params,f1=False,auc=True)"
   ]
  },
  {
   "cell_type": "markdown",
   "id": "3f233a6f",
   "metadata": {},
   "source": [
    "### Post-processing"
   ]
  },
  {
   "cell_type": "code",
   "execution_count": 4,
   "id": "d82ceefd",
   "metadata": {},
   "outputs": [
    {
     "name": "stdout",
     "output_type": "stream",
     "text": [
      "Accuracy: 0.9090\n",
      "F1 Score: 0.9480\n",
      "Precision: 0.9417\n",
      "ROC AUC sur Mitterrand (minoritaire): 0.0968\n",
      "-----Metrics du serveur--------\n",
      "F1 Score sur Mitterrand (minoritaire): 0.6368\n",
      "ROC AUC sur Chirac: 0.9032\n",
      "AP sur Mitterrand (minoritaire): 0.7156\n"
     ]
    }
   ],
   "source": [
    "# Sans post-processing\n",
    "# Logistic Regression\n",
    "model_params = {'C': 100.0, 'solver': 'liblinear'}\n",
    "vect_params = {'stop_words': None, 'max_df': 0.5, 'min_df': 2, 'ngram_range': (1, 3), 'binary': True, 'use_idf': True, 'sublinear_tf': True, 'max_features': None}\n",
    "preprocessor = lambda text: remove_tags(transform_uppercase(chiffre_suppression(ponc_suppression(text))))\n",
    "post_lr = eval_test(preprocessor=preprocessor, vectorizer=TfidfVectorizer, vect_params=vect_params,\n",
    "model=LogisticRegression, model_params=model_params, over_sample=True, post_processing=False)"
   ]
  },
  {
   "cell_type": "markdown",
   "id": "46403ac4",
   "metadata": {},
   "source": [
    "threshold pour smoothing = 0.5"
   ]
  },
  {
   "cell_type": "code",
   "execution_count": 3,
   "id": "3f890f72",
   "metadata": {},
   "outputs": [
    {
     "name": "stdout",
     "output_type": "stream",
     "text": [
      "Accuracy: 0.9090\n",
      "F1 Score: 0.9480\n",
      "Precision: 0.9417\n",
      "ROC AUC sur Mitterrand (minoritaire): 0.5004\n",
      "-----Metrics du serveur--------\n",
      "F1 Score sur Mitterrand (minoritaire): 0.6368\n",
      "ROC AUC sur Chirac: 0.5004\n",
      "AP sur Mitterrand (minoritaire): 0.8690\n"
     ]
    }
   ],
   "source": [
    "# Avec post-processing\n",
    "# Logistic Regression\n",
    "model_params = {'C': 100.0, 'solver': 'liblinear'}\n",
    "vect_params = {'stop_words': None, 'max_df': 0.5, 'min_df': 2, 'ngram_range': (1, 3), 'binary': True, 'use_idf': True, 'sublinear_tf': True, 'max_features': None}\n",
    "preprocessor = lambda text: remove_tags(transform_uppercase(chiffre_suppression(ponc_suppression(text))))\n",
    "post_lr = eval_test(preprocessor=preprocessor, vectorizer=TfidfVectorizer, vect_params=vect_params,\n",
    "model=LogisticRegression, model_params=model_params, over_sample=True, post_processing=True)"
   ]
  },
  {
   "cell_type": "markdown",
   "id": "28e0ca91",
   "metadata": {},
   "source": [
    "F1 Score sur Mitterrand reste la meme, ROC AUC sur Chirac a beaucoup diminué, AP sur Mitterrand a augmenté"
   ]
  },
  {
   "cell_type": "markdown",
   "id": "5453754d",
   "metadata": {},
   "source": [
    "threshold pour smoothing = 0.65"
   ]
  },
  {
   "cell_type": "code",
   "execution_count": 2,
   "id": "9b5b1fc3",
   "metadata": {},
   "outputs": [
    {
     "name": "stdout",
     "output_type": "stream",
     "text": [
      "Accuracy: 0.9090\n",
      "F1 Score: 0.9480\n",
      "Precision: 0.9417\n",
      "ROC AUC sur Mitterrand (minoritaire): 0.5000\n",
      "-----Metrics du serveur--------\n",
      "F1 Score sur Mitterrand (minoritaire): 0.6368\n",
      "ROC AUC sur Chirac: 0.5000\n",
      "AP sur Mitterrand (minoritaire): 0.8689\n"
     ]
    }
   ],
   "source": [
    "# post-processing\n",
    "# threshold = 0.65\n",
    "# Logistic Regression\n",
    "model_params = {'C': 100.0, 'solver': 'liblinear'}\n",
    "vect_params = {'stop_words': None, 'max_df': 0.5, 'min_df': 2, 'ngram_range': (1, 3), 'binary': True, 'use_idf': True, 'sublinear_tf': True, 'max_features': None}\n",
    "preprocessor = lambda text: remove_tags(transform_uppercase(chiffre_suppression(ponc_suppression(text))))\n",
    "post_lr = eval_test(preprocessor=preprocessor, vectorizer=TfidfVectorizer, vect_params=vect_params,\n",
    "model=LogisticRegression, model_params=model_params, over_sample=True, post_processing=True)"
   ]
  },
  {
   "cell_type": "markdown",
   "id": "f4a0286d",
   "metadata": {},
   "source": [
    "threshold pour smoothing = 0.3"
   ]
  },
  {
   "cell_type": "code",
   "execution_count": 2,
   "id": "665d7f5c",
   "metadata": {},
   "outputs": [
    {
     "name": "stdout",
     "output_type": "stream",
     "text": [
      "Accuracy: 0.9090\n",
      "F1 Score: 0.9480\n",
      "Precision: 0.9417\n",
      "ROC AUC sur Mitterrand (minoritaire): 0.5000\n",
      "-----Metrics du serveur--------\n",
      "F1 Score sur Mitterrand (minoritaire): 0.6368\n",
      "ROC AUC sur Chirac: 0.5000\n",
      "AP sur Mitterrand (minoritaire): 0.8689\n"
     ]
    }
   ],
   "source": [
    "# post-processing\n",
    "# threshold = 0.3\n",
    "# Logistic Regression\n",
    "model_params = {'C': 100.0, 'solver': 'liblinear'}\n",
    "vect_params = {'stop_words': None, 'max_df': 0.5, 'min_df': 2, 'ngram_range': (1, 3), 'binary': True, 'use_idf': True, 'sublinear_tf': True, 'max_features': None}\n",
    "preprocessor = lambda text: remove_tags(transform_uppercase(chiffre_suppression(ponc_suppression(text))))\n",
    "post_lr = eval_test(preprocessor=preprocessor, vectorizer=TfidfVectorizer, vect_params=vect_params,\n",
    "model=LogisticRegression, model_params=model_params, over_sample=True, post_processing=True)"
   ]
  },
  {
   "cell_type": "code",
   "execution_count": null,
   "id": "74d424b2",
   "metadata": {},
   "outputs": [],
   "source": []
  }
 ],
 "metadata": {
  "kernelspec": {
   "display_name": "Python 3",
   "language": "python",
   "name": "python3"
  },
  "language_info": {
   "codemirror_mode": {
    "name": "ipython",
    "version": 3
   },
   "file_extension": ".py",
   "mimetype": "text/x-python",
   "name": "python",
   "nbconvert_exporter": "python",
   "pygments_lexer": "ipython3",
   "version": "3.11.5"
  }
 },
 "nbformat": 4,
 "nbformat_minor": 5
}
