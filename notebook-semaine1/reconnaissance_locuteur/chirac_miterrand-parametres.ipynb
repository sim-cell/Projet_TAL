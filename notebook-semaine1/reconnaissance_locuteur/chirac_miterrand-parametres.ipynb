{
 "cells": [
  {
   "cell_type": "markdown",
   "id": "36d07529",
   "metadata": {},
   "source": [
    "# Reconnaissance du locuteur (Chirac/Mitterrand)"
   ]
  },
  {
   "cell_type": "markdown",
   "id": "93e6efe8",
   "metadata": {},
   "source": [
    "### SOYKOK Aylin 28711545 - CELIK Simay 28713301 </b>"
   ]
  },
  {
   "cell_type": "markdown",
   "id": "cd65bb46",
   "metadata": {},
   "source": [
    "## Meilleurs paramètres"
   ]
  },
  {
   "cell_type": "markdown",
   "id": "dfce14e8",
   "metadata": {},
   "source": [
    "<b>\n",
    "Ce notebook est créé afin de : <br>\n",
    "    -tester quelle moyenne de BoW est plus exacte selon les paramètres\n",
    "</b>"
   ]
  },
  {
   "cell_type": "code",
   "execution_count": 1,
   "id": "458840f5",
   "metadata": {
    "scrolled": true
   },
   "outputs": [],
   "source": [
    "import numpy as np\n",
    "import matplotlib.pyplot as plt\n",
    "import codecs\n",
    "import re\n",
    "import os.path\n",
    "import string\n",
    "import nltk\n",
    "from nltk.stem.snowball import FrenchStemmer\n",
    "from wordcloud import WordCloud\n",
    "from sklearn.feature_extraction.text import CountVectorizer,TfidfVectorizer\n",
    "from collections import Counter\n",
    "from nltk.corpus import stopwords\n",
    "from utils_donnee import *\n",
    "from evaluation import *\n",
    "\n",
    "# Chargement des données\n",
    "fname = \"./datasets/AFDpresidentutf8/corpus.tache1.learn.utf8\"\n",
    "alltxts,alllabs = load_pres(fname)"
   ]
  },
  {
   "cell_type": "markdown",
   "id": "7949759f",
   "metadata": {},
   "source": [
    "### Test des parametres pour TfidfVectorizer"
   ]
  },
  {
   "cell_type": "markdown",
   "id": "7a15a25c",
   "metadata": {},
   "source": [
    "test avec suppression de la ponctuation, des accents et des chiffres, transformation des mots entièrement en majuscule en marqueurs spécifiques, supression des balises"
   ]
  },
  {
   "cell_type": "code",
   "execution_count": 3,
   "id": "ad58758b",
   "metadata": {},
   "outputs": [],
   "source": [
    "preprocessor = lambda text: remove_tags(transform_uppercase(accent_suppression(chiffre_suppression(ponc_suppression(text)))))\n",
    "model_params = {'C': 100.0, 'solver': 'liblinear'}"
   ]
  },
  {
   "cell_type": "markdown",
   "id": "32f156b5",
   "metadata": {},
   "source": [
    "#### sublinear_tf=True ou False"
   ]
  },
  {
   "cell_type": "code",
   "execution_count": 25,
   "id": "69bf5900",
   "metadata": {},
   "outputs": [
    {
     "name": "stdout",
     "output_type": "stream",
     "text": [
      "Accuracy: 0.8652\n",
      "F1 Score: 0.9211\n",
      "Precision: 0.9368\n",
      "ROC AUC sur Mitterrand (minoritaire): 0.1464\n",
      "-----Metrics du serveur--------\n",
      "F1 Score sur Mitterrand (minoritaire): 0.5362\n",
      "ROC AUC sur Chirac: 0.8536\n",
      "AP sur Mitterrand (minoritaire): 0.7306\n"
     ]
    }
   ],
   "source": [
    "vect_params = {'sublinear_tf': True}\n",
    "res1 = eval_test(preprocessor=preprocessor, vectorizer=TfidfVectorizer, vect_params=vect_params,\n",
    "model=LogisticRegression, model_params=model_params, over_sample=True)"
   ]
  },
  {
   "cell_type": "code",
   "execution_count": 26,
   "id": "3fdf7cd0",
   "metadata": {},
   "outputs": [
    {
     "name": "stdout",
     "output_type": "stream",
     "text": [
      "Accuracy: 0.8645\n",
      "F1 Score: 0.9207\n",
      "Precision: 0.9364\n",
      "ROC AUC sur Mitterrand (minoritaire): 0.1467\n",
      "-----Metrics du serveur--------\n",
      "F1 Score sur Mitterrand (minoritaire): 0.5339\n",
      "ROC AUC sur Chirac: 0.8533\n",
      "AP sur Mitterrand (minoritaire): 0.7307\n"
     ]
    }
   ],
   "source": [
    "vect_params = {'sublinear_tf': False}\n",
    "res2 = eval_test(preprocessor=preprocessor, vectorizer=TfidfVectorizer, vect_params=vect_params,\n",
    "model=LogisticRegression, model_params=model_params, over_sample=True)"
   ]
  },
  {
   "cell_type": "code",
   "execution_count": 27,
   "id": "6d59d547",
   "metadata": {},
   "outputs": [
    {
     "name": "stdout",
     "output_type": "stream",
     "text": [
      "Nb de fois res1 était plus accurate que res2 : ([1, 1, 1, 1, 2], 0.8)\n"
     ]
    }
   ],
   "source": [
    "print(f'Nb de fois res1 était plus accurate que res2 : {accuracy_difference(res1,res2)}')"
   ]
  },
  {
   "cell_type": "markdown",
   "id": "7ad4f0a2",
   "metadata": {},
   "source": [
    "Sublinear_tf est utile sauf pour le score de AP sur Mitterrand."
   ]
  },
  {
   "cell_type": "markdown",
   "id": "558cce26",
   "metadata": {},
   "source": [
    "#### ngram_range = (1,2)"
   ]
  },
  {
   "cell_type": "code",
   "execution_count": 40,
   "id": "8f3c383f",
   "metadata": {},
   "outputs": [
    {
     "name": "stdout",
     "output_type": "stream",
     "text": [
      "Accuracy: 0.9105\n",
      "F1 Score: 0.9488\n",
      "Precision: 0.9428\n",
      "ROC AUC sur Mitterrand (minoritaire): 0.0967\n",
      "-----Metrics du serveur--------\n",
      "F1 Score sur Mitterrand (minoritaire): 0.6433\n",
      "ROC AUC sur Chirac: 0.9033\n",
      "AP sur Mitterrand (minoritaire): 0.7157\n"
     ]
    }
   ],
   "source": [
    "vect_params = {'ngram_range': (1,2)}\n",
    "res3 = eval_test(preprocessor=preprocessor, vectorizer=TfidfVectorizer, vect_params=vect_params,\n",
    "model=LogisticRegression, model_params=model_params, over_sample=True)"
   ]
  },
  {
   "cell_type": "markdown",
   "id": "e01874fb",
   "metadata": {},
   "source": [
    "En général, augmente F1 Score sur Mitterrand mais diminue ROC AUC et AP sur Mitterrand."
   ]
  },
  {
   "cell_type": "markdown",
   "id": "9c2e94d1",
   "metadata": {},
   "source": [
    "#### ngram_range = (1,3)"
   ]
  },
  {
   "cell_type": "code",
   "execution_count": 41,
   "id": "c163c11e",
   "metadata": {},
   "outputs": [
    {
     "name": "stdout",
     "output_type": "stream",
     "text": [
      "Accuracy: 0.9081\n",
      "F1 Score: 0.9473\n",
      "Precision: 0.9446\n",
      "ROC AUC sur Mitterrand (minoritaire): 0.0920\n",
      "-----Metrics du serveur--------\n",
      "F1 Score sur Mitterrand (minoritaire): 0.6427\n",
      "ROC AUC sur Chirac: 0.9080\n",
      "AP sur Mitterrand (minoritaire): 0.7144\n"
     ]
    }
   ],
   "source": [
    "vect_params = {'ngram_range': (1,3)}\n",
    "res4 = eval_test(preprocessor=preprocessor, vectorizer=TfidfVectorizer, vect_params=vect_params,\n",
    "model=LogisticRegression, model_params=model_params, over_sample=True)"
   ]
  },
  {
   "cell_type": "code",
   "execution_count": 42,
   "id": "73362dd3",
   "metadata": {},
   "outputs": [
    {
     "name": "stdout",
     "output_type": "stream",
     "text": [
      "Nb de fois (1,3) était plus accurate que (1,2) : ([1, 1, 1, 2, 1], 0.8)\n"
     ]
    }
   ],
   "source": [
    "print(f'Nb de fois (1,3) était plus accurate que (1,2) : {accuracy_difference(res3,res4)}')"
   ]
  },
  {
   "cell_type": "markdown",
   "id": "d8df452f",
   "metadata": {},
   "source": [
    "ngram_range = (1,3) est mieux que ngram_range = (1,2)"
   ]
  },
  {
   "cell_type": "markdown",
   "id": "584c86c1",
   "metadata": {},
   "source": [
    "#### ngram_range = (1,4)"
   ]
  },
  {
   "cell_type": "code",
   "execution_count": 43,
   "id": "c5011232",
   "metadata": {},
   "outputs": [
    {
     "name": "stdout",
     "output_type": "stream",
     "text": [
      "Accuracy: 0.9008\n",
      "F1 Score: 0.9425\n",
      "Precision: 0.9499\n",
      "ROC AUC sur Mitterrand (minoritaire): 0.0940\n",
      "-----Metrics du serveur--------\n",
      "F1 Score sur Mitterrand (minoritaire): 0.6401\n",
      "ROC AUC sur Chirac: 0.9060\n",
      "AP sur Mitterrand (minoritaire): 0.7149\n"
     ]
    }
   ],
   "source": [
    "vect_params = {'ngram_range': (1,4)}\n",
    "res5 = eval_test(preprocessor=preprocessor, vectorizer=TfidfVectorizer, vect_params=vect_params,\n",
    "model=LogisticRegression, model_params=model_params, over_sample=True)"
   ]
  },
  {
   "cell_type": "code",
   "execution_count": 44,
   "id": "cd41a79c",
   "metadata": {},
   "outputs": [
    {
     "name": "stdout",
     "output_type": "stream",
     "text": [
      "Nb de fois (1,3) était plus accurate que (1,4) : ([1, 1, 1, 2, 1], 0.8)\n"
     ]
    }
   ],
   "source": [
    "print(f'Nb de fois (1,3) était plus accurate que (1,4) : {accuracy_difference(res3,res5)}')"
   ]
  },
  {
   "cell_type": "markdown",
   "id": "4cbee340",
   "metadata": {},
   "source": [
    "ngram_range = (1,3) est mieux que ngram_range = (1,4)"
   ]
  },
  {
   "cell_type": "markdown",
   "id": "069ebbc1",
   "metadata": {},
   "source": [
    "#### Test dans le serveur avec oversampling, ngram_range = (1,3) "
   ]
  },
  {
   "cell_type": "code",
   "execution_count": 38,
   "id": "eb03740d",
   "metadata": {},
   "outputs": [
    {
     "name": "stdout",
     "output_type": "stream",
     "text": [
      "1 0.0002687374985183011\n"
     ]
    },
    {
     "data": {
      "text/plain": [
       "array([0.00026874, 0.07773948, 0.06311755, ..., 0.00605084, 0.0006643 ,\n",
       "       0.12114972])"
      ]
     },
     "execution_count": 38,
     "metadata": {},
     "output_type": "execute_result"
    }
   ],
   "source": [
    "#suppression de la ponctuation et des chiffres, transformation des mots entièrement en majuscule en marqueurs spécifiques, \n",
    "# supression des balises\n",
    "vect_params = {'ngram_range': (1,3)}\n",
    "prediction_generator(preprocessor=preprocessor, vectorizer=TfidfVectorizer, vect_params=vect_params,\n",
    "model=LogisticRegression, model_params=model_params, over_sample=True, save=True)"
   ]
  },
  {
   "cell_type": "markdown",
   "id": "0331aa77",
   "metadata": {},
   "source": [
    "## Trouver les meilleures paramètres"
   ]
  },
  {
   "cell_type": "code",
   "execution_count": 9,
   "id": "9b0baba9",
   "metadata": {},
   "outputs": [],
   "source": [
    "#stop words preprocessed\n",
    "french_stop_words = stopwords.words('french')\n",
    "preprocessed_fr_stop_words = [unicodedata.normalize('NFKD', word).encode('ascii', 'ignore').decode('utf-8') for word in french_stop_words]"
   ]
  },
  {
   "cell_type": "code",
   "execution_count": 10,
   "id": "b3e659de",
   "metadata": {},
   "outputs": [
    {
     "ename": "KeyboardInterrupt",
     "evalue": "",
     "output_type": "error",
     "traceback": [
      "\u001b[1;31m---------------------------------------------------------------------------\u001b[0m",
      "\u001b[1;31mKeyboardInterrupt\u001b[0m                         Traceback (most recent call last)",
      "Cell \u001b[1;32mIn[10], line 12\u001b[0m\n\u001b[0;32m      1\u001b[0m vect_params \u001b[38;5;241m=\u001b[39m {\n\u001b[0;32m      2\u001b[0m         \u001b[38;5;124m'\u001b[39m\u001b[38;5;124mstop_words\u001b[39m\u001b[38;5;124m'\u001b[39m: [preprocessed_fr_stop_words, \u001b[38;5;28;01mNone\u001b[39;00m],\n\u001b[0;32m      3\u001b[0m         \u001b[38;5;124m'\u001b[39m\u001b[38;5;124mmax_df\u001b[39m\u001b[38;5;124m'\u001b[39m: [\u001b[38;5;241m0.5\u001b[39m, \u001b[38;5;241m0.75\u001b[39m, \u001b[38;5;241m1.0\u001b[39m], \n\u001b[1;32m   (...)\u001b[0m\n\u001b[0;32m      9\u001b[0m         \u001b[38;5;124m'\u001b[39m\u001b[38;5;124mmax_features\u001b[39m\u001b[38;5;124m'\u001b[39m: [\u001b[38;5;28;01mNone\u001b[39;00m, \u001b[38;5;241m1000\u001b[39m, \u001b[38;5;241m5000\u001b[39m, \u001b[38;5;241m10000\u001b[39m]\n\u001b[0;32m     10\u001b[0m }\n\u001b[1;32m---> 12\u001b[0m new_vect_params, new_best_score \u001b[38;5;241m=\u001b[39m \u001b[43mfind_best_params\u001b[49m\u001b[43m(\u001b[49m\u001b[43mpreprocessor\u001b[49m\u001b[38;5;241;43m=\u001b[39;49m\u001b[43mpreprocessor\u001b[49m\u001b[43m,\u001b[49m\u001b[43mvectorizer\u001b[49m\u001b[38;5;241;43m=\u001b[39;49m\u001b[43mTfidfVectorizer\u001b[49m\u001b[43m,\u001b[49m\u001b[43mvect_params\u001b[49m\u001b[38;5;241;43m=\u001b[39;49m\u001b[43mvect_params\u001b[49m\u001b[43m,\u001b[49m\n\u001b[0;32m     13\u001b[0m \u001b[43mmodel\u001b[49m\u001b[38;5;241;43m=\u001b[39;49m\u001b[43mLogisticRegression\u001b[49m\u001b[43m,\u001b[49m\u001b[43mmodel_params\u001b[49m\u001b[38;5;241;43m=\u001b[39;49m\u001b[43mmodel_params\u001b[49m\u001b[43m)\u001b[49m\n\u001b[0;32m     14\u001b[0m \u001b[38;5;28mprint\u001b[39m(\u001b[38;5;124m\"\u001b[39m\u001b[38;5;124mvect params:\u001b[39m\u001b[38;5;124m\"\u001b[39m,new_vect_params)\n\u001b[0;32m     15\u001b[0m \u001b[38;5;28mprint\u001b[39m(\u001b[38;5;124m\"\u001b[39m\u001b[38;5;124mscore:\u001b[39m\u001b[38;5;124m\"\u001b[39m,new_best_score)\n",
      "File \u001b[1;32m~\\Desktop\\M1\\RITAL\\Projet_TAL\\notebook-semaine1\\reconnaissance_locuteur\\evaluation.py:206\u001b[0m, in \u001b[0;36mfind_best_params\u001b[1;34m(preprocessor, vectorizer, vect_params, model, model_params)\u001b[0m\n\u001b[0;32m    204\u001b[0m \u001b[38;5;66;03m# Vectorization\u001b[39;00m\n\u001b[0;32m    205\u001b[0m vec \u001b[38;5;241m=\u001b[39m vectorizer(preprocessor\u001b[38;5;241m=\u001b[39mpreprocessor,\u001b[38;5;241m*\u001b[39m\u001b[38;5;241m*\u001b[39mvec_params)\n\u001b[1;32m--> 206\u001b[0m x_train_trainsformed \u001b[38;5;241m=\u001b[39m \u001b[43mvec\u001b[49m\u001b[38;5;241;43m.\u001b[39;49m\u001b[43mfit_transform\u001b[49m\u001b[43m(\u001b[49m\u001b[43mx_train\u001b[49m\u001b[43m)\u001b[49m\n\u001b[0;32m    207\u001b[0m x_test_trainsformed \u001b[38;5;241m=\u001b[39m vec\u001b[38;5;241m.\u001b[39mtransform(x_test)\n\u001b[0;32m    209\u001b[0m \u001b[38;5;66;03m# Over Sampling\u001b[39;00m\n",
      "File \u001b[1;32m~\\miniconda3\\Lib\\site-packages\\sklearn\\feature_extraction\\text.py:2138\u001b[0m, in \u001b[0;36mTfidfVectorizer.fit_transform\u001b[1;34m(self, raw_documents, y)\u001b[0m\n\u001b[0;32m   2131\u001b[0m \u001b[38;5;28mself\u001b[39m\u001b[38;5;241m.\u001b[39m_check_params()\n\u001b[0;32m   2132\u001b[0m \u001b[38;5;28mself\u001b[39m\u001b[38;5;241m.\u001b[39m_tfidf \u001b[38;5;241m=\u001b[39m TfidfTransformer(\n\u001b[0;32m   2133\u001b[0m     norm\u001b[38;5;241m=\u001b[39m\u001b[38;5;28mself\u001b[39m\u001b[38;5;241m.\u001b[39mnorm,\n\u001b[0;32m   2134\u001b[0m     use_idf\u001b[38;5;241m=\u001b[39m\u001b[38;5;28mself\u001b[39m\u001b[38;5;241m.\u001b[39muse_idf,\n\u001b[0;32m   2135\u001b[0m     smooth_idf\u001b[38;5;241m=\u001b[39m\u001b[38;5;28mself\u001b[39m\u001b[38;5;241m.\u001b[39msmooth_idf,\n\u001b[0;32m   2136\u001b[0m     sublinear_tf\u001b[38;5;241m=\u001b[39m\u001b[38;5;28mself\u001b[39m\u001b[38;5;241m.\u001b[39msublinear_tf,\n\u001b[0;32m   2137\u001b[0m )\n\u001b[1;32m-> 2138\u001b[0m X \u001b[38;5;241m=\u001b[39m \u001b[38;5;28;43msuper\u001b[39;49m\u001b[43m(\u001b[49m\u001b[43m)\u001b[49m\u001b[38;5;241;43m.\u001b[39;49m\u001b[43mfit_transform\u001b[49m\u001b[43m(\u001b[49m\u001b[43mraw_documents\u001b[49m\u001b[43m)\u001b[49m\n\u001b[0;32m   2139\u001b[0m \u001b[38;5;28mself\u001b[39m\u001b[38;5;241m.\u001b[39m_tfidf\u001b[38;5;241m.\u001b[39mfit(X)\n\u001b[0;32m   2140\u001b[0m \u001b[38;5;66;03m# X is already a transformed view of raw_documents so\u001b[39;00m\n\u001b[0;32m   2141\u001b[0m \u001b[38;5;66;03m# we set copy to False\u001b[39;00m\n",
      "File \u001b[1;32m~\\miniconda3\\Lib\\site-packages\\sklearn\\base.py:1351\u001b[0m, in \u001b[0;36m_fit_context.<locals>.decorator.<locals>.wrapper\u001b[1;34m(estimator, *args, **kwargs)\u001b[0m\n\u001b[0;32m   1344\u001b[0m     estimator\u001b[38;5;241m.\u001b[39m_validate_params()\n\u001b[0;32m   1346\u001b[0m \u001b[38;5;28;01mwith\u001b[39;00m config_context(\n\u001b[0;32m   1347\u001b[0m     skip_parameter_validation\u001b[38;5;241m=\u001b[39m(\n\u001b[0;32m   1348\u001b[0m         prefer_skip_nested_validation \u001b[38;5;129;01mor\u001b[39;00m global_skip_validation\n\u001b[0;32m   1349\u001b[0m     )\n\u001b[0;32m   1350\u001b[0m ):\n\u001b[1;32m-> 1351\u001b[0m     \u001b[38;5;28;01mreturn\u001b[39;00m \u001b[43mfit_method\u001b[49m\u001b[43m(\u001b[49m\u001b[43mestimator\u001b[49m\u001b[43m,\u001b[49m\u001b[43m \u001b[49m\u001b[38;5;241;43m*\u001b[39;49m\u001b[43margs\u001b[49m\u001b[43m,\u001b[49m\u001b[43m \u001b[49m\u001b[38;5;241;43m*\u001b[39;49m\u001b[38;5;241;43m*\u001b[39;49m\u001b[43mkwargs\u001b[49m\u001b[43m)\u001b[49m\n",
      "File \u001b[1;32m~\\miniconda3\\Lib\\site-packages\\sklearn\\feature_extraction\\text.py:1402\u001b[0m, in \u001b[0;36mCountVectorizer.fit_transform\u001b[1;34m(self, raw_documents, y)\u001b[0m\n\u001b[0;32m   1400\u001b[0m \u001b[38;5;28;01mif\u001b[39;00m max_features \u001b[38;5;129;01mis\u001b[39;00m \u001b[38;5;129;01mnot\u001b[39;00m \u001b[38;5;28;01mNone\u001b[39;00m:\n\u001b[0;32m   1401\u001b[0m     X \u001b[38;5;241m=\u001b[39m \u001b[38;5;28mself\u001b[39m\u001b[38;5;241m.\u001b[39m_sort_features(X, vocabulary)\n\u001b[1;32m-> 1402\u001b[0m X, \u001b[38;5;28mself\u001b[39m\u001b[38;5;241m.\u001b[39mstop_words_ \u001b[38;5;241m=\u001b[39m \u001b[38;5;28;43mself\u001b[39;49m\u001b[38;5;241;43m.\u001b[39;49m\u001b[43m_limit_features\u001b[49m\u001b[43m(\u001b[49m\n\u001b[0;32m   1403\u001b[0m \u001b[43m    \u001b[49m\u001b[43mX\u001b[49m\u001b[43m,\u001b[49m\u001b[43m \u001b[49m\u001b[43mvocabulary\u001b[49m\u001b[43m,\u001b[49m\u001b[43m \u001b[49m\u001b[43mmax_doc_count\u001b[49m\u001b[43m,\u001b[49m\u001b[43m \u001b[49m\u001b[43mmin_doc_count\u001b[49m\u001b[43m,\u001b[49m\u001b[43m \u001b[49m\u001b[43mmax_features\u001b[49m\n\u001b[0;32m   1404\u001b[0m \u001b[43m\u001b[49m\u001b[43m)\u001b[49m\n\u001b[0;32m   1405\u001b[0m \u001b[38;5;28;01mif\u001b[39;00m max_features \u001b[38;5;129;01mis\u001b[39;00m \u001b[38;5;28;01mNone\u001b[39;00m:\n\u001b[0;32m   1406\u001b[0m     X \u001b[38;5;241m=\u001b[39m \u001b[38;5;28mself\u001b[39m\u001b[38;5;241m.\u001b[39m_sort_features(X, vocabulary)\n",
      "File \u001b[1;32m~\\miniconda3\\Lib\\site-packages\\sklearn\\feature_extraction\\text.py:1251\u001b[0m, in \u001b[0;36mCountVectorizer._limit_features\u001b[1;34m(self, X, vocabulary, high, low, limit)\u001b[0m\n\u001b[0;32m   1249\u001b[0m     \u001b[38;5;28;01melse\u001b[39;00m:\n\u001b[0;32m   1250\u001b[0m         \u001b[38;5;28;01mdel\u001b[39;00m vocabulary[term]\n\u001b[1;32m-> 1251\u001b[0m         removed_terms\u001b[38;5;241m.\u001b[39madd(term)\n\u001b[0;32m   1252\u001b[0m kept_indices \u001b[38;5;241m=\u001b[39m np\u001b[38;5;241m.\u001b[39mwhere(mask)[\u001b[38;5;241m0\u001b[39m]\n\u001b[0;32m   1253\u001b[0m \u001b[38;5;28;01mif\u001b[39;00m \u001b[38;5;28mlen\u001b[39m(kept_indices) \u001b[38;5;241m==\u001b[39m \u001b[38;5;241m0\u001b[39m:\n",
      "\u001b[1;31mKeyboardInterrupt\u001b[0m: "
     ]
    }
   ],
   "source": [
    "vect_params = {\n",
    "        'stop_words': [stopwords.words('french'), None],\n",
    "        'max_df': [0.5, 0.75, 1.0], \n",
    "        'min_df': [2, 3, 5], \n",
    "        'ngram_range': [(1, 3), (2, 3)], \n",
    "        'binary': [True, False],\n",
    "        'use_idf': [True, False],\n",
    "        'sublinear_tf': [True, False],\n",
    "        'max_features': [None, 1000, 5000, 10000]\n",
    "}\n",
    "\n",
    "new_vect_params, new_best_score = find_best_params(preprocessor=preprocessor,vectorizer=TfidfVectorizer,vect_params=vect_params,\n",
    "model=LogisticRegression,model_params=model_params)\n",
    "print(\"vect params:\",new_vect_params)\n",
    "print(\"score:\",new_best_score)"
   ]
  },
  {
   "cell_type": "raw",
   "id": "649abaa5",
   "metadata": {},
   "source": [
    "vect params= {'stop_words': None, 'max_df': 0.5, 'min_df': 2, 'ngram_range': (1, 3), 'binary': True, 'use_idf': True, 'sublinear_tf': True, 'max_features': None}\n",
    "score= 0.6367744177963155"
   ]
  },
  {
   "cell_type": "code",
   "execution_count": 6,
   "id": "7a3787bb",
   "metadata": {},
   "outputs": [
    {
     "name": "stdout",
     "output_type": "stream",
     "text": [
      "Best Score:  0.6202060991099231\n",
      "Best Logistic Regression Params:  {'lr__C': 10, 'lr__penalty': 'l2', 'lr__solver': 'liblinear'}\n"
     ]
    },
    {
     "name": "stderr",
     "output_type": "stream",
     "text": [
      "[nltk_data] Downloading package punkt to\n",
      "[nltk_data]     /Users/aylinsoykok/nltk_data...\n",
      "[nltk_data]   Package punkt is already up-to-date!\n",
      "[nltk_data] Downloading package punkt to\n",
      "[nltk_data]     /Users/aylinsoykok/nltk_data...\n",
      "[nltk_data]   Package punkt is already up-to-date!\n",
      "[nltk_data] Downloading package punkt to\n",
      "[nltk_data]     /Users/aylinsoykok/nltk_data...\n",
      "[nltk_data]   Package punkt is already up-to-date!\n",
      "[nltk_data] Downloading package punkt to\n",
      "[nltk_data]     /Users/aylinsoykok/nltk_data...\n",
      "[nltk_data]   Package punkt is already up-to-date!\n",
      "[nltk_data] Downloading package punkt to\n",
      "[nltk_data]     /Users/aylinsoykok/nltk_data...\n",
      "[nltk_data]   Package punkt is already up-to-date!\n",
      "[nltk_data] Downloading package punkt to\n",
      "[nltk_data]     /Users/aylinsoykok/nltk_data...\n",
      "[nltk_data]   Package punkt is already up-to-date!\n",
      "[nltk_data] Downloading package punkt to\n",
      "[nltk_data]     /Users/aylinsoykok/nltk_data...\n",
      "[nltk_data]   Package punkt is already up-to-date!\n",
      "[nltk_data] Downloading package punkt to\n",
      "[nltk_data]     /Users/aylinsoykok/nltk_data...\n",
      "[nltk_data]   Package punkt is already up-to-date!\n"
     ]
    }
   ],
   "source": [
    "# Régression Logistique\n",
    "vect_params = {'stop_words': None, 'max_df': 0.5, 'min_df': 2, 'ngram_range': (1, 3), 'binary': True, 'use_idf': True, 'sublinear_tf': True, 'max_features': None}\n",
    "preprocessor = lambda text: remove_tags(transform_uppercase(chiffre_suppression(ponc_suppression(text))))\n",
    "\n",
    "# En maximisant f1 sur Mitterand\n",
    "lr_params_f1, best_score_f1 = best_params_lr(preprocessor,vect_params,f1=True,auc=False)"
   ]
  },
  {
   "cell_type": "code",
   "execution_count": 7,
   "id": "10aae45c",
   "metadata": {},
   "outputs": [
    {
     "name": "stdout",
     "output_type": "stream",
     "text": [
      "Best Score:  0.8932702913044734\n",
      "Best Logistic Regression Params:  {'lr__C': 10, 'lr__penalty': 'l2', 'lr__solver': 'liblinear'}\n"
     ]
    }
   ],
   "source": [
    "# En maximisant roc auc\n",
    "best_score_auc, lr_params_auc = best_params_lr(preprocessor,vect_params,f1=False,auc=True)"
   ]
  },
  {
   "cell_type": "code",
   "execution_count": 8,
   "id": "485ddcc5",
   "metadata": {},
   "outputs": [
    {
     "name": "stdout",
     "output_type": "stream",
     "text": [
      "F1 Score sur Mitterrand (minoritaire): 0.6411103767349637\n",
      "ROC AUC sur Chirac: 0.9063612039510178\n",
      "AP sur Mitterrand (minoritaire): 0.7147973172985861\n"
     ]
    },
    {
     "name": "stderr",
     "output_type": "stream",
     "text": [
      "[nltk_data] Downloading package punkt to\n",
      "[nltk_data]     /Users/aylinsoykok/nltk_data...\n",
      "[nltk_data]   Package punkt is already up-to-date!\n",
      "[nltk_data] Downloading package punkt to\n",
      "[nltk_data]     /Users/aylinsoykok/nltk_data...\n",
      "[nltk_data]   Package punkt is already up-to-date!\n",
      "[nltk_data] Downloading package punkt to\n",
      "[nltk_data]     /Users/aylinsoykok/nltk_data...\n",
      "[nltk_data]   Package punkt is already up-to-date!\n",
      "[nltk_data] Downloading package punkt to\n",
      "[nltk_data]     /Users/aylinsoykok/nltk_data...\n",
      "[nltk_data]   Package punkt is already up-to-date!\n",
      "[nltk_data] Downloading package punkt to\n",
      "[nltk_data]     /Users/aylinsoykok/nltk_data...\n",
      "[nltk_data]   Package punkt is already up-to-date!\n",
      "[nltk_data] Downloading package punkt to\n",
      "[nltk_data]     /Users/aylinsoykok/nltk_data...\n",
      "[nltk_data]   Package punkt is already up-to-date!\n",
      "[nltk_data] Downloading package punkt to\n",
      "[nltk_data]     /Users/aylinsoykok/nltk_data...\n",
      "[nltk_data]   Package punkt is already up-to-date!\n",
      "[nltk_data] Downloading package punkt to\n",
      "[nltk_data]     /Users/aylinsoykok/nltk_data...\n",
      "[nltk_data]   Package punkt is already up-to-date!\n"
     ]
    }
   ],
   "source": [
    "# Test avec les nouvelles paramètres pour le regression logistique et tf-idf\n",
    "preprocessor = lambda text: remove_tags(transform_uppercase(chiffre_suppression(ponc_suppression(text))))\n",
    "vect_params = {'stop_words': None, 'max_df': 0.5, 'min_df': 2, 'ngram_range': (1, 3), 'binary': True, 'use_idf': True, 'sublinear_tf': True, 'max_features': None}\n",
    "model_params = {'C': 10, 'penalty': 'l2', 'solver': 'liblinear'}\n",
    "eval_test(preprocessor=preprocessor, vectorizer=TfidfVectorizer, vect_params=vect_params,\n",
    "model=LogisticRegression, model_params=model_params, over_sample=True)"
   ]
  },
  {
   "cell_type": "markdown",
   "id": "2397f51a",
   "metadata": {},
   "source": [
    "C'est presque la même que ce qu'on a eu avec le test qu'on a fait avant."
   ]
  },
  {
   "cell_type": "code",
   "execution_count": 11,
   "id": "34029e33",
   "metadata": {},
   "outputs": [
    {
     "ename": "KeyboardInterrupt",
     "evalue": "",
     "output_type": "error",
     "traceback": [
      "\u001b[1;31m---------------------------------------------------------------------------\u001b[0m",
      "\u001b[1;31mKeyboardInterrupt\u001b[0m                         Traceback (most recent call last)",
      "Cell \u001b[1;32mIn[11], line 5\u001b[0m\n\u001b[0;32m      2\u001b[0m vect_params \u001b[38;5;241m=\u001b[39m {\u001b[38;5;124m'\u001b[39m\u001b[38;5;124mstop_words\u001b[39m\u001b[38;5;124m'\u001b[39m: \u001b[38;5;28;01mNone\u001b[39;00m, \u001b[38;5;124m'\u001b[39m\u001b[38;5;124mmax_df\u001b[39m\u001b[38;5;124m'\u001b[39m: \u001b[38;5;241m0.5\u001b[39m, \u001b[38;5;124m'\u001b[39m\u001b[38;5;124mmin_df\u001b[39m\u001b[38;5;124m'\u001b[39m: \u001b[38;5;241m2\u001b[39m, \u001b[38;5;124m'\u001b[39m\u001b[38;5;124mngram_range\u001b[39m\u001b[38;5;124m'\u001b[39m: (\u001b[38;5;241m1\u001b[39m, \u001b[38;5;241m3\u001b[39m), \u001b[38;5;124m'\u001b[39m\u001b[38;5;124mbinary\u001b[39m\u001b[38;5;124m'\u001b[39m: \u001b[38;5;28;01mTrue\u001b[39;00m, \u001b[38;5;124m'\u001b[39m\u001b[38;5;124muse_idf\u001b[39m\u001b[38;5;124m'\u001b[39m: \u001b[38;5;28;01mTrue\u001b[39;00m, \u001b[38;5;124m'\u001b[39m\u001b[38;5;124msublinear_tf\u001b[39m\u001b[38;5;124m'\u001b[39m: \u001b[38;5;28;01mTrue\u001b[39;00m, \u001b[38;5;124m'\u001b[39m\u001b[38;5;124mmax_features\u001b[39m\u001b[38;5;124m'\u001b[39m: \u001b[38;5;28;01mNone\u001b[39;00m}\n\u001b[0;32m      4\u001b[0m \u001b[38;5;66;03m# En maximisant f1 sur Mitterand\u001b[39;00m\n\u001b[1;32m----> 5\u001b[0m nb_best_score_f1, nb_params_f1 \u001b[38;5;241m=\u001b[39m \u001b[43mbest_params_nb\u001b[49m\u001b[43m(\u001b[49m\u001b[43mpreprocessor\u001b[49m\u001b[43m,\u001b[49m\u001b[43mvect_params\u001b[49m\u001b[43m,\u001b[49m\u001b[43mf1\u001b[49m\u001b[38;5;241;43m=\u001b[39;49m\u001b[38;5;28;43;01mTrue\u001b[39;49;00m\u001b[43m,\u001b[49m\u001b[43mauc\u001b[49m\u001b[38;5;241;43m=\u001b[39;49m\u001b[38;5;28;43;01mFalse\u001b[39;49;00m\u001b[43m)\u001b[49m\n",
      "File \u001b[1;32m~\\Desktop\\M1\\RITAL\\Projet_TAL\\notebook-semaine1\\reconnaissance_locuteur\\evaluation.py:291\u001b[0m, in \u001b[0;36mbest_params_nb\u001b[1;34m(preprocessor_f, vect_params, f1, auc)\u001b[0m\n\u001b[0;32m    288\u001b[0m     \u001b[38;5;28;01mraise\u001b[39;00m \u001b[38;5;167;01mValueError\u001b[39;00m(\u001b[38;5;124m\"\u001b[39m\u001b[38;5;124mOnly one of f1 or auc must be True.\u001b[39m\u001b[38;5;124m\"\u001b[39m)\n\u001b[0;32m    290\u001b[0m grid \u001b[38;5;241m=\u001b[39m GridSearchCV(mnb_pipeline, grid_params, scoring\u001b[38;5;241m=\u001b[39mcustom_scorer, n_jobs\u001b[38;5;241m=\u001b[39m\u001b[38;5;241m-\u001b[39m\u001b[38;5;241m1\u001b[39m)\n\u001b[1;32m--> 291\u001b[0m \u001b[43mgrid\u001b[49m\u001b[38;5;241;43m.\u001b[39;49m\u001b[43mfit\u001b[49m\u001b[43m(\u001b[49m\u001b[43malltxts_train\u001b[49m\u001b[43m,\u001b[49m\u001b[43m \u001b[49m\u001b[43mlabs_train\u001b[49m\u001b[43m)\u001b[49m\n\u001b[0;32m    292\u001b[0m \u001b[38;5;28mprint\u001b[39m(\u001b[38;5;124m\"\u001b[39m\u001b[38;5;124mBest Score: \u001b[39m\u001b[38;5;124m\"\u001b[39m, grid\u001b[38;5;241m.\u001b[39mbest_score_)\n\u001b[0;32m    293\u001b[0m \u001b[38;5;28mprint\u001b[39m(\u001b[38;5;124m\"\u001b[39m\u001b[38;5;124mBest Naive Bayes Params: \u001b[39m\u001b[38;5;124m\"\u001b[39m, grid\u001b[38;5;241m.\u001b[39mbest_params_)\n",
      "File \u001b[1;32m~\\miniconda3\\Lib\\site-packages\\sklearn\\base.py:1351\u001b[0m, in \u001b[0;36m_fit_context.<locals>.decorator.<locals>.wrapper\u001b[1;34m(estimator, *args, **kwargs)\u001b[0m\n\u001b[0;32m   1344\u001b[0m     estimator\u001b[38;5;241m.\u001b[39m_validate_params()\n\u001b[0;32m   1346\u001b[0m \u001b[38;5;28;01mwith\u001b[39;00m config_context(\n\u001b[0;32m   1347\u001b[0m     skip_parameter_validation\u001b[38;5;241m=\u001b[39m(\n\u001b[0;32m   1348\u001b[0m         prefer_skip_nested_validation \u001b[38;5;129;01mor\u001b[39;00m global_skip_validation\n\u001b[0;32m   1349\u001b[0m     )\n\u001b[0;32m   1350\u001b[0m ):\n\u001b[1;32m-> 1351\u001b[0m     \u001b[38;5;28;01mreturn\u001b[39;00m \u001b[43mfit_method\u001b[49m\u001b[43m(\u001b[49m\u001b[43mestimator\u001b[49m\u001b[43m,\u001b[49m\u001b[43m \u001b[49m\u001b[38;5;241;43m*\u001b[39;49m\u001b[43margs\u001b[49m\u001b[43m,\u001b[49m\u001b[43m \u001b[49m\u001b[38;5;241;43m*\u001b[39;49m\u001b[38;5;241;43m*\u001b[39;49m\u001b[43mkwargs\u001b[49m\u001b[43m)\u001b[49m\n",
      "File \u001b[1;32m~\\miniconda3\\Lib\\site-packages\\sklearn\\model_selection\\_search.py:970\u001b[0m, in \u001b[0;36mBaseSearchCV.fit\u001b[1;34m(self, X, y, **params)\u001b[0m\n\u001b[0;32m    964\u001b[0m     results \u001b[38;5;241m=\u001b[39m \u001b[38;5;28mself\u001b[39m\u001b[38;5;241m.\u001b[39m_format_results(\n\u001b[0;32m    965\u001b[0m         all_candidate_params, n_splits, all_out, all_more_results\n\u001b[0;32m    966\u001b[0m     )\n\u001b[0;32m    968\u001b[0m     \u001b[38;5;28;01mreturn\u001b[39;00m results\n\u001b[1;32m--> 970\u001b[0m \u001b[38;5;28;43mself\u001b[39;49m\u001b[38;5;241;43m.\u001b[39;49m\u001b[43m_run_search\u001b[49m\u001b[43m(\u001b[49m\u001b[43mevaluate_candidates\u001b[49m\u001b[43m)\u001b[49m\n\u001b[0;32m    972\u001b[0m \u001b[38;5;66;03m# multimetric is determined here because in the case of a callable\u001b[39;00m\n\u001b[0;32m    973\u001b[0m \u001b[38;5;66;03m# self.scoring the return type is only known after calling\u001b[39;00m\n\u001b[0;32m    974\u001b[0m first_test_score \u001b[38;5;241m=\u001b[39m all_out[\u001b[38;5;241m0\u001b[39m][\u001b[38;5;124m\"\u001b[39m\u001b[38;5;124mtest_scores\u001b[39m\u001b[38;5;124m\"\u001b[39m]\n",
      "File \u001b[1;32m~\\miniconda3\\Lib\\site-packages\\sklearn\\model_selection\\_search.py:1527\u001b[0m, in \u001b[0;36mGridSearchCV._run_search\u001b[1;34m(self, evaluate_candidates)\u001b[0m\n\u001b[0;32m   1525\u001b[0m \u001b[38;5;28;01mdef\u001b[39;00m \u001b[38;5;21m_run_search\u001b[39m(\u001b[38;5;28mself\u001b[39m, evaluate_candidates):\n\u001b[0;32m   1526\u001b[0m \u001b[38;5;250m    \u001b[39m\u001b[38;5;124;03m\"\"\"Search all candidates in param_grid\"\"\"\u001b[39;00m\n\u001b[1;32m-> 1527\u001b[0m     \u001b[43mevaluate_candidates\u001b[49m\u001b[43m(\u001b[49m\u001b[43mParameterGrid\u001b[49m\u001b[43m(\u001b[49m\u001b[38;5;28;43mself\u001b[39;49m\u001b[38;5;241;43m.\u001b[39;49m\u001b[43mparam_grid\u001b[49m\u001b[43m)\u001b[49m\u001b[43m)\u001b[49m\n",
      "File \u001b[1;32m~\\miniconda3\\Lib\\site-packages\\sklearn\\model_selection\\_search.py:916\u001b[0m, in \u001b[0;36mBaseSearchCV.fit.<locals>.evaluate_candidates\u001b[1;34m(candidate_params, cv, more_results)\u001b[0m\n\u001b[0;32m    908\u001b[0m \u001b[38;5;28;01mif\u001b[39;00m \u001b[38;5;28mself\u001b[39m\u001b[38;5;241m.\u001b[39mverbose \u001b[38;5;241m>\u001b[39m \u001b[38;5;241m0\u001b[39m:\n\u001b[0;32m    909\u001b[0m     \u001b[38;5;28mprint\u001b[39m(\n\u001b[0;32m    910\u001b[0m         \u001b[38;5;124m\"\u001b[39m\u001b[38;5;124mFitting \u001b[39m\u001b[38;5;132;01m{0}\u001b[39;00m\u001b[38;5;124m folds for each of \u001b[39m\u001b[38;5;132;01m{1}\u001b[39;00m\u001b[38;5;124m candidates,\u001b[39m\u001b[38;5;124m\"\u001b[39m\n\u001b[0;32m    911\u001b[0m         \u001b[38;5;124m\"\u001b[39m\u001b[38;5;124m totalling \u001b[39m\u001b[38;5;132;01m{2}\u001b[39;00m\u001b[38;5;124m fits\u001b[39m\u001b[38;5;124m\"\u001b[39m\u001b[38;5;241m.\u001b[39mformat(\n\u001b[0;32m    912\u001b[0m             n_splits, n_candidates, n_candidates \u001b[38;5;241m*\u001b[39m n_splits\n\u001b[0;32m    913\u001b[0m         )\n\u001b[0;32m    914\u001b[0m     )\n\u001b[1;32m--> 916\u001b[0m out \u001b[38;5;241m=\u001b[39m \u001b[43mparallel\u001b[49m\u001b[43m(\u001b[49m\n\u001b[0;32m    917\u001b[0m \u001b[43m    \u001b[49m\u001b[43mdelayed\u001b[49m\u001b[43m(\u001b[49m\u001b[43m_fit_and_score\u001b[49m\u001b[43m)\u001b[49m\u001b[43m(\u001b[49m\n\u001b[0;32m    918\u001b[0m \u001b[43m        \u001b[49m\u001b[43mclone\u001b[49m\u001b[43m(\u001b[49m\u001b[43mbase_estimator\u001b[49m\u001b[43m)\u001b[49m\u001b[43m,\u001b[49m\n\u001b[0;32m    919\u001b[0m \u001b[43m        \u001b[49m\u001b[43mX\u001b[49m\u001b[43m,\u001b[49m\n\u001b[0;32m    920\u001b[0m \u001b[43m        \u001b[49m\u001b[43my\u001b[49m\u001b[43m,\u001b[49m\n\u001b[0;32m    921\u001b[0m \u001b[43m        \u001b[49m\u001b[43mtrain\u001b[49m\u001b[38;5;241;43m=\u001b[39;49m\u001b[43mtrain\u001b[49m\u001b[43m,\u001b[49m\n\u001b[0;32m    922\u001b[0m \u001b[43m        \u001b[49m\u001b[43mtest\u001b[49m\u001b[38;5;241;43m=\u001b[39;49m\u001b[43mtest\u001b[49m\u001b[43m,\u001b[49m\n\u001b[0;32m    923\u001b[0m \u001b[43m        \u001b[49m\u001b[43mparameters\u001b[49m\u001b[38;5;241;43m=\u001b[39;49m\u001b[43mparameters\u001b[49m\u001b[43m,\u001b[49m\n\u001b[0;32m    924\u001b[0m \u001b[43m        \u001b[49m\u001b[43msplit_progress\u001b[49m\u001b[38;5;241;43m=\u001b[39;49m\u001b[43m(\u001b[49m\u001b[43msplit_idx\u001b[49m\u001b[43m,\u001b[49m\u001b[43m \u001b[49m\u001b[43mn_splits\u001b[49m\u001b[43m)\u001b[49m\u001b[43m,\u001b[49m\n\u001b[0;32m    925\u001b[0m \u001b[43m        \u001b[49m\u001b[43mcandidate_progress\u001b[49m\u001b[38;5;241;43m=\u001b[39;49m\u001b[43m(\u001b[49m\u001b[43mcand_idx\u001b[49m\u001b[43m,\u001b[49m\u001b[43m \u001b[49m\u001b[43mn_candidates\u001b[49m\u001b[43m)\u001b[49m\u001b[43m,\u001b[49m\n\u001b[0;32m    926\u001b[0m \u001b[43m        \u001b[49m\u001b[38;5;241;43m*\u001b[39;49m\u001b[38;5;241;43m*\u001b[39;49m\u001b[43mfit_and_score_kwargs\u001b[49m\u001b[43m,\u001b[49m\n\u001b[0;32m    927\u001b[0m \u001b[43m    \u001b[49m\u001b[43m)\u001b[49m\n\u001b[0;32m    928\u001b[0m \u001b[43m    \u001b[49m\u001b[38;5;28;43;01mfor\u001b[39;49;00m\u001b[43m \u001b[49m\u001b[43m(\u001b[49m\u001b[43mcand_idx\u001b[49m\u001b[43m,\u001b[49m\u001b[43m \u001b[49m\u001b[43mparameters\u001b[49m\u001b[43m)\u001b[49m\u001b[43m,\u001b[49m\u001b[43m \u001b[49m\u001b[43m(\u001b[49m\u001b[43msplit_idx\u001b[49m\u001b[43m,\u001b[49m\u001b[43m \u001b[49m\u001b[43m(\u001b[49m\u001b[43mtrain\u001b[49m\u001b[43m,\u001b[49m\u001b[43m \u001b[49m\u001b[43mtest\u001b[49m\u001b[43m)\u001b[49m\u001b[43m)\u001b[49m\u001b[43m \u001b[49m\u001b[38;5;129;43;01min\u001b[39;49;00m\u001b[43m \u001b[49m\u001b[43mproduct\u001b[49m\u001b[43m(\u001b[49m\n\u001b[0;32m    929\u001b[0m \u001b[43m        \u001b[49m\u001b[38;5;28;43menumerate\u001b[39;49m\u001b[43m(\u001b[49m\u001b[43mcandidate_params\u001b[49m\u001b[43m)\u001b[49m\u001b[43m,\u001b[49m\n\u001b[0;32m    930\u001b[0m \u001b[43m        \u001b[49m\u001b[38;5;28;43menumerate\u001b[39;49m\u001b[43m(\u001b[49m\u001b[43mcv\u001b[49m\u001b[38;5;241;43m.\u001b[39;49m\u001b[43msplit\u001b[49m\u001b[43m(\u001b[49m\u001b[43mX\u001b[49m\u001b[43m,\u001b[49m\u001b[43m \u001b[49m\u001b[43my\u001b[49m\u001b[43m,\u001b[49m\u001b[43m \u001b[49m\u001b[38;5;241;43m*\u001b[39;49m\u001b[38;5;241;43m*\u001b[39;49m\u001b[43mrouted_params\u001b[49m\u001b[38;5;241;43m.\u001b[39;49m\u001b[43msplitter\u001b[49m\u001b[38;5;241;43m.\u001b[39;49m\u001b[43msplit\u001b[49m\u001b[43m)\u001b[49m\u001b[43m)\u001b[49m\u001b[43m,\u001b[49m\n\u001b[0;32m    931\u001b[0m \u001b[43m    \u001b[49m\u001b[43m)\u001b[49m\n\u001b[0;32m    932\u001b[0m \u001b[43m\u001b[49m\u001b[43m)\u001b[49m\n\u001b[0;32m    934\u001b[0m \u001b[38;5;28;01mif\u001b[39;00m \u001b[38;5;28mlen\u001b[39m(out) \u001b[38;5;241m<\u001b[39m \u001b[38;5;241m1\u001b[39m:\n\u001b[0;32m    935\u001b[0m     \u001b[38;5;28;01mraise\u001b[39;00m \u001b[38;5;167;01mValueError\u001b[39;00m(\n\u001b[0;32m    936\u001b[0m         \u001b[38;5;124m\"\u001b[39m\u001b[38;5;124mNo fits were performed. \u001b[39m\u001b[38;5;124m\"\u001b[39m\n\u001b[0;32m    937\u001b[0m         \u001b[38;5;124m\"\u001b[39m\u001b[38;5;124mWas the CV iterator empty? \u001b[39m\u001b[38;5;124m\"\u001b[39m\n\u001b[0;32m    938\u001b[0m         \u001b[38;5;124m\"\u001b[39m\u001b[38;5;124mWere there no candidates?\u001b[39m\u001b[38;5;124m\"\u001b[39m\n\u001b[0;32m    939\u001b[0m     )\n",
      "File \u001b[1;32m~\\miniconda3\\Lib\\site-packages\\sklearn\\utils\\parallel.py:67\u001b[0m, in \u001b[0;36mParallel.__call__\u001b[1;34m(self, iterable)\u001b[0m\n\u001b[0;32m     62\u001b[0m config \u001b[38;5;241m=\u001b[39m get_config()\n\u001b[0;32m     63\u001b[0m iterable_with_config \u001b[38;5;241m=\u001b[39m (\n\u001b[0;32m     64\u001b[0m     (_with_config(delayed_func, config), args, kwargs)\n\u001b[0;32m     65\u001b[0m     \u001b[38;5;28;01mfor\u001b[39;00m delayed_func, args, kwargs \u001b[38;5;129;01min\u001b[39;00m iterable\n\u001b[0;32m     66\u001b[0m )\n\u001b[1;32m---> 67\u001b[0m \u001b[38;5;28;01mreturn\u001b[39;00m \u001b[38;5;28;43msuper\u001b[39;49m\u001b[43m(\u001b[49m\u001b[43m)\u001b[49m\u001b[38;5;241;43m.\u001b[39;49m\u001b[38;5;21;43m__call__\u001b[39;49m\u001b[43m(\u001b[49m\u001b[43miterable_with_config\u001b[49m\u001b[43m)\u001b[49m\n",
      "File \u001b[1;32m~\\miniconda3\\Lib\\site-packages\\joblib\\parallel.py:1952\u001b[0m, in \u001b[0;36mParallel.__call__\u001b[1;34m(self, iterable)\u001b[0m\n\u001b[0;32m   1946\u001b[0m \u001b[38;5;66;03m# The first item from the output is blank, but it makes the interpreter\u001b[39;00m\n\u001b[0;32m   1947\u001b[0m \u001b[38;5;66;03m# progress until it enters the Try/Except block of the generator and\u001b[39;00m\n\u001b[0;32m   1948\u001b[0m \u001b[38;5;66;03m# reach the first `yield` statement. This starts the aynchronous\u001b[39;00m\n\u001b[0;32m   1949\u001b[0m \u001b[38;5;66;03m# dispatch of the tasks to the workers.\u001b[39;00m\n\u001b[0;32m   1950\u001b[0m \u001b[38;5;28mnext\u001b[39m(output)\n\u001b[1;32m-> 1952\u001b[0m \u001b[38;5;28;01mreturn\u001b[39;00m output \u001b[38;5;28;01mif\u001b[39;00m \u001b[38;5;28mself\u001b[39m\u001b[38;5;241m.\u001b[39mreturn_generator \u001b[38;5;28;01melse\u001b[39;00m \u001b[38;5;28;43mlist\u001b[39;49m\u001b[43m(\u001b[49m\u001b[43moutput\u001b[49m\u001b[43m)\u001b[49m\n",
      "File \u001b[1;32m~\\miniconda3\\Lib\\site-packages\\joblib\\parallel.py:1595\u001b[0m, in \u001b[0;36mParallel._get_outputs\u001b[1;34m(self, iterator, pre_dispatch)\u001b[0m\n\u001b[0;32m   1592\u001b[0m     \u001b[38;5;28;01myield\u001b[39;00m\n\u001b[0;32m   1594\u001b[0m     \u001b[38;5;28;01mwith\u001b[39;00m \u001b[38;5;28mself\u001b[39m\u001b[38;5;241m.\u001b[39m_backend\u001b[38;5;241m.\u001b[39mretrieval_context():\n\u001b[1;32m-> 1595\u001b[0m         \u001b[38;5;28;01myield from\u001b[39;00m \u001b[38;5;28mself\u001b[39m\u001b[38;5;241m.\u001b[39m_retrieve()\n\u001b[0;32m   1597\u001b[0m \u001b[38;5;28;01mexcept\u001b[39;00m \u001b[38;5;167;01mGeneratorExit\u001b[39;00m:\n\u001b[0;32m   1598\u001b[0m     \u001b[38;5;66;03m# The generator has been garbage collected before being fully\u001b[39;00m\n\u001b[0;32m   1599\u001b[0m     \u001b[38;5;66;03m# consumed. This aborts the remaining tasks if possible and warn\u001b[39;00m\n\u001b[0;32m   1600\u001b[0m     \u001b[38;5;66;03m# the user if necessary.\u001b[39;00m\n\u001b[0;32m   1601\u001b[0m     \u001b[38;5;28mself\u001b[39m\u001b[38;5;241m.\u001b[39m_exception \u001b[38;5;241m=\u001b[39m \u001b[38;5;28;01mTrue\u001b[39;00m\n",
      "File \u001b[1;32m~\\miniconda3\\Lib\\site-packages\\joblib\\parallel.py:1707\u001b[0m, in \u001b[0;36mParallel._retrieve\u001b[1;34m(self)\u001b[0m\n\u001b[0;32m   1702\u001b[0m \u001b[38;5;66;03m# If the next job is not ready for retrieval yet, we just wait for\u001b[39;00m\n\u001b[0;32m   1703\u001b[0m \u001b[38;5;66;03m# async callbacks to progress.\u001b[39;00m\n\u001b[0;32m   1704\u001b[0m \u001b[38;5;28;01mif\u001b[39;00m ((\u001b[38;5;28mlen\u001b[39m(\u001b[38;5;28mself\u001b[39m\u001b[38;5;241m.\u001b[39m_jobs) \u001b[38;5;241m==\u001b[39m \u001b[38;5;241m0\u001b[39m) \u001b[38;5;129;01mor\u001b[39;00m\n\u001b[0;32m   1705\u001b[0m     (\u001b[38;5;28mself\u001b[39m\u001b[38;5;241m.\u001b[39m_jobs[\u001b[38;5;241m0\u001b[39m]\u001b[38;5;241m.\u001b[39mget_status(\n\u001b[0;32m   1706\u001b[0m         timeout\u001b[38;5;241m=\u001b[39m\u001b[38;5;28mself\u001b[39m\u001b[38;5;241m.\u001b[39mtimeout) \u001b[38;5;241m==\u001b[39m TASK_PENDING)):\n\u001b[1;32m-> 1707\u001b[0m     time\u001b[38;5;241m.\u001b[39msleep(\u001b[38;5;241m0.01\u001b[39m)\n\u001b[0;32m   1708\u001b[0m     \u001b[38;5;28;01mcontinue\u001b[39;00m\n\u001b[0;32m   1710\u001b[0m \u001b[38;5;66;03m# We need to be careful: the job list can be filling up as\u001b[39;00m\n\u001b[0;32m   1711\u001b[0m \u001b[38;5;66;03m# we empty it and Python list are not thread-safe by\u001b[39;00m\n\u001b[0;32m   1712\u001b[0m \u001b[38;5;66;03m# default hence the use of the lock\u001b[39;00m\n",
      "\u001b[1;31mKeyboardInterrupt\u001b[0m: "
     ]
    }
   ],
   "source": [
    "# Naive Bayes\n",
    "vect_params = {'stop_words': None, 'max_df': 0.5, 'min_df': 2, 'ngram_range': (1, 3), 'binary': True, 'use_idf': True, 'sublinear_tf': True, 'max_features': None}\n",
    "\n",
    "# En maximisant f1 sur Mitterand\n",
    "nb_best_score_f1, nb_params_f1 = best_params_nb(preprocessor,vect_params,f1=True,auc=False)"
   ]
  },
  {
   "cell_type": "code",
   "execution_count": 5,
   "id": "543dff31",
   "metadata": {},
   "outputs": [
    {
     "name": "stdout",
     "output_type": "stream",
     "text": [
      "Best Score:  0.895120168369494\n",
      "Best Naive Bayes Params:  {'mnb__alpha': 1.3, 'mnb__fit_prior': True}\n"
     ]
    }
   ],
   "source": [
    "# En maximisant roc auc\n",
    "nb_best_score_auc, nb_params_auc = best_params_nb(preprocessor,vect_params,f1=False,auc=True)"
   ]
  },
  {
   "cell_type": "code",
   "execution_count": 6,
   "id": "b8982428",
   "metadata": {},
   "outputs": [
    {
     "name": "stdout",
     "output_type": "stream",
     "text": [
      "F1 Score sur Mitterrand (minoritaire): 0.577560975609756\n",
      "ROC AUC sur Chirac: 0.908147126335746\n",
      "AP sur Mitterrand (minoritaire): 0.7146147036339288\n"
     ]
    }
   ],
   "source": [
    "# Test avec Naive Bayes\n",
    "preprocessor = lambda text: remove_tags(transform_uppercase(chiffre_suppression(ponc_suppression(text))))\n",
    "vect_params = {'stop_words': None, 'max_df': 0.5, 'min_df': 2, 'ngram_range': (1, 3), 'binary': True, 'use_idf': True, 'sublinear_tf': True, 'max_features': None}\n",
    "model_params = {'alpha': 0.5, 'fit_prior': True}\n",
    "eval_test(preprocessor=preprocessor, vectorizer=TfidfVectorizer, vect_params=vect_params,\n",
    "model=MultinomialNB, model_params=model_params, over_sample=True)"
   ]
  },
  {
   "cell_type": "code",
   "execution_count": 7,
   "id": "e9ee450f",
   "metadata": {},
   "outputs": [
    {
     "name": "stdout",
     "output_type": "stream",
     "text": [
      "F1 Score sur Mitterrand (minoritaire): 0.5466666666666666\n",
      "ROC AUC sur Chirac: 0.909089798220537\n",
      "AP sur Mitterrand (minoritaire): 0.7143688766452229\n"
     ]
    },
    {
     "name": "stderr",
     "output_type": "stream",
     "text": [
      "[nltk_data] Downloading package punkt to\n",
      "[nltk_data]     /Users/aylinsoykok/nltk_data...\n",
      "[nltk_data]   Package punkt is already up-to-date!\n",
      "[nltk_data] Downloading package punkt to\n",
      "[nltk_data]     /Users/aylinsoykok/nltk_data...\n",
      "[nltk_data]   Package punkt is already up-to-date!\n",
      "[nltk_data] Downloading package punkt to\n",
      "[nltk_data]     /Users/aylinsoykok/nltk_data...\n",
      "[nltk_data]   Package punkt is already up-to-date!\n",
      "[nltk_data] Downloading package punkt to\n",
      "[nltk_data]     /Users/aylinsoykok/nltk_data...\n",
      "[nltk_data]   Package punkt is already up-to-date!\n",
      "[nltk_data] Downloading package punkt to\n",
      "[nltk_data]     /Users/aylinsoykok/nltk_data...\n",
      "[nltk_data]   Package punkt is already up-to-date!\n",
      "[nltk_data] Downloading package punkt to\n",
      "[nltk_data]     /Users/aylinsoykok/nltk_data...\n",
      "[nltk_data]   Package punkt is already up-to-date!\n",
      "[nltk_data] Downloading package punkt to\n",
      "[nltk_data]     /Users/aylinsoykok/nltk_data...\n",
      "[nltk_data]   Package punkt is already up-to-date!\n",
      "[nltk_data] Downloading package punkt to\n",
      "[nltk_data]     /Users/aylinsoykok/nltk_data...\n",
      "[nltk_data]   Package punkt is already up-to-date!\n"
     ]
    }
   ],
   "source": [
    "# Test 2 avec Naive Bayes\n",
    "preprocessor = lambda text: remove_tags(transform_uppercase(chiffre_suppression(ponc_suppression(text))))\n",
    "vect_params = {'stop_words': None, 'max_df': 0.5, 'min_df': 2, 'ngram_range': (1, 3), 'binary': True, 'use_idf': True, 'sublinear_tf': True, 'max_features': None}\n",
    "model_params = {'alpha': 1.3, 'fit_prior': True}\n",
    "eval_test(preprocessor=preprocessor, vectorizer=TfidfVectorizer, vect_params=vect_params,\n",
    "model=MultinomialNB, model_params=model_params, over_sample=True)"
   ]
  },
  {
   "cell_type": "markdown",
   "id": "7bc32ea1",
   "metadata": {},
   "source": [
    "Les résultats avec NB sont moins biens que la regression logistique."
   ]
  },
  {
   "cell_type": "code",
   "execution_count": 5,
   "id": "57e9dddf",
   "metadata": {},
   "outputs": [
    {
     "name": "stdout",
     "output_type": "stream",
     "text": [
      "Best Score:  0.48326117719998635\n",
      "Best XGBoost Params:  {'xgb__subsample': 1.0, 'xgb__min_child_weight': 5, 'xgb__max_depth': 5, 'xgb__gamma': 1.5, 'xgb__colsample_bytree': 0.6}\n"
     ]
    }
   ],
   "source": [
    "# XGBoost\n",
    "preprocessor = lambda text: remove_tags(transform_uppercase(chiffre_suppression(ponc_suppression(text))))\n",
    "vect_params = {'stop_words': None, 'max_df': 0.5, 'min_df': 2, 'ngram_range': (1, 3), 'binary': True, 'use_idf': True, 'sublinear_tf': True, 'max_features': None}\n",
    "\n",
    "# En maximisant f1 sur Mitterand\n",
    "xg_best_score_f1, xg_params_f1 = best_params_xgb(preprocessor,vect_params,f1=True,auc=False)"
   ]
  },
  {
   "cell_type": "code",
   "execution_count": 6,
   "id": "09229353",
   "metadata": {},
   "outputs": [
    {
     "name": "stdout",
     "output_type": "stream",
     "text": [
      "Best Score:  0.831587573751312\n",
      "Best XGBoost Params:  {'xgb__subsample': 1.0, 'xgb__min_child_weight': 5, 'xgb__max_depth': 5, 'xgb__gamma': 1.5, 'xgb__colsample_bytree': 0.6}\n"
     ]
    }
   ],
   "source": [
    "# En maximisant roc auc\n",
    "xg_best_score_auc, xg_params_auc = best_params_xgb(preprocessor,vect_params,f1=False,auc=True)"
   ]
  },
  {
   "cell_type": "code",
   "execution_count": 4,
   "id": "05c5a0d5",
   "metadata": {},
   "outputs": [
    {
     "name": "stdout",
     "output_type": "stream",
     "text": [
      "F1 Score sur Mitterrand (minoritaire): 0.48168542015800814\n",
      "ROC AUC sur Chirac: 0.8375408623223584\n",
      "AP sur Mitterrand (minoritaire): 0.7362307998735431\n"
     ]
    }
   ],
   "source": [
    "# Test avec Xgboost\n",
    "preprocessor = lambda text: remove_tags(transform_uppercase(chiffre_suppression(ponc_suppression(text))))\n",
    "vect_params = {'stop_words': None, 'max_df': 0.5, 'min_df': 2, 'ngram_range': (1, 3), 'binary': True, 'use_idf': True, 'sublinear_tf': True, 'max_features': None}\n",
    "model_params = {'subsample': 1.0, 'min_child_weight': 5, 'max_depth': 5, 'gamma': 1.5, 'colsample_bytree': 0.6}\n",
    "eval_test(preprocessor=preprocessor, vectorizer=TfidfVectorizer, vect_params=vect_params,\n",
    "model=xgb.XGBClassifier, model_params=model_params, over_sample=True)"
   ]
  },
  {
   "cell_type": "code",
   "execution_count": 9,
   "id": "39cd3401",
   "metadata": {},
   "outputs": [
    {
     "name": "stderr",
     "output_type": "stream",
     "text": [
      "/Users/aylinsoykok/opt/anaconda3/lib/python3.8/site-packages/sklearn/svm/_classes.py:32: FutureWarning: The default value of `dual` will change from `True` to `'auto'` in 1.5. Set the value of `dual` explicitly to suppress the warning.\n",
      "  warnings.warn(\n"
     ]
    },
    {
     "name": "stdout",
     "output_type": "stream",
     "text": [
      "F1 Score sur Mitterrand (minoritaire): 0.6528169014084507\n"
     ]
    }
   ],
   "source": [
    "# Test avec SVM\n",
    "preprocessor = lambda text: remove_tags(transform_uppercase(chiffre_suppression(ponc_suppression(text))))\n",
    "vect_params = {'stop_words': None, 'ngram_range': (1, 3), 'binary': True, 'use_idf': True, 'sublinear_tf': True, 'max_features': None}\n",
    "model_params = {'random_state': 42}\n",
    "eval_test(preprocessor=preprocessor, vectorizer=TfidfVectorizer, vect_params=vect_params,\n",
    "model=LinearSVC, model_params=model_params, over_sample=True)"
   ]
  },
  {
   "cell_type": "markdown",
   "id": "d6a93fbf",
   "metadata": {},
   "source": [
    "LinearSVC seems promising"
   ]
  },
  {
   "cell_type": "code",
   "execution_count": null,
   "id": "bfd42f11",
   "metadata": {},
   "outputs": [],
   "source": [
    "# Trouver les meilleures paramètres pour le tf-idf avec SVM\n",
    "vect_params = {\n",
    "        'stop_words': [stopwords.words('french'), None],\n",
    "        'max_df': [0.5, 0.75, 1.0], \n",
    "        'min_df': [1, 2, 3, 5], \n",
    "        'ngram_range': [(1, 3), (2, 3)], \n",
    "        'binary': [True, False],\n",
    "        'use_idf': [True, False],\n",
    "        'sublinear_tf': [True, False],\n",
    "        'max_features': [None, 1000, 5000, 10000]\n",
    "}\n",
    "\n",
    "model_params_svm = {'random_state': 42, 'dual': True} # on met dual car sinon il y a une warning\n",
    "preprocessor = lambda text: remove_tags(transform_uppercase(chiffre_suppression(ponc_suppression(text))))\n",
    "new_vect_params_svm, new_best_score_svm = find_best_params(preprocessor=preprocessor,vectorizer=TfidfVectorizer,vect_params=vect_params,\n",
    "model=LinearSVC,model_params=model_params_svm)\n",
    "print(\"vect params avec svm:\",new_vect_params_svm)\n",
    "print(\"score:\",new_best_score_svm)"
   ]
  },
  {
   "cell_type": "markdown",
   "id": "8413255e",
   "metadata": {},
   "source": [
    " ### ---------------------"
   ]
  },
  {
   "cell_type": "code",
   "execution_count": null,
   "id": "1f961f55",
   "metadata": {},
   "outputs": [],
   "source": []
  },
  {
   "cell_type": "code",
   "execution_count": null,
   "id": "3f890f72",
   "metadata": {},
   "outputs": [],
   "source": []
  }
 ],
 "metadata": {
  "kernelspec": {
   "display_name": "Python 3",
   "language": "python",
   "name": "python3"
  },
  "language_info": {
   "codemirror_mode": {
    "name": "ipython",
    "version": 3
   },
   "file_extension": ".py",
   "mimetype": "text/x-python",
   "name": "python",
   "nbconvert_exporter": "python",
   "pygments_lexer": "ipython3",
   "version": "3.11.5"
  }
 },
 "nbformat": 4,
 "nbformat_minor": 5
}
